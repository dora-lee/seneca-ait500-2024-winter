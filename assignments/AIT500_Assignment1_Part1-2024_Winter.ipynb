{
  "cells": [
    {
      "cell_type": "markdown",
      "metadata": {
        "id": "BN1KAbxLoJq1"
      },
      "source": [
        "# AIT500 - Assignment 1 - Part 1\n",
        "\n",
        "## Objective\n",
        "\n",
        "During Assignment 1 - Part 1, you will demonstrate steps needed for data collection, data cleaning, and data transformation in examine a [Pokemon](https://en.wikipedia.org/wiki/Pok%C3%A9mon) dataset and thoroughly understand the characteristics and meaning of its data fields.\n",
        "\n",
        "Part 1 is preparation to use this dataset to determine if it's possible to predict the type of a Pokemon given its statistics.  In Part 2, you will expand analysis to classify a Pokemon\n",
        "\n",
        "\n",
        "## Assignment Instructions\n",
        "\n",
        "You will use Colab for this assignment.  Download this notebook and use the [Colab](https://colab.research.google.com/) notebook environment to build your solutions\n",
        "\n",
        "\n",
        "1. Read the [CSC120 Pokemon Dataset Description](https://www2.cs.arizona.edu/classes/cs120/fall17/ASSIGNMENTS/assg02/pokemon.html)\n",
        "1. Describe the dataset format and justify/explain the method you will use to collect the data\n",
        "1. Download the CSC120 Pokemon dataset [here](https://www2.cs.arizona.edu/classes/cs120/fall17/ASSIGNMENTS/assg02/Pokemon.csv)\n",
        "1. Load data into a pandas dataframe\n",
        "1. Use 3 different methods involving pandas functions to show information and statistics about the CSC120 Pokemon dataset and its fields.  \n",
        "1. Data analysis: Make use of aggregation or data manipulation functions in pandas to:\n",
        "  1. Show the top 5 Pokemon Type1's that have highest average HP.\n",
        "  1. Show the bottom 5 Pokemon Type1's that have lowest average Total strength.\n",
        "  1. Show the bottom 5 Pokemon Type1's the fewest number of Pokemons.\n",
        "  1. Show the top 5 Pokemons that have highest Attack.\n",
        "  1. Show the 5 Pokemons that have the 6th, 7th, 8th, 9th, 10th highest Special Attack.\n",
        "  1. Show the Pokemon having the second highest HP in the `Rock`, `Ghost`, `Ice`, `Dragon` and `Flying` Type1's.\n",
        "  1. **Note:** Your output for each of the above will show only the needed information (ie only show 5 rows of data)\n",
        "  1. **Bonus**: show all of the above in a new dataframe with each aggregation in its own column using appropriate column headings.  Display the dataframe so that text in all fields is readable.  If dataframe is too wide, it's OK to use scrollbar\n",
        "1. Data visualization: Explore example visualizations with tools such as [seaborn](https://seaborn.pydata.org/tutorial/categorical.html),  [matplotlib](https://matplotlib.org/stable/gallery/index.html), or [pandas](https://pandas.pydata.org/docs/user_guide/visualization.html)\n",
        "  1. Create a chart to visualize each of the six results in the above data analysis section.  Label your axis, include a title. **Use a different charting method for each aggregation** (ex: horizontal bar chart, vertical bar chart, line chart, etc)\n",
        "    1. At least 2 charts must use the seaborn library.  \n",
        "    1. At least 2 charts must use the matplotlib library.  \n",
        "    1. At least 2 charts must use plotting via pandas\n",
        "  1. Provide a description of something you can interpret from each chart\n",
        "1. Visualizing Individual Pokemon Statistics\n",
        "  1. Create a scatter matrix showing only its base numerical statistics ( 'HP', 'Attack', 'Defense', 'Sp. Atk', 'Sp. Def', 'Speed')\n",
        "  1. Recreate the above scatter matrix and use a different colour to represent each Pokemon's type.  Use the `Type 1` field.  Ex: Grass, Fire, Bug, etc are different Type1's and should be shown in the scatter matrix charts in a different colour\n",
        "  1. Provide 3 observations or interpretations derived from the scatter matrix\n",
        "  1. Describe strengths or weakness of the scatter matrix plots to help you identify what class a Pokemon is in\n",
        "1. Often, simlar datasets are available from multiple sources\n",
        "In this section, you will download Kaggle's version of the dataset for comparison with the CSC120 version\n",
        "  1. Read the [Kaggle Pokemon Dataset Description](https://www.kaggle.com/datasets/abcsds/pokemon) and download the data locally\n",
        "  1. Load Kaggle Pokemon data into a pandas dataframe\n",
        "  1. Use 3 different methods involving pandas functions to show information and statistics about the Kaggle Pokemon dataset and its fields.  **Note:** use approaches different those for the the CSC120 dataset above.\n",
        "  1. Compare the two Pokemon datasets: Find and describe differences  (if any) between the two datasets.  Use any method(s) you like and show code used to to confirm or refute the presence of data differences. Show examples of any differences you find.\n",
        "\n",
        "Once your lab is completed, download your notebook **with all cells evaluated** to the Classwork section of the Course Notebook\n",
        "\n",
        "\n",
        "\n",
        "## Datasets\n",
        "\n",
        "You will work with these datasets in Assignment 1 - Part 1\n",
        "1. [CSC120 Pokemon Dataset](https://www2.cs.arizona.edu/classes/cs120/fall17/ASSIGNMENTS/assg02/pokemon.html)\n",
        "1. [Kaggle Pokemon Dataset](https://www.kaggle.com/datasets/abcsds/pokemon)\n",
        "\n",
        "### Pokemon Dataset Description\n",
        "\n",
        "The Pokemon Dataset is a compilation of data for each Pokémon from the famous [video game](https://en.wikipedia.org/wiki/Pok%C3%A9mon_(video_game_series)) and [TV series](https://www.pokemon.com/us). It includes information like the Pokémon's type (Water, Fire, Grass, etc.), its various statistics (HP, Attack, Defense, etc.), and other characteristics.\n"
      ]
    },
    {
      "cell_type": "code",
      "execution_count": 1,
      "metadata": {
        "colab": {
          "base_uri": "https://localhost:8080/",
          "height": 17
        },
        "id": "_-FkXaL23hhe",
        "outputId": "4f1b81a2-7632-4cc7-ffea-c7ff8241af06"
      },
      "outputs": [
        {
          "output_type": "display_data",
          "data": {
            "text/plain": [
              "<IPython.core.display.HTML object>"
            ],
            "text/html": [
              "<style>.container { width:100% !important; }</style>"
            ]
          },
          "metadata": {}
        }
      ],
      "source": [
        "# increase Jupyter cell width, with Raspberry Pi\n",
        "from IPython.display import display, HTML\n",
        "display(HTML(\"<style>.container { width:100% !important; }</style>\"))"
      ]
    },
    {
      "cell_type": "markdown",
      "metadata": {
        "id": "oG8dtpVPsEbD"
      },
      "source": [
        "# Setup Libraries"
      ]
    },
    {
      "cell_type": "code",
      "execution_count": 2,
      "metadata": {
        "colab": {
          "base_uri": "https://localhost:8080/",
          "height": 36
        },
        "id": "WWgOxummoA_Y",
        "outputId": "90eb37dd-a66f-4dda-a67a-0d49491d33b2"
      },
      "outputs": [
        {
          "output_type": "execute_result",
          "data": {
            "text/plain": [
              "'/content'"
            ],
            "application/vnd.google.colaboratory.intrinsic+json": {
              "type": "string"
            }
          },
          "metadata": {},
          "execution_count": 2
        }
      ],
      "source": [
        "import pandas as pd\n",
        "import matplotlib.pyplot as plt # plotting library\n",
        "import os\n",
        "from PIL import Image\n",
        "\n",
        "import json\n",
        "import requests\n",
        "\n",
        "import seaborn as sns\n",
        "import numpy as np\n",
        "import re\n",
        "from scipy.io.arff import loadarff\n",
        "\n",
        "os.getcwd()"
      ]
    },
    {
      "cell_type": "markdown",
      "source": [
        "# Setup Google Drive access to API keys"
      ],
      "metadata": {
        "id": "6QQidYIQY97m"
      }
    },
    {
      "cell_type": "code",
      "source": [
        "#@markdown This cell mounts `API_Keys` directory containing your API keys for use with Colab\n",
        "\n",
        "#@markdown connect to drive for API keys stored in `My Drive/Colab Notebooks/API_Keys` <br>\n",
        "\n",
        "#@markdown 1) mount google drive `Colab Notebooks/API_Keys/` to local path `/content/notebooks`\n",
        "\n",
        "# import google.colab.auth\n",
        "# google.colab.auth.authenticate_user()\n",
        "\n",
        "import os, sys\n",
        "from google.colab import drive\n",
        "drive.mount('/content/mnt')\n",
        "nb_path = '/content/notebooks'\n",
        "os.symlink('/content/mnt/My Drive/Colab Notebooks', nb_path)\n",
        "sys.path.insert(0, nb_path)  # or append(nb_path)\n"
      ],
      "metadata": {
        "id": "uOQDBLlqXZdX",
        "colab": {
          "base_uri": "https://localhost:8080/"
        },
        "outputId": "9a7f7c95-7c31-4a8d-fdad-8dc8ca854c5b"
      },
      "execution_count": 3,
      "outputs": [
        {
          "output_type": "stream",
          "name": "stdout",
          "text": [
            "Mounted at /content/mnt\n"
          ]
        }
      ]
    },
    {
      "cell_type": "code",
      "source": [],
      "metadata": {
        "id": "PyCVe2pJk9WK"
      },
      "execution_count": null,
      "outputs": []
    },
    {
      "cell_type": "markdown",
      "source": [
        "# Setup Colab and Kaggle API Keys"
      ],
      "metadata": {
        "id": "NDfNCkg7GPjk"
      }
    },
    {
      "cell_type": "code",
      "source": [
        "#@markdown This cell installs kaggle package and links your `API_Keys/kaggle.json` key for local use within Colab\n",
        "\n",
        "#@markdown 1) create and save your kaggle API key in a file named `kaggle.json`<br> 2) save the file to your Google Drive Colab Notebooks folder:  `Colab Notebooks/API_Keys/kaggle.json`\n",
        "\n",
        "SETUP_KAGGLE=True #@param True or False\n",
        "if(SETUP_KAGGLE):\n",
        "  !sudo pip install kaggle\n",
        "\n",
        "  !mkdir ~/.kaggle\n",
        "  !ln -s /content/notebooks/API_Keys/kaggle.json ~/.kaggle/\n",
        "  !ls -al ~/.kaggle/\n"
      ],
      "metadata": {
        "id": "Qlvt7xfwk9RZ",
        "colab": {
          "base_uri": "https://localhost:8080/"
        },
        "outputId": "2af30376-01d1-4e70-970c-e10c88d4364c"
      },
      "execution_count": 5,
      "outputs": [
        {
          "output_type": "stream",
          "name": "stdout",
          "text": [
            "Requirement already satisfied: kaggle in /usr/local/lib/python3.10/dist-packages (1.5.16)\n",
            "Requirement already satisfied: six>=1.10 in /usr/local/lib/python3.10/dist-packages (from kaggle) (1.16.0)\n",
            "Requirement already satisfied: certifi in /usr/local/lib/python3.10/dist-packages (from kaggle) (2024.2.2)\n",
            "Requirement already satisfied: python-dateutil in /usr/local/lib/python3.10/dist-packages (from kaggle) (2.8.2)\n",
            "Requirement already satisfied: requests in /usr/local/lib/python3.10/dist-packages (from kaggle) (2.31.0)\n",
            "Requirement already satisfied: tqdm in /usr/local/lib/python3.10/dist-packages (from kaggle) (4.66.2)\n",
            "Requirement already satisfied: python-slugify in /usr/local/lib/python3.10/dist-packages (from kaggle) (8.0.4)\n",
            "Requirement already satisfied: urllib3 in /usr/local/lib/python3.10/dist-packages (from kaggle) (2.0.7)\n",
            "Requirement already satisfied: bleach in /usr/local/lib/python3.10/dist-packages (from kaggle) (6.1.0)\n",
            "Requirement already satisfied: webencodings in /usr/local/lib/python3.10/dist-packages (from bleach->kaggle) (0.5.1)\n",
            "Requirement already satisfied: text-unidecode>=1.3 in /usr/local/lib/python3.10/dist-packages (from python-slugify->kaggle) (1.3)\n",
            "Requirement already satisfied: charset-normalizer<4,>=2 in /usr/local/lib/python3.10/dist-packages (from requests->kaggle) (3.3.2)\n",
            "Requirement already satisfied: idna<4,>=2.5 in /usr/local/lib/python3.10/dist-packages (from requests->kaggle) (3.6)\n",
            "mkdir: cannot create directory ‘/root/.kaggle’: File exists\n",
            "ln: failed to create symbolic link '/root/.kaggle/kaggle.json': File exists\n",
            "total 12\n",
            "drwxr-xr-x 2 root root 4096 Mar 13 20:52 .\n",
            "drwx------ 1 root root 4096 Mar 13 20:52 ..\n",
            "lrwxrwxrwx 1 root root   39 Mar 13 20:52 kaggle.json -> /content/notebooks/API_Keys/kaggle.json\n"
          ]
        }
      ]
    },
    {
      "cell_type": "markdown",
      "metadata": {
        "id": "NGdAxyy03hhj"
      },
      "source": [
        "# Pokemon Dataset from CSC120"
      ]
    },
    {
      "cell_type": "markdown",
      "metadata": {
        "id": "-LhG4dPg4bs-"
      },
      "source": [
        "## Pokemon CSC120 - Q2\n",
        "\n",
        "<<< your written observations here, use markdown where appropriate >>>"
      ]
    },
    {
      "cell_type": "markdown",
      "metadata": {
        "id": "vfHJbk299pGk"
      },
      "source": [
        "## Pokemon CSC120 - Q3\n",
        "\n",
        "save the raw file to this file: `csc120_pokemon_data.csv`"
      ]
    },
    {
      "cell_type": "code",
      "execution_count": null,
      "metadata": {
        "id": "EPeyy7xX9DIk"
      },
      "outputs": [],
      "source": [
        "# your code to download dataset here, add more cells if needed.  Use comments to explain your code"
      ]
    },
    {
      "cell_type": "code",
      "source": [
        "save_csc120_pokemon_raw_filename = 'csc120_pokemon_data.csv'"
      ],
      "metadata": {
        "id": "U1NoAJdvkog3"
      },
      "execution_count": null,
      "outputs": []
    },
    {
      "cell_type": "code",
      "execution_count": null,
      "metadata": {
        "id": "pvosYP6C3hhk"
      },
      "outputs": [],
      "source": [
        "# Get Pokemon dataset\n",
        "\n",
        "# your code here, add more cells if needed.  Use comments to explain your code"
      ]
    },
    {
      "cell_type": "code",
      "execution_count": null,
      "metadata": {
        "id": "jS21ZoXR3hhk"
      },
      "outputs": [],
      "source": [
        "# show first 10 lines of file\n",
        "\n",
        "# your code here, add more cells if needed.  Use comments to explain your code"
      ]
    },
    {
      "cell_type": "markdown",
      "metadata": {
        "id": "GB82mbQf9i4F"
      },
      "source": [
        "## Pokemon CSC120 - Q4\n",
        "\n",
        "load data into dataframe `df_pokemon_csc`"
      ]
    },
    {
      "cell_type": "code",
      "execution_count": null,
      "metadata": {
        "id": "UfT5597s3hhm"
      },
      "outputs": [],
      "source": [
        "# your code here, add more cells if needed.  Use comments to explain your code"
      ]
    },
    {
      "cell_type": "markdown",
      "source": [
        "## Pokemon CSC120 - Q5\n",
        "\n",
        "Use 3 different methods involving pandas functions to show information and statistics about the CSC120 Pokemon dataset and its fields."
      ],
      "metadata": {
        "id": "jdDx7GKZlOT3"
      }
    },
    {
      "cell_type": "code",
      "execution_count": null,
      "metadata": {
        "id": "egjWgn12-cOE"
      },
      "outputs": [],
      "source": [
        "# your code here, add more cells if needed.  Use comments to explain your code"
      ]
    },
    {
      "cell_type": "markdown",
      "source": [
        "## Pokemon CSC120 - Q6.1\n",
        "\n"
      ],
      "metadata": {
        "id": "ztM9TJuF5DFe"
      }
    },
    {
      "cell_type": "code",
      "execution_count": null,
      "metadata": {
        "id": "YVA-G2Hq5DFn"
      },
      "outputs": [],
      "source": [
        "# your code here, add more cells if needed.  Use comments to explain your code"
      ]
    },
    {
      "cell_type": "markdown",
      "source": [
        "## Pokemon CSC120 - Q6.2\n",
        "\n"
      ],
      "metadata": {
        "id": "zmRtiIlR5DL6"
      }
    },
    {
      "cell_type": "code",
      "execution_count": null,
      "metadata": {
        "id": "gUsvZmUZ5DL6"
      },
      "outputs": [],
      "source": [
        "# your code here, add more cells if needed.  Use comments to explain your code"
      ]
    },
    {
      "cell_type": "markdown",
      "source": [
        "## Pokemon CSC120 - Q6.3\n"
      ],
      "metadata": {
        "id": "laOAiH_05DQh"
      }
    },
    {
      "cell_type": "code",
      "execution_count": null,
      "metadata": {
        "id": "c5z7y7t85DQi"
      },
      "outputs": [],
      "source": [
        "# your code here, add more cells if needed.  Use comments to explain your code"
      ]
    },
    {
      "cell_type": "markdown",
      "source": [
        "## Pokemon CSC120 - Q6.4\n"
      ],
      "metadata": {
        "id": "A7rmRP-f5N8d"
      }
    },
    {
      "cell_type": "code",
      "execution_count": null,
      "metadata": {
        "id": "jryulUjB5N8d"
      },
      "outputs": [],
      "source": [
        "# your code here, add more cells if needed.  Use comments to explain your code"
      ]
    },
    {
      "cell_type": "markdown",
      "source": [
        "## Pokemon CSC120 - Q6.5\n"
      ],
      "metadata": {
        "id": "iGCFGZKf5ONq"
      }
    },
    {
      "cell_type": "code",
      "execution_count": null,
      "metadata": {
        "id": "Yj5XPSqO5ONq"
      },
      "outputs": [],
      "source": [
        "# your code here, add more cells if needed.  Use comments to explain your code"
      ]
    },
    {
      "cell_type": "markdown",
      "source": [
        "## Pokemon CSC120 - Q6.6\n"
      ],
      "metadata": {
        "id": "RGvU3trn5OUG"
      }
    },
    {
      "cell_type": "code",
      "execution_count": null,
      "metadata": {
        "id": "ItxXNtkx5OUH"
      },
      "outputs": [],
      "source": [
        "# your code here, add more cells if needed.  Use comments to explain your code"
      ]
    },
    {
      "cell_type": "markdown",
      "source": [
        "## Pokemon CSC120 - Q6-Bonus\n"
      ],
      "metadata": {
        "id": "_RmRWdM25TmT"
      }
    },
    {
      "cell_type": "code",
      "execution_count": null,
      "metadata": {
        "id": "R2woHVAi5Tme"
      },
      "outputs": [],
      "source": [
        "# your code here, add more cells if needed.  Use comments to explain your code"
      ]
    },
    {
      "cell_type": "markdown",
      "source": [
        "## Pokemon CSC120 - Q7.1a - Seaborn Chart #1\n"
      ],
      "metadata": {
        "id": "O_t6AksN5ZhT"
      }
    },
    {
      "cell_type": "code",
      "execution_count": null,
      "metadata": {
        "id": "hKZelBl75ZhU"
      },
      "outputs": [],
      "source": [
        "# your code here, add more cells if needed.  Use comments to explain your code"
      ]
    },
    {
      "cell_type": "markdown",
      "source": [
        "## Pokemon CSC120 - Q7.1b - Seaborn Chart #2\n"
      ],
      "metadata": {
        "id": "bBnYc-EY5ZtR"
      }
    },
    {
      "cell_type": "code",
      "execution_count": null,
      "metadata": {
        "id": "ksO-o3-F5ZtS"
      },
      "outputs": [],
      "source": [
        "# your code here, add more cells if needed.  Use comments to explain your code"
      ]
    },
    {
      "cell_type": "markdown",
      "source": [
        "## Pokemon CSC120 - Q7.1c - Matplotlib Chart #1\n",
        "\n"
      ],
      "metadata": {
        "id": "fT9Ss10w5ali"
      }
    },
    {
      "cell_type": "code",
      "execution_count": null,
      "metadata": {
        "id": "zD8tJXgp5al0"
      },
      "outputs": [],
      "source": [
        "# your code here, add more cells if needed.  Use comments to explain your code"
      ]
    },
    {
      "cell_type": "markdown",
      "source": [
        "## Pokemon CSC120 - Q7.1d - Matplotlib Chart #2\n"
      ],
      "metadata": {
        "id": "XZ14N0lx5a1X"
      }
    },
    {
      "cell_type": "code",
      "execution_count": null,
      "metadata": {
        "id": "n7ox-TOl5a1X"
      },
      "outputs": [],
      "source": [
        "# your code here, add more cells if needed.  Use comments to explain your code"
      ]
    },
    {
      "cell_type": "markdown",
      "source": [
        "## Pokemon CSC120 - Q7.1e - Pandas Chart #1\n",
        "\n"
      ],
      "metadata": {
        "id": "gzYM71wK5sgT"
      }
    },
    {
      "cell_type": "code",
      "execution_count": null,
      "metadata": {
        "id": "5GlCgimy5sgT"
      },
      "outputs": [],
      "source": [
        "# your code here, add more cells if needed.  Use comments to explain your code"
      ]
    },
    {
      "cell_type": "markdown",
      "source": [
        "## Pokemon CSC120 - Q7.1f - Pandas Chart #2\n"
      ],
      "metadata": {
        "id": "FXYdAnoA5sgU"
      }
    },
    {
      "cell_type": "code",
      "execution_count": null,
      "metadata": {
        "id": "y-uwckQ75sgU"
      },
      "outputs": [],
      "source": [
        "# your code here, add more cells if needed.  Use comments to explain your code"
      ]
    },
    {
      "cell_type": "markdown",
      "source": [
        "## Pokemon CSC120 - Q7.2\n",
        "\n",
        "<<< your written observations here, use markdown where appropriate >>>\n"
      ],
      "metadata": {
        "id": "QJNV_Jhd8G2w"
      }
    },
    {
      "cell_type": "markdown",
      "source": [
        "## Pokemon CSC120 - Q8.1\n"
      ],
      "metadata": {
        "id": "vDE0PyMH6Oe1"
      }
    },
    {
      "cell_type": "code",
      "execution_count": null,
      "metadata": {
        "id": "imQKe_m26Oe2"
      },
      "outputs": [],
      "source": [
        "# your code here, add more cells if needed.  Use comments to explain your code"
      ]
    },
    {
      "cell_type": "markdown",
      "source": [
        "## Pokemon CSC120 - Q8.2\n"
      ],
      "metadata": {
        "id": "sUR6Pz0p6Tsv"
      }
    },
    {
      "cell_type": "code",
      "execution_count": null,
      "metadata": {
        "id": "DjM1f8wa6Ts2"
      },
      "outputs": [],
      "source": [
        "# your code here, add more cells if needed.  Use comments to explain your code"
      ]
    },
    {
      "cell_type": "markdown",
      "source": [
        "## Pokemon CSC120 - Q8.3\n",
        "\n",
        "<<< your written observations here, use markdown where appropriate >>>"
      ],
      "metadata": {
        "id": "M1kIibtH7UQP"
      }
    },
    {
      "cell_type": "code",
      "execution_count": null,
      "metadata": {
        "id": "hBmfZ1jv7UQY"
      },
      "outputs": [],
      "source": []
    },
    {
      "cell_type": "markdown",
      "source": [
        "## Pokemon CSC120 - Q8.4\n",
        "\n",
        "<<< your written observations here, use markdown where appropriate >>>"
      ],
      "metadata": {
        "id": "R8ewZCa_7WCH"
      }
    },
    {
      "cell_type": "code",
      "execution_count": null,
      "metadata": {
        "id": "QP20fTBv7WCH"
      },
      "outputs": [],
      "source": [
        "# your code here, add more cells if needed.  Use comments to explain your code"
      ]
    },
    {
      "cell_type": "code",
      "source": [],
      "metadata": {
        "id": "CCZ3nsC15ZIC"
      },
      "execution_count": null,
      "outputs": []
    },
    {
      "cell_type": "code",
      "source": [],
      "metadata": {
        "id": "WYoNmlJQ5ZFn"
      },
      "execution_count": null,
      "outputs": []
    },
    {
      "cell_type": "code",
      "source": [],
      "metadata": {
        "id": "qbVkEj6P5ZAu"
      },
      "execution_count": null,
      "outputs": []
    },
    {
      "cell_type": "markdown",
      "source": [
        "# Pokemon Dataset from Kaggle\n",
        "\n",
        "Often, simlar datasets are available from multiple sources\n",
        "In this section, you will download Kaggle's version of the dataset for comparison with the CSC120 version\n",
        "\n",
        "You will use code to identify any differences in the two datasets and explain your findings"
      ],
      "metadata": {
        "id": "v-Z6mg5J5SUI"
      }
    },
    {
      "cell_type": "markdown",
      "metadata": {
        "id": "lvxe6XTZrSSG"
      },
      "source": [
        "## Pokemon Kaggle - Q9.1\n",
        "\n",
        "save the kaggle data to this directory: `kaggle_pokemon_data`"
      ]
    },
    {
      "cell_type": "code",
      "source": [
        "#@markdown This cell downloads the pokemon dataset from Kaggle into local Colab folder specified in variable: `save_kaggle_pokemon_folder`\n",
        "\n",
        "#@markdown Local folder to save pokemon data\n",
        "save_kaggle_pokemon_folder = 'kaggle_pokemon_data' #@param\n",
        "\n",
        "# need your kaggle api key here: ~/.kaggle/kaggle.json\n",
        "!mkdir {save_kaggle_pokemon_folder}\n",
        "!kaggle datasets download abcsds/pokemon -p {save_kaggle_pokemon_folder}\n",
        "!cd {save_kaggle_pokemon_folder}\n",
        "!unzip {save_kaggle_pokemon_folder}/pokemon.zip -d {save_kaggle_pokemon_folder}\n"
      ],
      "metadata": {
        "id": "4sveG_3gRtII"
      },
      "execution_count": null,
      "outputs": []
    },
    {
      "cell_type": "code",
      "source": [
        "!ls -al {save_kaggle_pokemon_folder}"
      ],
      "metadata": {
        "colab": {
          "base_uri": "https://localhost:8080/"
        },
        "id": "e_cne0bEr0Ss",
        "outputId": "af5b5e19-b988-4f4a-f50b-3a8b238900bd"
      },
      "execution_count": 7,
      "outputs": [
        {
          "output_type": "stream",
          "name": "stdout",
          "text": [
            "total 72\n",
            "drwxr-xr-x 2 root root  4096 Mar 13 20:43 .\n",
            "drwxr-xr-x 1 root root  4096 Mar 13 20:43 ..\n",
            "-rw-r--r-- 1 root root 44028 Sep 19  2019 Pokemon.csv\n",
            "-rw-r--r-- 1 root root 15234 Sep 19  2019 pokemon.zip\n"
          ]
        }
      ]
    },
    {
      "cell_type": "code",
      "source": [
        "!wc -l {save_kaggle_pokemon_folder}/Pokemon.csv"
      ],
      "metadata": {
        "id": "RDZh3TuQk9O1"
      },
      "execution_count": null,
      "outputs": []
    },
    {
      "cell_type": "code",
      "source": [
        "kaggle_pokemon_raw_filepath = 'kaggle_pokemon_data/Pokemon.csv'"
      ],
      "metadata": {
        "id": "HxnJAOZMsNvQ"
      },
      "execution_count": null,
      "outputs": []
    },
    {
      "cell_type": "markdown",
      "metadata": {
        "id": "ZefRdGjIrSSP"
      },
      "source": [
        "## Pokemon Kaggle - Q9.2\n",
        "load data into dataframe `df_pokemon_kaggle`"
      ]
    },
    {
      "cell_type": "code",
      "execution_count": null,
      "metadata": {
        "id": "zwsG_tKUrSSQ"
      },
      "outputs": [],
      "source": [
        "# your code here, add more cells if needed.  Use comments to explain your code"
      ]
    },
    {
      "cell_type": "markdown",
      "source": [
        "## Pokemon Kaggle - Q9.3\n",
        "\n",
        "Use 3 different methods involving pandas functions to show information and statistics about the CSC120 Pokemon dataset and its fields.\n",
        "\n",
        "Note: use approaches different those used with the CSC120 dataset above."
      ],
      "metadata": {
        "id": "XCEq_mXxrSSQ"
      }
    },
    {
      "cell_type": "code",
      "execution_count": null,
      "metadata": {
        "id": "O4uLDZGTrSSQ"
      },
      "outputs": [],
      "source": [
        "# your code here, add more cells if needed.  Use comments to explain your code"
      ]
    },
    {
      "cell_type": "markdown",
      "source": [
        "## Pokemon Kaggle - Q9.4\n",
        "\n",
        "Compare the two Pokemon datasets:\n",
        "\n",
        "Find and describe differences (if any) between the two datasets.  Use any method(s) you like and show code used to to confirm or refute the presence of data differences.  Show examples of any differences you find\n",
        "\n",
        "<<<< Provide written explanation here of your findings >>>>"
      ],
      "metadata": {
        "id": "7_7QLB8u9dc4"
      }
    },
    {
      "cell_type": "code",
      "execution_count": null,
      "metadata": {
        "id": "iaVJ5tLK9dc5"
      },
      "outputs": [],
      "source": [
        "# your code here, add more cells if needed.  Use comments to explain your code"
      ]
    },
    {
      "cell_type": "code",
      "source": [],
      "metadata": {
        "id": "VrkoWF0qrSSS"
      },
      "execution_count": null,
      "outputs": []
    },
    {
      "cell_type": "code",
      "source": [],
      "metadata": {
        "id": "zn5V2UJgk9GO"
      },
      "execution_count": null,
      "outputs": []
    },
    {
      "cell_type": "markdown",
      "source": [],
      "metadata": {
        "id": "dIq4S00w898x"
      }
    },
    {
      "cell_type": "code",
      "source": [],
      "metadata": {
        "id": "jbCWb99z-CDC"
      },
      "execution_count": null,
      "outputs": []
    },
    {
      "cell_type": "code",
      "source": [],
      "metadata": {
        "id": "YTSi93cXuumD"
      },
      "execution_count": null,
      "outputs": []
    },
    {
      "cell_type": "code",
      "source": [],
      "metadata": {
        "id": "7S2w5s5CuujR"
      },
      "execution_count": null,
      "outputs": []
    },
    {
      "cell_type": "markdown",
      "source": [
        "# End"
      ],
      "metadata": {
        "id": "m8KadFQynf7g"
      }
    },
    {
      "cell_type": "code",
      "source": [],
      "metadata": {
        "id": "319WdpusR7EL"
      },
      "execution_count": null,
      "outputs": []
    }
  ],
  "metadata": {
    "colab": {
      "provenance": [],
      "toc_visible": true
    },
    "kernelspec": {
      "display_name": "Python 3 (ipykernel)",
      "language": "python",
      "name": "python3"
    },
    "language_info": {
      "codemirror_mode": {
        "name": "ipython",
        "version": 3
      },
      "file_extension": ".py",
      "mimetype": "text/x-python",
      "name": "python",
      "nbconvert_exporter": "python",
      "pygments_lexer": "ipython3",
      "version": "3.9.2"
    }
  },
  "nbformat": 4,
  "nbformat_minor": 0
}