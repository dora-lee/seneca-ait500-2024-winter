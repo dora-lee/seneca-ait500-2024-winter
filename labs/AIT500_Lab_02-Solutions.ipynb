{
 "cells": [
  {
   "cell_type": "markdown",
   "metadata": {
    "id": "BN1KAbxLoJq1"
   },
   "source": [
    "# AIT500 - Lab 2\n",
    "\n",
    "## Objective\n",
    "\n",
    "In this lab, you will build a data collection, data cleaning, and data transformation pipeline using the MNIST dataset.\n",
    "\n",
    "\n",
    "## Dataset Description\n",
    "\n",
    "### MNIST Dataset\n",
    "<img src=\"lab02_mnist.png\">\n",
    "\n",
    "The [MNIST dataset](https://en.wikipedia.org/wiki/MNIST_database) is a popular image dataset of handwritten digits that was modified from the National Institute of Standards and Technology (NIST) dataset.\n",
    "\n",
    "It is a dataset of handwritten digits consists of 70,000 images, split into a training set of 60,000 examples, and a test set of 10,000 examples.  It is a good dataset to begin learning ML techniques and pattern recognition on real-world data.  \n",
    "The digits have been size-normalized and centered in a fixed-size image and available online in many different formats.\n",
    "\n",
    "The original dataset has been converted into CSV format for simple download.  As images are binary data, you will need to manipulate the text file to convert data back into an image format.\n",
    "\n",
    "Each row of data contains the label and a sequence of 784 numerical values representing the value of each pixel in a 28*28 pixel image\n",
    "\n",
    "### Lego Dataset\n",
    "\n",
    "[Lego Dataset crafted by Kaggle community](https://www.kaggle.com/datasets/rtatman/lego-database).  This dataset contains the LEGO Parts/Sets/Colors and Inventories of every official LEGO set in the Rebrickable database. These files are current as of July 2017. If you need it to be more recent data, you can use Rebrickable’s API which provides up to date data, and additional features.\n",
    "\n",
    "Schema of Lego dataset showing the relationship between the different `.csv` files.\n",
    "<img src=\"lab02_lego_dataset_schema.png\">\n",
    "\n",
    "\n",
    "## Lab Instructions\n",
    "1. Download the MNIST training set and test sets:\n",
    "    - https://pjreddie.com/media/files/mnist_train.csv\n",
    "    - https://pjreddie.com/media/files/mnist_test.csv\n",
    "2. Load each file into its own pandas dataframe (limit to 2000 entries each)\n",
    "    - validate that the dataframes are the size and shape you expect\n",
    "4. Data exploration\n",
    "    1. randomly pick a row and display its image by extracting:\n",
    "       - the label column into a variable\n",
    "       - the remaining 784 columns as a numpy array\n",
    "    2. provide analysis and summary statistics of the dataset\n",
    "5. Extract the label column into variable called `target_train`, `target_test` for train and test datasets respectively\n",
    "6. Extract the pixel columns into variable called `feature_train`, `feature_test` for train and test datasets respectively\n",
    "7. Perform a data transformation by selecting only the upper left 20x20 pixels.  Save the result into a new dataframe for both training and test datasets\n",
    "    \n",
    "- this image <img src=\"lab02_mnist_digit3.png\" width=100>\n",
    "    \n",
    "- becomes this image <img src=\"lab02_mnist_digit3_partial.png\"  width=80>\n",
    "\n",
    "8. Download the [Lego dataset from Kaggle](https://www.kaggle.com/datasets/rtatman/lego-database) and load data into data frames\n",
    "    - by examining the schema, join the appropriate dataframes together and answer these questions with code:\n",
    "\n",
    "          - what is the oldest Lego set in the database?\n",
    "          - what is the most recent Lego set in the database?\n",
    "          - the quantity available for each Lego set\n",
    "          - the number of sets in each theme\n",
    "      \n",
    "\n",
    "\n",
    "## Reference Information\n",
    "- [MNIST dataset Wikipedia](https://en.wikipedia.org/wiki/MNIST_database)\n",
    "- [MNIST-in-CSV description](https://www.kaggle.com/datasets/oddrationale/mnist-in-csv)\n",
    "- [MNIST-in-CSV original download source and format description](https://pjreddie.com/projects/mnist-in-csv/)\n",
    "- [Lego Dataset crafted by Kaggle community](https://www.kaggle.com/datasets/rtatman/lego-database)\n",
    "- [Matplotlib Image Tutorial](https://matplotlib.org/stable/tutorials/images.html)\n"
   ]
  },
  {
   "cell_type": "code",
   "execution_count": null,
   "metadata": {
    "id": "-rgE6yziqOOY"
   },
   "outputs": [],
   "source": []
  },
  {
   "cell_type": "markdown",
   "metadata": {
    "id": "oG8dtpVPsEbD"
   },
   "source": [
    "# Setup Libraries"
   ]
  },
  {
   "cell_type": "code",
   "execution_count": 1,
   "metadata": {
    "colab": {
     "base_uri": "https://localhost:8080/",
     "height": 35
    },
    "id": "WWgOxummoA_Y",
    "outputId": "4dccb3aa-ff18-4d81-dcc7-40d8944783d1"
   },
   "outputs": [
    {
     "name": "stderr",
     "output_type": "stream",
     "text": [
      "Matplotlib is building the font cache; this may take a moment.\n"
     ]
    },
    {
     "data": {
      "text/plain": [
       "'/home/pi/workspace_ait500/labs'"
      ]
     },
     "execution_count": 1,
     "metadata": {},
     "output_type": "execute_result"
    }
   ],
   "source": [
    "import pandas as pd\n",
    "import matplotlib.pyplot as plt # plotting library\n",
    "import os\n",
    "from PIL import Image\n",
    "import numpy as np\n",
    "os.getcwd()"
   ]
  },
  {
   "cell_type": "markdown",
   "metadata": {
    "id": "yvuyuh2wqY0a"
   },
   "source": [
    "# Import data"
   ]
  },
  {
   "cell_type": "code",
   "execution_count": null,
   "metadata": {
    "colab": {
     "base_uri": "https://localhost:8080/"
    },
    "id": "zv-VgLYaoFFM",
    "outputId": "12974772-98dc-45b0-d576-24b6f853e913"
   },
   "outputs": [
    {
     "name": "stdout",
     "output_type": "stream",
     "text": [
      "  % Total    % Received % Xferd  Average Speed   Time    Time     Time  Current\n",
      "                                 Dload  Upload   Total   Spent    Left  Speed\n",
      "100  104M  100  104M    0     0  2569k      0  0:00:41  0:00:41 --:--:-- 3567k104M   17 18.7M    0     0  1983k      0  0:00:53  0:00:09  0:00:44 2000k\n",
      "  % Total    % Received % Xferd  Average Speed   Time    Time     Time  Current\n",
      "                                 Dload  Upload   Total   Spent    Left  Speed\n",
      "100 17.4M  100 17.4M    0     0  1891k      0  0:00:09  0:00:09 --:--:-- 2793k\n"
     ]
    }
   ],
   "source": [
    "# run curl at command line to download local version of iris dataset to working directory\n",
    "!curl https://pjreddie.com/media/files/mnist_train.csv --output mnist_train.csv\n",
    "!curl https://pjreddie.com/media/files/mnist_test.csv --output mnist_test.csv"
   ]
  },
  {
   "cell_type": "code",
   "execution_count": null,
   "metadata": {
    "colab": {
     "base_uri": "https://localhost:8080/"
    },
    "id": "sFAHEWW1phcb",
    "outputId": "7d8e7279-1478-472c-effd-e89688e50a26"
   },
   "outputs": [
    {
     "name": "stdout",
     "output_type": "stream",
     "text": [
      "5,0,0,0,0,0,0,0,0,0,0,0,0,0,0,0,0,0,0,0,0,0,0,0,0,0,0,0,0,0,0,0,0,0,0,0,0,0,0,0,0,0,0,0,0,0,0,0,0,0,0,0,0,0,0,0,0,0,0,0,0,0,0,0,0,0,0,0,0,0,0,0,0,0,0,0,0,0,0,0,0,0,0,0,0,0,0,0,0,0,0,0,0,0,0,0,0,0,0,0,0,0,0,0,0,0,0,0,0,0,0,0,0,0,0,0,0,0,0,0,0,0,0,0,0,0,0,0,0,0,0,0,0,0,0,0,0,0,0,0,0,0,0,0,0,0,0,0,0,0,0,0,0,3,18,18,18,126,136,175,26,166,255,247,127,0,0,0,0,0,0,0,0,0,0,0,0,30,36,94,154,170,253,253,253,253,253,225,172,253,242,195,64,0,0,0,0,0,0,0,0,0,0,0,49,238,253,253,253,253,253,253,253,253,251,93,82,82,56,39,0,0,0,0,0,0,0,0,0,0,0,0,18,219,253,253,253,253,253,198,182,247,241,0,0,0,0,0,0,0,0,0,0,0,0,0,0,0,0,0,0,80,156,107,253,253,205,11,0,43,154,0,0,0,0,0,0,0,0,0,0,0,0,0,0,0,0,0,0,0,14,1,154,253,90,0,0,0,0,0,0,0,0,0,0,0,0,0,0,0,0,0,0,0,0,0,0,0,0,0,139,253,190,2,0,0,0,0,0,0,0,0,0,0,0,0,0,0,0,0,0,0,0,0,0,0,0,0,11,190,253,70,0,0,0,0,0,0,0,0,0,0,0,0,0,0,0,0,0,0,0,0,0,0,0,0,0,35,241,225,160,108,1,0,0,0,0,0,0,0,0,0,0,0,0,0,0,0,0,0,0,0,0,0,0,0,81,240,253,253,119,25,0,0,0,0,0,0,0,0,0,0,0,0,0,0,0,0,0,0,0,0,0,0,0,45,186,253,253,150,27,0,0,0,0,0,0,0,0,0,0,0,0,0,0,0,0,0,0,0,0,0,0,0,16,93,252,253,187,0,0,0,0,0,0,0,0,0,0,0,0,0,0,0,0,0,0,0,0,0,0,0,0,0,249,253,249,64,0,0,0,0,0,0,0,0,0,0,0,0,0,0,0,0,0,0,0,0,0,46,130,183,253,253,207,2,0,0,0,0,0,0,0,0,0,0,0,0,0,0,0,0,0,0,0,39,148,229,253,253,253,250,182,0,0,0,0,0,0,0,0,0,0,0,0,0,0,0,0,0,0,24,114,221,253,253,253,253,201,78,0,0,0,0,0,0,0,0,0,0,0,0,0,0,0,0,0,23,66,213,253,253,253,253,198,81,2,0,0,0,0,0,0,0,0,0,0,0,0,0,0,0,0,18,171,219,253,253,253,253,195,80,9,0,0,0,0,0,0,0,0,0,0,0,0,0,0,0,0,55,172,226,253,253,253,253,244,133,11,0,0,0,0,0,0,0,0,0,0,0,0,0,0,0,0,0,0,136,253,253,253,212,135,132,16,0,0,0,0,0,0,0,0,0,0,0,0,0,0,0,0,0,0,0,0,0,0,0,0,0,0,0,0,0,0,0,0,0,0,0,0,0,0,0,0,0,0,0,0,0,0,0,0,0,0,0,0,0,0,0,0,0,0,0,0,0,0,0,0,0,0,0,0,0,0,0,0,0,0,0,0,0,0,0,0,0,0,0,0,0,0,0,0,0,0,0,0,0,0,0,0,0,0,0,0\n",
      "0,0,0,0,0,0,0,0,0,0,0,0,0,0,0,0,0,0,0,0,0,0,0,0,0,0,0,0,0,0,0,0,0,0,0,0,0,0,0,0,0,0,0,0,0,0,0,0,0,0,0,0,0,0,0,0,0,0,0,0,0,0,0,0,0,0,0,0,0,0,0,0,0,0,0,0,0,0,0,0,0,0,0,0,0,0,0,0,0,0,0,0,0,0,0,0,0,0,0,0,0,0,0,0,0,0,0,0,0,0,0,0,0,0,0,0,0,0,0,0,0,0,0,0,0,0,0,0,51,159,253,159,50,0,0,0,0,0,0,0,0,0,0,0,0,0,0,0,0,0,0,0,0,0,0,48,238,252,252,252,237,0,0,0,0,0,0,0,0,0,0,0,0,0,0,0,0,0,0,0,0,0,54,227,253,252,239,233,252,57,6,0,0,0,0,0,0,0,0,0,0,0,0,0,0,0,0,0,10,60,224,252,253,252,202,84,252,253,122,0,0,0,0,0,0,0,0,0,0,0,0,0,0,0,0,0,163,252,252,252,253,252,252,96,189,253,167,0,0,0,0,0,0,0,0,0,0,0,0,0,0,0,0,51,238,253,253,190,114,253,228,47,79,255,168,0,0,0,0,0,0,0,0,0,0,0,0,0,0,0,48,238,252,252,179,12,75,121,21,0,0,253,243,50,0,0,0,0,0,0,0,0,0,0,0,0,0,38,165,253,233,208,84,0,0,0,0,0,0,253,252,165,0,0,0,0,0,0,0,0,0,0,0,0,7,178,252,240,71,19,28,0,0,0,0,0,0,253,252,195,0,0,0,0,0,0,0,0,0,0,0,0,57,252,252,63,0,0,0,0,0,0,0,0,0,253,252,195,0,0,0,0,0,0,0,0,0,0,0,0,198,253,190,0,0,0,0,0,0,0,0,0,0,255,253,196,0,0,0,0,0,0,0,0,0,0,0,76,246,252,112,0,0,0,0,0,0,0,0,0,0,253,252,148,0,0,0,0,0,0,0,0,0,0,0,85,252,230,25,0,0,0,0,0,0,0,0,7,135,253,186,12,0,0,0,0,0,0,0,0,0,0,0,85,252,223,0,0,0,0,0,0,0,0,7,131,252,225,71,0,0,0,0,0,0,0,0,0,0,0,0,85,252,145,0,0,0,0,0,0,0,48,165,252,173,0,0,0,0,0,0,0,0,0,0,0,0,0,0,86,253,225,0,0,0,0,0,0,114,238,253,162,0,0,0,0,0,0,0,0,0,0,0,0,0,0,0,85,252,249,146,48,29,85,178,225,253,223,167,56,0,0,0,0,0,0,0,0,0,0,0,0,0,0,0,85,252,252,252,229,215,252,252,252,196,130,0,0,0,0,0,0,0,0,0,0,0,0,0,0,0,0,0,28,199,252,252,253,252,252,233,145,0,0,0,0,0,0,0,0,0,0,0,0,0,0,0,0,0,0,0,0,25,128,252,253,252,141,37,0,0,0,0,0,0,0,0,0,0,0,0,0,0,0,0,0,0,0,0,0,0,0,0,0,0,0,0,0,0,0,0,0,0,0,0,0,0,0,0,0,0,0,0,0,0,0,0,0,0,0,0,0,0,0,0,0,0,0,0,0,0,0,0,0,0,0,0,0,0,0,0,0,0,0,0,0,0,0,0,0,0,0,0,0,0,0,0,0,0,0,0,0,0,0,0,0,0,0,0,0,0,0,0,0,0,0,0,0,0,0,0,0,0,0,0,0,0,0,0,0,0,0,0,0,0\n",
      "4,0,0,0,0,0,0,0,0,0,0,0,0,0,0,0,0,0,0,0,0,0,0,0,0,0,0,0,0,0,0,0,0,0,0,0,0,0,0,0,0,0,0,0,0,0,0,0,0,0,0,0,0,0,0,0,0,0,0,0,0,0,0,0,0,0,0,0,0,0,0,0,0,0,0,0,0,0,0,0,0,0,0,0,0,0,0,0,0,0,0,0,0,0,0,0,0,0,0,0,0,0,0,0,0,0,0,0,0,0,0,0,0,0,0,0,0,0,0,0,0,0,0,0,0,0,0,0,0,0,0,0,0,0,0,0,0,0,0,0,0,0,0,0,0,0,0,0,0,0,0,0,0,0,0,0,0,0,0,0,0,67,232,39,0,0,0,0,0,0,0,0,0,62,81,0,0,0,0,0,0,0,0,0,0,0,0,0,0,120,180,39,0,0,0,0,0,0,0,0,0,126,163,0,0,0,0,0,0,0,0,0,0,0,0,0,2,153,210,40,0,0,0,0,0,0,0,0,0,220,163,0,0,0,0,0,0,0,0,0,0,0,0,0,27,254,162,0,0,0,0,0,0,0,0,0,0,222,163,0,0,0,0,0,0,0,0,0,0,0,0,0,183,254,125,0,0,0,0,0,0,0,0,0,46,245,163,0,0,0,0,0,0,0,0,0,0,0,0,0,198,254,56,0,0,0,0,0,0,0,0,0,120,254,163,0,0,0,0,0,0,0,0,0,0,0,0,23,231,254,29,0,0,0,0,0,0,0,0,0,159,254,120,0,0,0,0,0,0,0,0,0,0,0,0,163,254,216,16,0,0,0,0,0,0,0,0,0,159,254,67,0,0,0,0,0,0,0,0,0,14,86,178,248,254,91,0,0,0,0,0,0,0,0,0,0,159,254,85,0,0,0,47,49,116,144,150,241,243,234,179,241,252,40,0,0,0,0,0,0,0,0,0,0,150,253,237,207,207,207,253,254,250,240,198,143,91,28,5,233,250,0,0,0,0,0,0,0,0,0,0,0,0,119,177,177,177,177,177,98,56,0,0,0,0,0,102,254,220,0,0,0,0,0,0,0,0,0,0,0,0,0,0,0,0,0,0,0,0,0,0,0,0,0,169,254,137,0,0,0,0,0,0,0,0,0,0,0,0,0,0,0,0,0,0,0,0,0,0,0,0,0,169,254,57,0,0,0,0,0,0,0,0,0,0,0,0,0,0,0,0,0,0,0,0,0,0,0,0,0,169,254,57,0,0,0,0,0,0,0,0,0,0,0,0,0,0,0,0,0,0,0,0,0,0,0,0,0,169,255,94,0,0,0,0,0,0,0,0,0,0,0,0,0,0,0,0,0,0,0,0,0,0,0,0,0,169,254,96,0,0,0,0,0,0,0,0,0,0,0,0,0,0,0,0,0,0,0,0,0,0,0,0,0,169,254,153,0,0,0,0,0,0,0,0,0,0,0,0,0,0,0,0,0,0,0,0,0,0,0,0,0,169,255,153,0,0,0,0,0,0,0,0,0,0,0,0,0,0,0,0,0,0,0,0,0,0,0,0,0,96,254,153,0,0,0,0,0,0,0,0,0,0,0,0,0,0,0,0,0,0,0,0,0,0,0,0,0,0,0,0,0,0,0,0,0,0,0,0,0,0,0,0,0,0,0,0,0,0,0,0,0,0,0,0,0,0,0,0,0,0,0,0,0,0,0,0,0,0,0,0,0,0,0,0,0,0,0,0,0,0,0,0,0,0,0,0,0,0,0,0,0,0,0,0\n",
      "----------------------\n",
      "4,0,0,0,0,0,0,0,0,0,0,0,0,0,0,0,0,0,0,0,0,0,0,0,0,0,0,0,0,0,0,0,0,0,0,0,0,0,0,0,0,0,0,0,0,0,0,0,0,0,0,0,0,0,0,0,0,0,0,0,0,0,0,0,0,0,0,0,0,0,0,0,0,0,0,0,0,0,0,0,0,0,0,0,0,0,0,0,0,0,0,0,0,0,0,0,0,0,0,0,0,0,0,0,0,0,0,0,0,0,0,0,0,0,0,0,0,0,0,0,0,0,0,0,0,0,0,0,0,0,0,0,0,0,0,0,0,0,0,0,0,0,0,0,0,0,0,0,0,0,0,0,0,0,0,0,0,0,0,0,0,0,0,0,0,0,0,0,0,0,0,0,0,0,0,0,0,0,0,0,23,217,228,35,0,0,0,0,113,241,146,0,0,0,0,0,0,0,0,0,0,0,0,0,0,0,0,2,116,254,218,32,0,0,0,54,238,254,24,0,0,0,0,0,0,0,0,0,0,0,0,0,0,0,0,108,254,254,74,0,0,0,46,236,254,198,11,0,0,0,0,0,0,0,0,0,0,0,0,0,0,0,31,216,254,250,67,0,0,0,154,254,254,142,0,0,0,0,0,0,0,0,0,0,0,0,0,0,0,4,168,254,254,189,0,0,0,62,236,254,254,30,0,0,0,0,0,0,0,0,0,0,0,0,0,0,0,25,254,254,248,69,0,0,11,208,254,254,176,11,0,0,0,0,0,0,0,0,0,0,0,0,0,0,0,47,254,254,211,0,0,11,101,254,254,254,37,0,0,0,0,0,0,0,0,0,0,0,0,0,0,0,0,149,254,254,241,174,174,194,254,254,254,254,80,6,0,0,0,0,0,0,0,0,0,0,0,0,0,0,0,123,254,254,254,254,254,254,254,254,254,254,254,30,0,0,0,0,0,0,0,0,0,0,0,0,0,0,0,19,230,254,254,254,254,254,254,254,254,254,254,30,0,0,0,0,0,0,0,0,0,0,0,0,0,0,0,0,38,80,186,199,254,254,254,254,199,186,80,8,0,0,0,0,0,0,0,0,0,0,0,0,0,0,0,0,0,0,0,50,254,254,254,196,11,0,0,0,0,0,0,0,0,0,0,0,0,0,0,0,0,0,0,0,0,0,14,176,254,254,254,79,0,0,0,0,0,0,0,0,0,0,0,0,0,0,0,0,0,0,0,0,0,0,44,254,254,254,197,10,0,0,0,0,0,0,0,0,0,0,0,0,0,0,0,0,0,0,0,0,0,14,182,254,254,254,80,0,0,0,0,0,0,0,0,0,0,0,0,0,0,0,0,0,0,0,0,0,0,38,254,254,254,199,8,0,0,0,0,0,0,0,0,0,0,0,0,0,0,0,0,0,0,0,0,0,0,150,254,254,254,140,0,0,0,0,0,0,0,0,0,0,0,0,0,0,0,0,0,0,0,0,0,0,0,162,254,254,230,38,0,0,0,0,0,0,0,0,0,0,0,0,0,0,0,0,0,0,0,0,0,0,0,162,254,254,140,0,0,0,0,0,0,0,0,0,0,0,0,0,0,0,0,0,0,0,0,0,0,0,0,102,255,230,38,0,0,0,0,0,0,0,0,0,0,0,0,0,0,0,0,0,0,0,0,0,0,0,0,0,0,0,0,0,0,0,0,0,0,0,0,0,0,0,0,0,0,0,0,0,0,0,0,0,0,0,0,0,0,0,0,0,0,0,0,0,0,0,0,0,0,0,0,0,0\n",
      "5,0,0,0,0,0,0,0,0,0,0,0,0,0,0,0,0,0,0,0,0,0,0,0,0,0,0,0,0,0,0,0,0,0,0,0,0,0,0,0,0,0,0,0,0,0,0,0,0,0,0,0,0,0,0,0,0,0,0,0,0,0,0,0,0,0,0,0,0,0,0,0,0,0,0,0,0,0,0,0,0,0,0,0,0,0,0,0,0,0,0,0,0,0,0,0,0,0,0,0,0,0,0,0,0,0,0,0,0,0,0,0,0,0,0,0,0,0,0,0,0,0,0,0,0,0,0,0,0,0,0,0,0,0,0,0,0,0,0,0,0,0,0,0,0,0,0,0,0,0,0,0,0,0,0,0,0,0,0,0,0,0,0,0,0,0,0,0,0,0,0,0,0,0,0,0,0,0,0,0,0,0,0,0,0,0,0,0,0,0,0,0,0,0,0,0,0,0,0,0,0,0,0,0,0,0,0,0,0,0,0,0,0,0,0,0,0,0,0,0,0,0,0,0,0,0,0,0,0,0,0,0,0,0,0,0,0,8,10,78,0,0,0,0,0,0,0,15,104,104,104,69,0,0,0,0,0,0,0,0,0,0,0,0,123,238,254,235,159,76,111,76,115,169,169,238,254,254,254,254,0,0,0,0,0,0,0,0,0,0,0,71,252,254,254,254,254,254,254,254,254,254,254,254,254,254,248,102,0,0,0,0,0,0,0,0,0,0,0,83,254,254,254,254,254,247,236,221,179,235,182,140,110,47,42,0,0,0,0,0,0,0,0,0,0,0,39,229,254,254,194,169,124,47,0,0,0,0,0,0,0,0,0,0,0,0,0,0,0,0,0,0,0,0,83,254,254,254,248,133,51,0,0,0,0,0,0,0,0,0,0,0,0,0,0,0,0,0,0,0,0,0,5,213,254,254,254,254,249,91,0,0,0,0,0,0,0,0,0,0,0,0,0,0,0,0,0,0,0,0,0,44,152,201,254,254,254,135,0,0,0,0,0,0,0,0,0,0,0,0,0,0,0,0,0,0,25,237,106,0,0,0,32,200,254,255,50,0,0,0,0,0,0,0,0,0,0,0,0,0,0,0,0,0,123,251,181,0,0,0,13,156,254,254,126,0,0,0,0,0,0,0,0,0,0,0,0,0,0,0,0,0,254,254,56,0,0,0,85,254,254,254,0,0,0,0,0,0,0,0,0,0,0,0,0,0,0,0,0,0,198,254,149,54,0,0,60,251,254,254,29,0,0,0,0,0,0,0,0,0,0,0,0,0,0,0,0,0,89,248,254,220,107,148,236,253,248,171,7,0,0,0,0,0,0,0,0,0,0,0,0,0,0,0,0,0,0,139,249,254,254,254,254,249,173,0,0,0,0,0,0,0,0,0,0,0,0,0,0,0,0,0,0,0,0,0,97,194,254,254,254,134,0,0,0,0,0,0,0,0,0,0,0,0,0,0,0,0,0,0,0,0,0,0,0,3,97,103,37,1,0,0,0,0,0,0,0,0,0,0,0,0,0,0,0,0,0,0,0,0,0,0,0,0,0,0,0,0,0,0,0,0,0,0,0,0,0,0,0,0,0,0,0,0,0,0,0,0,0,0,0,0,0,0,0,0,0,0,0,0,0,0,0,0,0,0,0,0,0,0,0,0,0,0,0,0,0,0,0,0,0,0,0,0,0,0,0,0,0,0,0,0,0,0,0,0,0,0,0,0,0,0,0,0,0,0,0,0,0,0,0,0,0,0,0,0,0,0,0,0,0,0,0,0,0\n",
      "6,0,0,0,0,0,0,0,0,0,0,0,0,0,0,0,0,0,0,0,0,0,0,0,0,0,0,0,0,0,0,0,0,0,0,0,0,0,0,0,0,0,0,0,0,0,0,0,0,0,0,0,0,0,0,0,0,0,0,0,0,0,0,0,0,0,0,0,0,0,0,0,0,0,8,117,254,220,89,0,0,0,0,0,0,0,0,0,0,0,0,0,0,0,0,0,0,0,0,0,13,95,212,253,253,253,157,0,0,0,0,0,0,0,0,0,0,0,0,0,0,0,0,0,0,0,16,95,209,253,253,253,245,125,18,0,0,0,0,0,0,0,0,0,0,0,0,0,0,0,0,0,40,96,206,253,254,253,253,198,64,0,0,0,0,0,0,0,0,0,0,0,0,0,0,0,0,0,44,182,240,253,253,253,254,253,198,24,0,0,0,0,0,0,0,0,0,0,0,0,0,0,0,0,0,0,15,60,60,168,253,253,254,200,23,0,0,0,0,0,0,0,0,0,0,0,0,0,0,0,0,0,0,0,0,0,70,247,253,253,245,21,0,0,0,0,0,0,0,0,0,0,0,0,0,0,0,0,0,0,0,0,0,75,207,253,253,207,92,0,0,0,0,0,0,0,0,0,0,0,0,0,0,0,0,0,0,0,0,0,79,219,253,253,253,138,0,0,0,0,0,0,0,0,0,0,0,0,0,0,0,0,0,0,0,0,0,105,250,253,253,253,34,1,0,0,0,0,0,0,0,0,0,0,0,0,0,0,0,0,0,0,0,0,95,254,254,254,254,94,0,0,0,0,0,3,13,13,13,8,0,0,0,0,0,0,0,0,0,0,0,0,107,253,253,253,204,15,0,0,0,0,21,166,253,253,253,212,25,0,0,0,0,0,0,0,0,0,0,33,217,253,253,132,64,0,0,18,43,157,171,253,253,253,253,253,160,2,0,0,0,0,0,0,0,0,3,166,253,253,242,49,17,49,158,210,254,253,253,253,253,253,253,253,253,11,0,0,0,0,0,0,0,0,10,227,253,253,207,15,172,253,253,253,254,247,201,253,210,210,253,253,175,4,0,0,0,0,0,0,0,0,10,228,253,253,224,87,242,253,253,184,60,54,9,60,35,182,253,253,52,0,0,0,0,0,0,0,0,0,13,253,253,253,253,231,253,253,253,93,86,86,86,109,217,253,253,134,5,0,0,0,0,0,0,0,0,0,2,115,253,253,253,253,253,253,253,253,254,253,253,253,253,253,134,5,0,0,0,0,0,0,0,0,0,0,0,3,166,253,253,253,253,253,253,253,254,253,253,253,175,52,5,0,0,0,0,0,0,0,0,0,0,0,0,0,7,35,132,225,253,253,253,195,132,132,132,110,4,0,0,0,0,0,0,0,0,0,0,0,0,0,0,0,0,0,0,0,0,0,0,0,0,0,0,0,0,0,0,0,0,0,0,0,0,0,0,0,0,0,0,0,0,0,0,0,0,0,0,0,0,0,0,0,0,0,0,0,0,0,0,0,0,0,0,0,0,0,0,0,0,0,0,0,0,0,0,0,0,0,0,0,0,0,0,0,0,0,0,0,0,0,0,0,0,0,0,0,0,0,0,0,0,0,0,0,0,0,0,0,0,0,0,0,0,0,0,0,0,0,0,0,0,0,0,0,0,0,0,0,0,0,0,0,0,0,0,0,0,0,0,0,0,0,0,0,0,0,0,0,0,0,0,0,0,0,0,0,0,0,0,0,0,0,0,0,0,0,0,0,0,0,0,0,0\n"
     ]
    }
   ],
   "source": [
    "# take a look at what's in the file, you can do this via command line with `less` or similar commands\n",
    "\n",
    "!head -n 3 mnist_train.csv\n",
    "!echo \"----------------------\"\n",
    "!tail -n 3 mnist_test.csv"
   ]
  },
  {
   "cell_type": "code",
   "execution_count": null,
   "metadata": {
    "id": "bQ_YrbYYe_TV",
    "outputId": "47eaea9d-18da-4b37-a1f2-3089b3b2a5f2"
   },
   "outputs": [
    {
     "name": "stdout",
     "output_type": "stream",
     "text": [
      "60000 mnist_train.csv\n",
      "10000 mnist_test.csv\n"
     ]
    }
   ],
   "source": [
    "# take a look at how many rows are in each file\n",
    "\n",
    "!wc -l mnist_train.csv\n",
    "!wc -l mnist_test.csv"
   ]
  },
  {
   "cell_type": "code",
   "execution_count": null,
   "metadata": {
    "id": "Y-1OQ8f-e_TW"
   },
   "outputs": [],
   "source": []
  },
  {
   "cell_type": "code",
   "execution_count": 2,
   "metadata": {
    "id": "wJ59IVcwe_TX"
   },
   "outputs": [],
   "source": [
    "NUMBER_OF_DIGITS_TO_READ = 10000\n",
    "\n",
    "train_df = pd.read_csv('mnist_train.csv', header=None, nrows=NUMBER_OF_DIGITS_TO_READ)\n",
    "test_df = pd.read_csv('mnist_test.csv', header=None, nrows=NUMBER_OF_DIGITS_TO_READ)"
   ]
  },
  {
   "cell_type": "code",
   "execution_count": null,
   "metadata": {
    "id": "uY0StHr8e_TY"
   },
   "outputs": [],
   "source": []
  },
  {
   "cell_type": "code",
   "execution_count": 6,
   "metadata": {
    "id": "_zUd7ucse_TY"
   },
   "outputs": [],
   "source": [
    "def show_digit(df:pd.DataFrame, row_number:int):\n",
    "    \"\"\"\n",
    "    display MNIST digit given df and row number\n",
    "\n",
    "    df : dataframe with digit label in first column, remaining 784 columns are pixel values\n",
    "    row_number : row number for displaying 28x28 MNIST digit\n",
    "    \"\"\"\n",
    "    image_label = df.iloc[row_number,0]\n",
    "    image = df.iloc[row_number,1:].values\n",
    "    imgplot = plt.imshow(image.reshape(28,28), cmap='gray_r')\n",
    "    print(image_label)    \n",
    "    return image_label, image"
   ]
  },
  {
   "cell_type": "code",
   "execution_count": 7,
   "metadata": {
    "id": "fU2W0OXUe_TY",
    "outputId": "a6e76956-b50f-49bc-e439-843b69fae4cc"
   },
   "outputs": [
    {
     "name": "stdout",
     "output_type": "stream",
     "text": [
      "3\n"
     ]
    },
    {
     "data": {
      "image/png": "[encoded data removed]",
      "text/plain": [
       "<Figure size 640x480 with 1 Axes>"
      ]
     },
     "metadata": {},
     "output_type": "display_data"
    }
   ],
   "source": [
    "SHOW_ROW_NUMBER = 7\n",
    "image_label, image = show_digit(train_df, SHOW_ROW_NUMBER)"
   ]
  },
  {
   "cell_type": "code",
   "execution_count": 8,
   "metadata": {
    "id": "QNRkicmFe_TZ"
   },
   "outputs": [
    {
     "name": "stdout",
     "output_type": "stream",
     "text": [
      "7\n"
     ]
    },
    {
     "data": {
      "image/png": "[encoded data removed]",
      "text/plain": [
       "<Figure size 640x480 with 1 Axes>"
      ]
     },
     "metadata": {},
     "output_type": "display_data"
    }
   ],
   "source": [
    "SHOW_ROW_NUMBER = 1023\n",
    "image_label, image = show_digit(train_df, SHOW_ROW_NUMBER)"
   ]
  },
  {
   "cell_type": "code",
   "execution_count": 9,
   "metadata": {
    "id": "Xw23Unife_TZ"
   },
   "outputs": [
    {
     "name": "stdout",
     "output_type": "stream",
     "text": [
      "6\n"
     ]
    },
    {
     "data": {
      "image/png": "[encoded data removed]",
      "text/plain": [
       "<Figure size 640x480 with 1 Axes>"
      ]
     },
     "metadata": {},
     "output_type": "display_data"
    }
   ],
   "source": [
    "SHOW_ROW_NUMBER = 5098\n",
    "image_label, image = show_digit(train_df, SHOW_ROW_NUMBER)"
   ]
  },
  {
   "cell_type": "code",
   "execution_count": null,
   "metadata": {
    "id": "uUWAe7jDe_Ta",
    "outputId": "37f6bb6c-2093-4f1d-8272-7f282dadde1c"
   },
   "outputs": [],
   "source": []
  },
  {
   "cell_type": "code",
   "execution_count": null,
   "metadata": {
    "id": "5N9nmgN4e_Ta"
   },
   "outputs": [],
   "source": []
  },
  {
   "cell_type": "code",
   "execution_count": null,
   "metadata": {
    "id": "kF0daL3ke_Ta"
   },
   "outputs": [],
   "source": []
  },
  {
   "cell_type": "code",
   "execution_count": 10,
   "metadata": {
    "id": "TGeTR7tZe_Tb"
   },
   "outputs": [],
   "source": [
    "def get_partial_image(r:pd.Series,xpixels,ypixels):\n",
    "    \"\"\"\n",
    "    create cropped image from upper right corner\n",
    "\n",
    "    r : one row with columns: digit label, 784 columns of pixel values\n",
    "    xpixels : width of crop from upper left corner\n",
    "    ypixels : height of crop from upper left corner\n",
    "\n",
    "    returns 1-D array of pixel values of length (xpixels*ypixels)\n",
    "    \"\"\"\n",
    "    label = r[0]\n",
    "    image = r[1:].values\n",
    "    return image.reshape(28,28)[:xpixels,:ypixels].flatten()"
   ]
  },
  {
   "cell_type": "code",
   "execution_count": 26,
   "metadata": {
    "id": "jYf8cArce_Tc"
   },
   "outputs": [],
   "source": [
    "CROP_WIDTH=20\n",
    "CROP_HEIGHT=20\n",
    "\n",
    "partial_image_train_df = train_df.apply(lambda row: get_partial_image(row, CROP_WIDTH,CROP_HEIGHT), axis=1, result_type='expand')\n",
    "partial_image_test_df = test_df.apply(lambda row: get_partial_image(row, CROP_WIDTH,CROP_HEIGHT), axis=1, result_type='expand')\n",
    "\n",
    "train_label = train_df[0]\n",
    "test_label = test_df[0]"
   ]
  },
  {
   "cell_type": "code",
   "execution_count": 34,
   "metadata": {
    "id": "pJOxHODce_Tc"
   },
   "outputs": [],
   "source": [
    "def show_digit2(df:pd.DataFrame, row_number:int, image_width:int, image_height:int):\n",
    "    \"\"\"\n",
    "    display MNIST digit given df and row number\n",
    "\n",
    "    df : dataframe with remaining 784 columns are pixel values\n",
    "    row_number : row number for displaying 28x28 MNIST digit\n",
    "    image_width : width of image\n",
    "    image_height : height of image\n",
    "    \"\"\"\n",
    "    image = df.iloc[row_number].values\n",
    "    imgplot = plt.imshow(image.reshape(image_width,image_height), cmap='gray_r')\n",
    "    print(image_label)    \n",
    "    return image"
   ]
  },
  {
   "cell_type": "code",
   "execution_count": 35,
   "metadata": {},
   "outputs": [
    {
     "name": "stdout",
     "output_type": "stream",
     "text": [
      "3\n"
     ]
    },
    {
     "data": {
      "image/png": "[encoded data removed]",
      "text/plain": [
       "<Figure size 640x480 with 1 Axes>"
      ]
     },
     "metadata": {},
     "output_type": "display_data"
    }
   ],
   "source": [
    "SHOW_ROW_NUMBER = 7\n",
    "image = show_digit2(partial_image_train_df, SHOW_ROW_NUMBER, CROP_WIDTH, CROP_HEIGHT)"
   ]
  },
  {
   "cell_type": "code",
   "execution_count": 36,
   "metadata": {},
   "outputs": [
    {
     "name": "stdout",
     "output_type": "stream",
     "text": [
      "3\n"
     ]
    },
    {
     "data": {
      "image/png": "[encoded data removed]",
      "text/plain": [
       "<Figure size 640x480 with 1 Axes>"
      ]
     },
     "metadata": {},
     "output_type": "display_data"
    }
   ],
   "source": [
    "SHOW_ROW_NUMBER = 1023\n",
    "image = show_digit2(partial_image_train_df, SHOW_ROW_NUMBER, CROP_WIDTH, CROP_HEIGHT)"
   ]
  },
  {
   "cell_type": "code",
   "execution_count": 32,
   "metadata": {},
   "outputs": [
    {
     "name": "stdout",
     "output_type": "stream",
     "text": [
      "6\n"
     ]
    },
    {
     "data": {
      "image/png": "[encoded data removed]",
      "text/plain": [
       "<Figure size 640x480 with 1 Axes>"
      ]
     },
     "metadata": {},
     "output_type": "display_data"
    }
   ],
   "source": [
    "SHOW_ROW_NUMBER = 5098\n",
    "image_label, image = show_digit2(partial_image_train_df, SHOW_ROW_NUMBER, CROP_WIDTH, CROP_HEIGHT)"
   ]
  },
  {
   "cell_type": "markdown",
   "metadata": {
    "id": "inhOUuqae_Tc"
   },
   "source": [
    "# Lego Dataset\n",
    "\n",
    "Questions:\n",
    "- what is the oldest Lego set in the database?\n",
    "- what is the most recent Lego set in the database?\n",
    "- the quantity available for each Lego set\n",
    "- the number of sets in each theme"
   ]
  },
  {
   "cell_type": "markdown",
   "metadata": {
    "id": "sVNbOOdNe_Td"
   },
   "source": [
    "## install packages and grab dataset locally"
   ]
  },
  {
   "cell_type": "code",
   "execution_count": null,
   "metadata": {
    "id": "bx4tEzbPmqM4"
   },
   "outputs": [],
   "source": [
    "# this cell is for using Colab - mount google drive and copy API key file into ~/.kaggle/kaggle.json\n",
    "import os, sys\n",
    "from google.colab import drive\n",
    "drive.mount('/content/mnt')\n",
    "nb_path = '/content/notebooks'\n",
    "os.symlink('/content/mnt/My Drive/Colab Notebooks', nb_path)\n",
    "sys.path.insert(0, nb_path)  # or append(nb_path)\n",
    "\n",
    "!mkdir ~/.kaggle\n",
    "!cp /content/notebooks/API_Keys/kaggle.json ~/.kaggle/\n",
    "!ls -al ~/.kaggle/"
   ]
  },
  {
   "cell_type": "code",
   "execution_count": 37,
   "metadata": {
    "colab": {
     "base_uri": "https://localhost:8080/"
    },
    "id": "WT_MV16zmy2r",
    "outputId": "41737953-e81e-437c-b01c-84313ab8d7aa"
   },
   "outputs": [
    {
     "name": "stdout",
     "output_type": "stream",
     "text": [
      "total 12\n",
      "drwxr-xr-x  2 pi pi 4096 Oct  4 05:04 .\n",
      "drwxr-xr-x 21 pi pi 4096 Oct  4 05:03 ..\n",
      "-rw-r--r--  1 pi pi   63 Oct  4 05:04 kaggle.json\n"
     ]
    }
   ],
   "source": [
    "# if running from Raspberry Pi separately copy your Kaggle API key (kaggle.json) to ~/.kaggle/kaggle.json\n",
    "\n",
    "# check that API key exists\n",
    "!ls -al ~/.kaggle/"
   ]
  },
  {
   "cell_type": "markdown",
   "metadata": {
    "id": "JIbKSrTQndgF"
   },
   "source": [
    "## Download Lego dataset using kaggle package"
   ]
  },
  {
   "cell_type": "code",
   "execution_count": 38,
   "metadata": {
    "colab": {
     "base_uri": "https://localhost:8080/"
    },
    "id": "BDxLyagDe_Td",
    "outputId": "0e467c38-62ad-477e-cd8e-48db1f575c04"
   },
   "outputs": [
    {
     "name": "stdout",
     "output_type": "stream",
     "text": [
      "Looking in indexes: https://pypi.org/simple, https://www.piwheels.org/simple\n",
      "Collecting kaggle\n",
      "  Downloading https://www.piwheels.org/simple/kaggle/kaggle-1.5.16-py3-none-any.whl (110 kB)\n",
      "\u001b[2K     \u001b[90m━━━━━━━━━━━━━━━━━━━━━━━━━━━━━━━━━━━━━\u001b[0m \u001b[32m110.7/110.7 kB\u001b[0m \u001b[31m394.7 kB/s\u001b[0m eta \u001b[36m0:00:00\u001b[0ma \u001b[36m0:00:01\u001b[0m\n",
      "\u001b[?25hRequirement already satisfied: six>=1.10 in /usr/lib/python3/dist-packages (from kaggle) (1.16.0)\n",
      "Requirement already satisfied: certifi in /usr/lib/python3/dist-packages (from kaggle) (2020.6.20)\n",
      "Requirement already satisfied: python-dateutil in /usr/local/lib/python3.9/dist-packages (from kaggle) (2.8.2)\n",
      "Requirement already satisfied: requests in /usr/local/lib/python3.9/dist-packages (from kaggle) (2.31.0)\n",
      "Collecting tqdm (from kaggle)\n",
      "  Downloading https://www.piwheels.org/simple/tqdm/tqdm-4.66.1-py3-none-any.whl (78 kB)\n",
      "\u001b[2K     \u001b[90m━━━━━━━━━━━━━━━━━━━━━━━━━━━━━━━━━━━━━━━\u001b[0m \u001b[32m78.3/78.3 kB\u001b[0m \u001b[31m504.5 kB/s\u001b[0m eta \u001b[36m0:00:00\u001b[0ma \u001b[36m0:00:01\u001b[0m\n",
      "\u001b[?25hCollecting python-slugify (from kaggle)\n",
      "  Downloading https://www.piwheels.org/simple/python-slugify/python_slugify-8.0.1-py3-none-any.whl (9.7 kB)\n",
      "Requirement already satisfied: urllib3 in /usr/lib/python3/dist-packages (from kaggle) (1.26.5)\n",
      "Requirement already satisfied: bleach in /usr/local/lib/python3.9/dist-packages (from kaggle) (6.0.0)\n",
      "Requirement already satisfied: webencodings in /usr/lib/python3/dist-packages (from bleach->kaggle) (0.5.1)\n",
      "Collecting text-unidecode>=1.3 (from python-slugify->kaggle)\n",
      "  Downloading https://www.piwheels.org/simple/text-unidecode/text_unidecode-1.3-py2.py3-none-any.whl (78 kB)\n",
      "\u001b[2K     \u001b[90m━━━━━━━━━━━━━━━━━━━━━━━━━━━━━━━━━━━━━━━\u001b[0m \u001b[32m78.2/78.2 kB\u001b[0m \u001b[31m575.1 kB/s\u001b[0m eta \u001b[36m0:00:00\u001b[0ma \u001b[36m0:00:01\u001b[0m\n",
      "\u001b[?25hRequirement already satisfied: charset-normalizer<4,>=2 in /usr/local/lib/python3.9/dist-packages (from requests->kaggle) (3.3.0)\n",
      "Requirement already satisfied: idna<4,>=2.5 in /usr/lib/python3/dist-packages (from requests->kaggle) (2.10)\n",
      "Installing collected packages: text-unidecode, tqdm, python-slugify, kaggle\n",
      "Successfully installed kaggle-1.5.16 python-slugify-8.0.1 text-unidecode-1.3 tqdm-4.66.1\n",
      "\u001b[33mWARNING: Running pip as the 'root' user can result in broken permissions and conflicting behaviour with the system package manager. It is recommended to use a virtual environment instead: https://pip.pypa.io/warnings/venv\u001b[0m\u001b[33m\n",
      "\u001b[0mWarning: Your Kaggle API key is readable by other users on this system! To fix this, you can run 'chmod 600 /home/pi/.kaggle/kaggle.json'\n",
      "Downloading lego-database.zip to /home/pi/workspace_ait500/labs\n",
      "100%|██████████████████████████████████████| 2.94M/2.94M [00:00<00:00, 14.5MB/s]\n",
      "100%|██████████████████████████████████████| 2.94M/2.94M [00:00<00:00, 13.6MB/s]\n",
      "Archive:  lego-database.zip\n",
      "  inflating: colors.csv              \n",
      "  inflating: downloads_schema.png    \n",
      "  inflating: inventories.csv         \n",
      "  inflating: inventory_parts.csv     \n",
      "  inflating: inventory_sets.csv      \n",
      "  inflating: part_categories.csv     \n",
      "  inflating: parts.csv               \n",
      "  inflating: sets.csv                \n",
      "  inflating: themes.csv              \n"
     ]
    }
   ],
   "source": [
    "!sudo pip install kaggle\n",
    "# download kaggle.json key into ~/.kaggle/kaggle.json\n",
    "!mkdir lego-database\n",
    "!cd lego-database\n",
    "!kaggle datasets download rtatman/lego-database\n",
    "!unzip lego-database -d lego-database # extract to subdirectory"
   ]
  },
  {
   "cell_type": "code",
   "execution_count": 44,
   "metadata": {
    "id": "xL_z8fVoe_Te"
   },
   "outputs": [
    {
     "name": "stdout",
     "output_type": "stream",
     "text": [
      "inventories.csv\n",
      "inventory_parts.csv\n",
      "parts.csv\n",
      "themes.csv\n",
      "colors.csv\n",
      "sets.csv\n",
      "part_categories.csv\n",
      "inventory_sets.csv\n"
     ]
    }
   ],
   "source": [
    "# exclude non-csv files\n",
    "for csv in [f for f in os.listdir('lego-database') if '.csv' in f]:\n",
    "    print(csv)"
   ]
  },
  {
   "cell_type": "code",
   "execution_count": 46,
   "metadata": {
    "colab": {
     "base_uri": "https://localhost:8080/"
    },
    "id": "5C_qRAHfe_Te",
    "outputId": "3ded16b9-234f-4421-8386-8d7e00caf40c"
   },
   "outputs": [
    {
     "name": "stdout",
     "output_type": "stream",
     "text": [
      "id,name,parent_id\n",
      "1,Technic,\n",
      "2,Arctic Technic,1\n",
      "3,Competition,1\n",
      "4,Expert Builder,1\n",
      "5,Model,1\n",
      "6,Airport,5\n",
      "7,Construction,5\n",
      "8,Farm,5\n",
      "9,Fire,5\n"
     ]
    }
   ],
   "source": [
    "!head -n 10 lego-database/themes.csv"
   ]
  },
  {
   "cell_type": "code",
   "execution_count": 47,
   "metadata": {
    "id": "bV4JVviJe_Te"
   },
   "outputs": [],
   "source": [
    "df_colors = pd.read_csv('lego-database/colors.csv')\n",
    "df_parts = pd.read_csv('lego-database/parts.csv')\n",
    "df_themes = pd.read_csv('lego-database/themes.csv')\n",
    "df_inventory_parts = pd.read_csv('lego-database/inventory_parts.csv')\n",
    "df_inventory_sets = pd.read_csv('lego-database/inventory_sets.csv')\n",
    "df_part_categories = pd.read_csv('lego-database/part_categories.csv')\n",
    "df_sets = pd.read_csv('lego-database/sets.csv')\n",
    "df_inventories = pd.read_csv('lego-database/inventories.csv')"
   ]
  },
  {
   "cell_type": "markdown",
   "metadata": {
    "id": "em19C67Oe_Tf"
   },
   "source": [
    "## - what is the oldest Lego set in the database?\n",
    "\n",
    "1950 is the oldest year in this dataset.  In 1950, seven sets were released by Lego\n"
   ]
  },
  {
   "cell_type": "code",
   "execution_count": 48,
   "metadata": {
    "colab": {
     "base_uri": "https://localhost:8080/",
     "height": 269
    },
    "id": "OmEblcDke_Tf",
    "outputId": "81679b02-ee80-40db-effb-6b1b551caf97"
   },
   "outputs": [
    {
     "data": {
      "text/html": [
       "<div>\n",
       "<style scoped>\n",
       "    .dataframe tbody tr th:only-of-type {\n",
       "        vertical-align: middle;\n",
       "    }\n",
       "\n",
       "    .dataframe tbody tr th {\n",
       "        vertical-align: top;\n",
       "    }\n",
       "\n",
       "    .dataframe thead th {\n",
       "        text-align: right;\n",
       "    }\n",
       "</style>\n",
       "<table border=\"1\" class=\"dataframe\">\n",
       "  <thead>\n",
       "    <tr style=\"text-align: right;\">\n",
       "      <th></th>\n",
       "      <th>set_num</th>\n",
       "      <th>name</th>\n",
       "      <th>year</th>\n",
       "      <th>theme_id</th>\n",
       "      <th>num_parts</th>\n",
       "    </tr>\n",
       "  </thead>\n",
       "  <tbody>\n",
       "    <tr>\n",
       "      <th>6935</th>\n",
       "      <td>700.1.1-1</td>\n",
       "      <td>Individual 2 x 4 Bricks</td>\n",
       "      <td>1950</td>\n",
       "      <td>371</td>\n",
       "      <td>10</td>\n",
       "    </tr>\n",
       "    <tr>\n",
       "      <th>6938</th>\n",
       "      <td>700.1.2-1</td>\n",
       "      <td>Individual 2 x 2 Bricks</td>\n",
       "      <td>1950</td>\n",
       "      <td>371</td>\n",
       "      <td>9</td>\n",
       "    </tr>\n",
       "    <tr>\n",
       "      <th>6954</th>\n",
       "      <td>700.A-1</td>\n",
       "      <td>Automatic Binding Bricks Small Brick Set (Lego...</td>\n",
       "      <td>1950</td>\n",
       "      <td>366</td>\n",
       "      <td>24</td>\n",
       "    </tr>\n",
       "    <tr>\n",
       "      <th>6956</th>\n",
       "      <td>700.B.1-1</td>\n",
       "      <td>Individual 1 x 4 x 2 Window (without glass)</td>\n",
       "      <td>1950</td>\n",
       "      <td>371</td>\n",
       "      <td>7</td>\n",
       "    </tr>\n",
       "    <tr>\n",
       "      <th>6957</th>\n",
       "      <td>700.B.2-1</td>\n",
       "      <td>Individual 1 x 2 x 3 Window (without glass)</td>\n",
       "      <td>1950</td>\n",
       "      <td>371</td>\n",
       "      <td>7</td>\n",
       "    </tr>\n",
       "    <tr>\n",
       "      <th>6958</th>\n",
       "      <td>700.B.3-1</td>\n",
       "      <td>Individual 1 x 2 x 2 Window (without glass)</td>\n",
       "      <td>1950</td>\n",
       "      <td>371</td>\n",
       "      <td>7</td>\n",
       "    </tr>\n",
       "    <tr>\n",
       "      <th>6959</th>\n",
       "      <td>700.B.4-1</td>\n",
       "      <td>Individual 1 x 2 x 4 Door (without glass)</td>\n",
       "      <td>1950</td>\n",
       "      <td>371</td>\n",
       "      <td>7</td>\n",
       "    </tr>\n",
       "  </tbody>\n",
       "</table>\n",
       "</div>"
      ],
      "text/plain": [
       "        set_num                                               name  year  \\\n",
       "6935  700.1.1-1                            Individual 2 x 4 Bricks  1950   \n",
       "6938  700.1.2-1                            Individual 2 x 2 Bricks  1950   \n",
       "6954    700.A-1  Automatic Binding Bricks Small Brick Set (Lego...  1950   \n",
       "6956  700.B.1-1        Individual 1 x 4 x 2 Window (without glass)  1950   \n",
       "6957  700.B.2-1        Individual 1 x 2 x 3 Window (without glass)  1950   \n",
       "6958  700.B.3-1        Individual 1 x 2 x 2 Window (without glass)  1950   \n",
       "6959  700.B.4-1          Individual 1 x 2 x 4 Door (without glass)  1950   \n",
       "\n",
       "      theme_id  num_parts  \n",
       "6935       371         10  \n",
       "6938       371          9  \n",
       "6954       366         24  \n",
       "6956       371          7  \n",
       "6957       371          7  \n",
       "6958       371          7  \n",
       "6959       371          7  "
      ]
     },
     "execution_count": 48,
     "metadata": {},
     "output_type": "execute_result"
    }
   ],
   "source": [
    "df_sets[df_sets.year==df_sets.year.min()]"
   ]
  },
  {
   "cell_type": "markdown",
   "metadata": {
    "id": "JBjYvr-Qe_Tf"
   },
   "source": [
    "## what is the most recent Lego set in the database?\n",
    "\n",
    "2017 is the most recent year in this dataset.  For 2017, 296 sets were available"
   ]
  },
  {
   "cell_type": "code",
   "execution_count": 49,
   "metadata": {
    "colab": {
     "base_uri": "https://localhost:8080/",
     "height": 423
    },
    "id": "fl38H8E4e_Tg",
    "outputId": "34e6d4ce-03da-4432-9e37-a401c4b06050"
   },
   "outputs": [
    {
     "data": {
      "text/html": [
       "<div>\n",
       "<style scoped>\n",
       "    .dataframe tbody tr th:only-of-type {\n",
       "        vertical-align: middle;\n",
       "    }\n",
       "\n",
       "    .dataframe tbody tr th {\n",
       "        vertical-align: top;\n",
       "    }\n",
       "\n",
       "    .dataframe thead th {\n",
       "        text-align: right;\n",
       "    }\n",
       "</style>\n",
       "<table border=\"1\" class=\"dataframe\">\n",
       "  <thead>\n",
       "    <tr style=\"text-align: right;\">\n",
       "      <th></th>\n",
       "      <th>set_num</th>\n",
       "      <th>name</th>\n",
       "      <th>year</th>\n",
       "      <th>theme_id</th>\n",
       "      <th>num_parts</th>\n",
       "    </tr>\n",
       "  </thead>\n",
       "  <tbody>\n",
       "    <tr>\n",
       "      <th>236</th>\n",
       "      <td>10255-1</td>\n",
       "      <td>Assembly Square</td>\n",
       "      <td>2017</td>\n",
       "      <td>155</td>\n",
       "      <td>4009</td>\n",
       "    </tr>\n",
       "    <tr>\n",
       "      <th>237</th>\n",
       "      <td>10257-1</td>\n",
       "      <td>Carousel</td>\n",
       "      <td>2017</td>\n",
       "      <td>22</td>\n",
       "      <td>2669</td>\n",
       "    </tr>\n",
       "    <tr>\n",
       "      <th>405</th>\n",
       "      <td>10703-1</td>\n",
       "      <td>Creative Builder Box</td>\n",
       "      <td>2017</td>\n",
       "      <td>365</td>\n",
       "      <td>499</td>\n",
       "    </tr>\n",
       "    <tr>\n",
       "      <th>406</th>\n",
       "      <td>10704-1</td>\n",
       "      <td>Creative Box</td>\n",
       "      <td>2017</td>\n",
       "      <td>365</td>\n",
       "      <td>900</td>\n",
       "    </tr>\n",
       "    <tr>\n",
       "      <th>408</th>\n",
       "      <td>10706-1</td>\n",
       "      <td>Blue Creative Box</td>\n",
       "      <td>2017</td>\n",
       "      <td>365</td>\n",
       "      <td>78</td>\n",
       "    </tr>\n",
       "    <tr>\n",
       "      <th>...</th>\n",
       "      <td>...</td>\n",
       "      <td>...</td>\n",
       "      <td>...</td>\n",
       "      <td>...</td>\n",
       "      <td>...</td>\n",
       "    </tr>\n",
       "    <tr>\n",
       "      <th>11607</th>\n",
       "      <td>SW911720-1</td>\n",
       "      <td>The Ghost</td>\n",
       "      <td>2017</td>\n",
       "      <td>182</td>\n",
       "      <td>50</td>\n",
       "    </tr>\n",
       "    <tr>\n",
       "      <th>11608</th>\n",
       "      <td>SW911722-1</td>\n",
       "      <td>TIE Advanced foil pack</td>\n",
       "      <td>2017</td>\n",
       "      <td>158</td>\n",
       "      <td>26</td>\n",
       "    </tr>\n",
       "    <tr>\n",
       "      <th>11609</th>\n",
       "      <td>SW911723-1</td>\n",
       "      <td>Vulture Droid foil pack</td>\n",
       "      <td>2017</td>\n",
       "      <td>162</td>\n",
       "      <td>35</td>\n",
       "    </tr>\n",
       "    <tr>\n",
       "      <th>11610</th>\n",
       "      <td>SW911724-1</td>\n",
       "      <td>A-Wing</td>\n",
       "      <td>2017</td>\n",
       "      <td>182</td>\n",
       "      <td>47</td>\n",
       "    </tr>\n",
       "    <tr>\n",
       "      <th>11629</th>\n",
       "      <td>TRUFRIENDS-1</td>\n",
       "      <td>Wishing Well</td>\n",
       "      <td>2017</td>\n",
       "      <td>494</td>\n",
       "      <td>33</td>\n",
       "    </tr>\n",
       "  </tbody>\n",
       "</table>\n",
       "<p>296 rows × 5 columns</p>\n",
       "</div>"
      ],
      "text/plain": [
       "            set_num                     name  year  theme_id  num_parts\n",
       "236         10255-1          Assembly Square  2017       155       4009\n",
       "237         10257-1                 Carousel  2017        22       2669\n",
       "405         10703-1     Creative Builder Box  2017       365        499\n",
       "406         10704-1             Creative Box  2017       365        900\n",
       "408         10706-1        Blue Creative Box  2017       365         78\n",
       "...             ...                      ...   ...       ...        ...\n",
       "11607    SW911720-1                The Ghost  2017       182         50\n",
       "11608    SW911722-1   TIE Advanced foil pack  2017       158         26\n",
       "11609    SW911723-1  Vulture Droid foil pack  2017       162         35\n",
       "11610    SW911724-1                   A-Wing  2017       182         47\n",
       "11629  TRUFRIENDS-1             Wishing Well  2017       494         33\n",
       "\n",
       "[296 rows x 5 columns]"
      ]
     },
     "execution_count": 49,
     "metadata": {},
     "output_type": "execute_result"
    }
   ],
   "source": [
    "df_sets[df_sets.year==df_sets.year.max()]"
   ]
  },
  {
   "cell_type": "markdown",
   "metadata": {
    "id": "k-5wxfLGe_Tg"
   },
   "source": [
    "## the quantity available for each Lego set\n",
    "\n",
    "Aggregate `set_num` from `inventory_sets` table and take `sum()` of quantity column"
   ]
  },
  {
   "cell_type": "code",
   "execution_count": 50,
   "metadata": {
    "colab": {
     "base_uri": "https://localhost:8080/",
     "height": 455
    },
    "id": "q7K2o0IRe_Th",
    "outputId": "12d15ec3-f5b9-4014-b501-695dfe102650"
   },
   "outputs": [
    {
     "data": {
      "text/html": [
       "<div>\n",
       "<style scoped>\n",
       "    .dataframe tbody tr th:only-of-type {\n",
       "        vertical-align: middle;\n",
       "    }\n",
       "\n",
       "    .dataframe tbody tr th {\n",
       "        vertical-align: top;\n",
       "    }\n",
       "\n",
       "    .dataframe thead th {\n",
       "        text-align: right;\n",
       "    }\n",
       "</style>\n",
       "<table border=\"1\" class=\"dataframe\">\n",
       "  <thead>\n",
       "    <tr style=\"text-align: right;\">\n",
       "      <th></th>\n",
       "      <th>inventory_id</th>\n",
       "      <th>quantity</th>\n",
       "    </tr>\n",
       "    <tr>\n",
       "      <th>set_num</th>\n",
       "      <th></th>\n",
       "      <th></th>\n",
       "    </tr>\n",
       "  </thead>\n",
       "  <tbody>\n",
       "    <tr>\n",
       "      <th>71007-0</th>\n",
       "      <td>13992</td>\n",
       "      <td>60</td>\n",
       "    </tr>\n",
       "    <tr>\n",
       "      <th>8827-0</th>\n",
       "      <td>13447</td>\n",
       "      <td>60</td>\n",
       "    </tr>\n",
       "    <tr>\n",
       "      <th>8683-0</th>\n",
       "      <td>13603</td>\n",
       "      <td>60</td>\n",
       "    </tr>\n",
       "    <tr>\n",
       "      <th>71005-0</th>\n",
       "      <td>8782</td>\n",
       "      <td>60</td>\n",
       "    </tr>\n",
       "    <tr>\n",
       "      <th>71001-0</th>\n",
       "      <td>10052</td>\n",
       "      <td>60</td>\n",
       "    </tr>\n",
       "    <tr>\n",
       "      <th>...</th>\n",
       "      <td>...</td>\n",
       "      <td>...</td>\n",
       "    </tr>\n",
       "    <tr>\n",
       "      <th>60063-24</th>\n",
       "      <td>1899</td>\n",
       "      <td>1</td>\n",
       "    </tr>\n",
       "    <tr>\n",
       "      <th>60063-23</th>\n",
       "      <td>1899</td>\n",
       "      <td>1</td>\n",
       "    </tr>\n",
       "    <tr>\n",
       "      <th>60063-22</th>\n",
       "      <td>1899</td>\n",
       "      <td>1</td>\n",
       "    </tr>\n",
       "    <tr>\n",
       "      <th>60063-21</th>\n",
       "      <td>1899</td>\n",
       "      <td>1</td>\n",
       "    </tr>\n",
       "    <tr>\n",
       "      <th>pk1062</th>\n",
       "      <td>8918</td>\n",
       "      <td>1</td>\n",
       "    </tr>\n",
       "  </tbody>\n",
       "</table>\n",
       "<p>2306 rows × 2 columns</p>\n",
       "</div>"
      ],
      "text/plain": [
       "          inventory_id  quantity\n",
       "set_num                         \n",
       "71007-0          13992        60\n",
       "8827-0           13447        60\n",
       "8683-0           13603        60\n",
       "71005-0           8782        60\n",
       "71001-0          10052        60\n",
       "...                ...       ...\n",
       "60063-24          1899         1\n",
       "60063-23          1899         1\n",
       "60063-22          1899         1\n",
       "60063-21          1899         1\n",
       "pk1062            8918         1\n",
       "\n",
       "[2306 rows x 2 columns]"
      ]
     },
     "execution_count": 50,
     "metadata": {},
     "output_type": "execute_result"
    }
   ],
   "source": [
    "df_inventory_sets.groupby('set_num').sum().sort_values('quantity', ascending=False) # sort by sets that have the most quantity"
   ]
  },
  {
   "cell_type": "code",
   "execution_count": null,
   "metadata": {
    "id": "FwQgqZ_Ee_Th"
   },
   "outputs": [],
   "source": []
  },
  {
   "cell_type": "markdown",
   "metadata": {
    "id": "0HeOrRoFe_Ti"
   },
   "source": [
    "## the number of sets in each theme\n",
    "\n",
    "Use dataset schema to determine common keys that can be used to join two tables.  \n",
    "\n",
    "To find number of sets in each theme, we need the `themes`, `sets`, and `inventory_sets` tables.  Two joins will be needed to connect the three tables to allow us to group by `themes.name` and take the sum of `inventory_sets.quantity`\n",
    "\n",
    "1. `themes.id` contain the same information as `sets.theme_id`\n",
    "2. `sets.set_num` contain the same information as `inventory_sets.set_num`\n",
    "\n",
    "Note: if duplicate column names exist when `merge`-ing dataframes, Pandas adds `_x` and `_y` suffix to the column name\n",
    "\n",
    "\n"
   ]
  },
  {
   "cell_type": "code",
   "execution_count": 51,
   "metadata": {
    "id": "T6CLrLJMe_Ti",
    "outputId": "556d6081-fa36-44f7-d952-fe3af5b1e140"
   },
   "outputs": [
    {
     "data": {
      "text/html": [
       "<div>\n",
       "<style scoped>\n",
       "    .dataframe tbody tr th:only-of-type {\n",
       "        vertical-align: middle;\n",
       "    }\n",
       "\n",
       "    .dataframe tbody tr th {\n",
       "        vertical-align: top;\n",
       "    }\n",
       "\n",
       "    .dataframe thead th {\n",
       "        text-align: right;\n",
       "    }\n",
       "</style>\n",
       "<table border=\"1\" class=\"dataframe\">\n",
       "  <thead>\n",
       "    <tr style=\"text-align: right;\">\n",
       "      <th></th>\n",
       "      <th>id</th>\n",
       "      <th>name</th>\n",
       "      <th>parent_id</th>\n",
       "    </tr>\n",
       "  </thead>\n",
       "  <tbody>\n",
       "    <tr>\n",
       "      <th>0</th>\n",
       "      <td>1</td>\n",
       "      <td>Technic</td>\n",
       "      <td>NaN</td>\n",
       "    </tr>\n",
       "    <tr>\n",
       "      <th>1</th>\n",
       "      <td>2</td>\n",
       "      <td>Arctic Technic</td>\n",
       "      <td>1.0</td>\n",
       "    </tr>\n",
       "    <tr>\n",
       "      <th>2</th>\n",
       "      <td>3</td>\n",
       "      <td>Competition</td>\n",
       "      <td>1.0</td>\n",
       "    </tr>\n",
       "    <tr>\n",
       "      <th>3</th>\n",
       "      <td>4</td>\n",
       "      <td>Expert Builder</td>\n",
       "      <td>1.0</td>\n",
       "    </tr>\n",
       "  </tbody>\n",
       "</table>\n",
       "</div>"
      ],
      "text/plain": [
       "   id            name  parent_id\n",
       "0   1         Technic        NaN\n",
       "1   2  Arctic Technic        1.0\n",
       "2   3     Competition        1.0\n",
       "3   4  Expert Builder        1.0"
      ]
     },
     "execution_count": 51,
     "metadata": {},
     "output_type": "execute_result"
    }
   ],
   "source": [
    "df_themes.head(4)"
   ]
  },
  {
   "cell_type": "code",
   "execution_count": 52,
   "metadata": {
    "id": "YFC4q4FOe_Ti",
    "outputId": "99e739ca-3fe3-4a34-a881-8c18d35b73d4"
   },
   "outputs": [
    {
     "data": {
      "text/html": [
       "<div>\n",
       "<style scoped>\n",
       "    .dataframe tbody tr th:only-of-type {\n",
       "        vertical-align: middle;\n",
       "    }\n",
       "\n",
       "    .dataframe tbody tr th {\n",
       "        vertical-align: top;\n",
       "    }\n",
       "\n",
       "    .dataframe thead th {\n",
       "        text-align: right;\n",
       "    }\n",
       "</style>\n",
       "<table border=\"1\" class=\"dataframe\">\n",
       "  <thead>\n",
       "    <tr style=\"text-align: right;\">\n",
       "      <th></th>\n",
       "      <th>set_num</th>\n",
       "      <th>name</th>\n",
       "      <th>year</th>\n",
       "      <th>theme_id</th>\n",
       "      <th>num_parts</th>\n",
       "    </tr>\n",
       "  </thead>\n",
       "  <tbody>\n",
       "    <tr>\n",
       "      <th>0</th>\n",
       "      <td>00-1</td>\n",
       "      <td>Weetabix Castle</td>\n",
       "      <td>1970</td>\n",
       "      <td>414</td>\n",
       "      <td>471</td>\n",
       "    </tr>\n",
       "    <tr>\n",
       "      <th>1</th>\n",
       "      <td>0011-2</td>\n",
       "      <td>Town Mini-Figures</td>\n",
       "      <td>1978</td>\n",
       "      <td>84</td>\n",
       "      <td>12</td>\n",
       "    </tr>\n",
       "    <tr>\n",
       "      <th>2</th>\n",
       "      <td>0011-3</td>\n",
       "      <td>Castle 2 for 1 Bonus Offer</td>\n",
       "      <td>1987</td>\n",
       "      <td>199</td>\n",
       "      <td>2</td>\n",
       "    </tr>\n",
       "  </tbody>\n",
       "</table>\n",
       "</div>"
      ],
      "text/plain": [
       "  set_num                        name  year  theme_id  num_parts\n",
       "0    00-1             Weetabix Castle  1970       414        471\n",
       "1  0011-2           Town Mini-Figures  1978        84         12\n",
       "2  0011-3  Castle 2 for 1 Bonus Offer  1987       199          2"
      ]
     },
     "execution_count": 52,
     "metadata": {},
     "output_type": "execute_result"
    }
   ],
   "source": [
    "df_sets.head(3)"
   ]
  },
  {
   "cell_type": "code",
   "execution_count": 53,
   "metadata": {
    "colab": {
     "base_uri": "https://localhost:8080/",
     "height": 143
    },
    "id": "BRgAhtbihcDO",
    "outputId": "6b991ab1-f7d3-4f3e-fdb3-df5058c15673"
   },
   "outputs": [
    {
     "data": {
      "text/html": [
       "<div>\n",
       "<style scoped>\n",
       "    .dataframe tbody tr th:only-of-type {\n",
       "        vertical-align: middle;\n",
       "    }\n",
       "\n",
       "    .dataframe tbody tr th {\n",
       "        vertical-align: top;\n",
       "    }\n",
       "\n",
       "    .dataframe thead th {\n",
       "        text-align: right;\n",
       "    }\n",
       "</style>\n",
       "<table border=\"1\" class=\"dataframe\">\n",
       "  <thead>\n",
       "    <tr style=\"text-align: right;\">\n",
       "      <th></th>\n",
       "      <th>inventory_id</th>\n",
       "      <th>set_num</th>\n",
       "      <th>quantity</th>\n",
       "    </tr>\n",
       "  </thead>\n",
       "  <tbody>\n",
       "    <tr>\n",
       "      <th>0</th>\n",
       "      <td>35</td>\n",
       "      <td>75911-1</td>\n",
       "      <td>1</td>\n",
       "    </tr>\n",
       "    <tr>\n",
       "      <th>1</th>\n",
       "      <td>35</td>\n",
       "      <td>75912-1</td>\n",
       "      <td>1</td>\n",
       "    </tr>\n",
       "    <tr>\n",
       "      <th>2</th>\n",
       "      <td>39</td>\n",
       "      <td>75048-1</td>\n",
       "      <td>1</td>\n",
       "    </tr>\n",
       "  </tbody>\n",
       "</table>\n",
       "</div>"
      ],
      "text/plain": [
       "   inventory_id  set_num  quantity\n",
       "0            35  75911-1         1\n",
       "1            35  75912-1         1\n",
       "2            39  75048-1         1"
      ]
     },
     "execution_count": 53,
     "metadata": {},
     "output_type": "execute_result"
    }
   ],
   "source": [
    "df_inventory_sets.head(3)"
   ]
  },
  {
   "cell_type": "code",
   "execution_count": 54,
   "metadata": {
    "colab": {
     "base_uri": "https://localhost:8080/",
     "height": 143
    },
    "id": "WrICG1NDe_Tj",
    "outputId": "1569c9f4-3f11-49de-cfb3-ab5b474a6b67"
   },
   "outputs": [
    {
     "data": {
      "text/html": [
       "<div>\n",
       "<style scoped>\n",
       "    .dataframe tbody tr th:only-of-type {\n",
       "        vertical-align: middle;\n",
       "    }\n",
       "\n",
       "    .dataframe tbody tr th {\n",
       "        vertical-align: top;\n",
       "    }\n",
       "\n",
       "    .dataframe thead th {\n",
       "        text-align: right;\n",
       "    }\n",
       "</style>\n",
       "<table border=\"1\" class=\"dataframe\">\n",
       "  <thead>\n",
       "    <tr style=\"text-align: right;\">\n",
       "      <th></th>\n",
       "      <th>id</th>\n",
       "      <th>name_x</th>\n",
       "      <th>parent_id</th>\n",
       "      <th>set_num</th>\n",
       "      <th>name_y</th>\n",
       "      <th>year</th>\n",
       "      <th>theme_id</th>\n",
       "      <th>num_parts</th>\n",
       "    </tr>\n",
       "  </thead>\n",
       "  <tbody>\n",
       "    <tr>\n",
       "      <th>0</th>\n",
       "      <td>1</td>\n",
       "      <td>Technic</td>\n",
       "      <td>NaN</td>\n",
       "      <td>1030-1</td>\n",
       "      <td>TECHNIC I: Simple Machines Set</td>\n",
       "      <td>1985</td>\n",
       "      <td>1</td>\n",
       "      <td>189</td>\n",
       "    </tr>\n",
       "    <tr>\n",
       "      <th>1</th>\n",
       "      <td>1</td>\n",
       "      <td>Technic</td>\n",
       "      <td>NaN</td>\n",
       "      <td>1032-1</td>\n",
       "      <td>TECHNIC II Set {4.5v}</td>\n",
       "      <td>1985</td>\n",
       "      <td>1</td>\n",
       "      <td>278</td>\n",
       "    </tr>\n",
       "    <tr>\n",
       "      <th>2</th>\n",
       "      <td>1</td>\n",
       "      <td>Technic</td>\n",
       "      <td>NaN</td>\n",
       "      <td>1038-1</td>\n",
       "      <td>ERBIE the Robo-Car</td>\n",
       "      <td>1985</td>\n",
       "      <td>1</td>\n",
       "      <td>120</td>\n",
       "    </tr>\n",
       "  </tbody>\n",
       "</table>\n",
       "</div>"
      ],
      "text/plain": [
       "   id   name_x  parent_id set_num                          name_y  year  \\\n",
       "0   1  Technic        NaN  1030-1  TECHNIC I: Simple Machines Set  1985   \n",
       "1   1  Technic        NaN  1032-1           TECHNIC II Set {4.5v}  1985   \n",
       "2   1  Technic        NaN  1038-1              ERBIE the Robo-Car  1985   \n",
       "\n",
       "   theme_id  num_parts  \n",
       "0         1        189  \n",
       "1         1        278  \n",
       "2         1        120  "
      ]
     },
     "execution_count": 54,
     "metadata": {},
     "output_type": "execute_result"
    }
   ],
   "source": [
    "df_themes_sets = pd.merge(df_themes, df_sets, left_on='id', right_on='theme_id')\n",
    "df_themes_sets.head(3)"
   ]
  },
  {
   "cell_type": "code",
   "execution_count": 55,
   "metadata": {
    "colab": {
     "base_uri": "https://localhost:8080/",
     "height": 143
    },
    "id": "S62l_azIhehF",
    "outputId": "c4683ff2-ce74-4119-b2f2-9df863d25e83"
   },
   "outputs": [
    {
     "data": {
      "text/html": [
       "<div>\n",
       "<style scoped>\n",
       "    .dataframe tbody tr th:only-of-type {\n",
       "        vertical-align: middle;\n",
       "    }\n",
       "\n",
       "    .dataframe tbody tr th {\n",
       "        vertical-align: top;\n",
       "    }\n",
       "\n",
       "    .dataframe thead th {\n",
       "        text-align: right;\n",
       "    }\n",
       "</style>\n",
       "<table border=\"1\" class=\"dataframe\">\n",
       "  <thead>\n",
       "    <tr style=\"text-align: right;\">\n",
       "      <th></th>\n",
       "      <th>id</th>\n",
       "      <th>name_x</th>\n",
       "      <th>parent_id</th>\n",
       "      <th>set_num</th>\n",
       "      <th>name_y</th>\n",
       "      <th>year</th>\n",
       "      <th>theme_id</th>\n",
       "      <th>num_parts</th>\n",
       "      <th>inventory_id</th>\n",
       "      <th>quantity</th>\n",
       "    </tr>\n",
       "  </thead>\n",
       "  <tbody>\n",
       "    <tr>\n",
       "      <th>0</th>\n",
       "      <td>1</td>\n",
       "      <td>Technic</td>\n",
       "      <td>NaN</td>\n",
       "      <td>9916-1</td>\n",
       "      <td>LEGO Electrical Capacitor</td>\n",
       "      <td>1999</td>\n",
       "      <td>1</td>\n",
       "      <td>1</td>\n",
       "      <td>3705</td>\n",
       "      <td>1</td>\n",
       "    </tr>\n",
       "    <tr>\n",
       "      <th>1</th>\n",
       "      <td>1</td>\n",
       "      <td>Technic</td>\n",
       "      <td>NaN</td>\n",
       "      <td>9916-1</td>\n",
       "      <td>LEGO Electrical Capacitor</td>\n",
       "      <td>1999</td>\n",
       "      <td>1</td>\n",
       "      <td>1</td>\n",
       "      <td>5955</td>\n",
       "      <td>1</td>\n",
       "    </tr>\n",
       "    <tr>\n",
       "      <th>2</th>\n",
       "      <td>3</td>\n",
       "      <td>Competition</td>\n",
       "      <td>1.0</td>\n",
       "      <td>2854-1</td>\n",
       "      <td>Bungee Chopper</td>\n",
       "      <td>1998</td>\n",
       "      <td>3</td>\n",
       "      <td>70</td>\n",
       "      <td>5217</td>\n",
       "      <td>1</td>\n",
       "    </tr>\n",
       "  </tbody>\n",
       "</table>\n",
       "</div>"
      ],
      "text/plain": [
       "   id       name_x  parent_id set_num                     name_y  year  \\\n",
       "0   1      Technic        NaN  9916-1  LEGO Electrical Capacitor  1999   \n",
       "1   1      Technic        NaN  9916-1  LEGO Electrical Capacitor  1999   \n",
       "2   3  Competition        1.0  2854-1             Bungee Chopper  1998   \n",
       "\n",
       "   theme_id  num_parts  inventory_id  quantity  \n",
       "0         1          1          3705         1  \n",
       "1         1          1          5955         1  \n",
       "2         3         70          5217         1  "
      ]
     },
     "execution_count": 55,
     "metadata": {},
     "output_type": "execute_result"
    }
   ],
   "source": [
    "df_theme_sets_inventory_sets = pd.merge(df_themes_sets, df_inventory_sets, left_on='set_num', right_on='set_num')\n",
    "df_theme_sets_inventory_sets.head(3)"
   ]
  },
  {
   "cell_type": "code",
   "execution_count": 56,
   "metadata": {
    "colab": {
     "base_uri": "https://localhost:8080/",
     "height": 708
    },
    "id": "8OC3KZFMe_Tj",
    "outputId": "7596dde1-98e8-4f22-b76d-1be2405c2f87"
   },
   "outputs": [
    {
     "data": {
      "text/html": [
       "<div>\n",
       "<style scoped>\n",
       "    .dataframe tbody tr th:only-of-type {\n",
       "        vertical-align: middle;\n",
       "    }\n",
       "\n",
       "    .dataframe tbody tr th {\n",
       "        vertical-align: top;\n",
       "    }\n",
       "\n",
       "    .dataframe thead th {\n",
       "        text-align: right;\n",
       "    }\n",
       "</style>\n",
       "<table border=\"1\" class=\"dataframe\">\n",
       "  <thead>\n",
       "    <tr style=\"text-align: right;\">\n",
       "      <th></th>\n",
       "      <th>quantity</th>\n",
       "    </tr>\n",
       "    <tr>\n",
       "      <th>name_x</th>\n",
       "      <th></th>\n",
       "    </tr>\n",
       "  </thead>\n",
       "  <tbody>\n",
       "    <tr>\n",
       "      <th>City</th>\n",
       "      <td>217</td>\n",
       "    </tr>\n",
       "    <tr>\n",
       "      <th>The Simpsons</th>\n",
       "      <td>152</td>\n",
       "    </tr>\n",
       "    <tr>\n",
       "      <th>Star Wars</th>\n",
       "      <td>107</td>\n",
       "    </tr>\n",
       "    <tr>\n",
       "      <th>Fire</th>\n",
       "      <td>89</td>\n",
       "    </tr>\n",
       "    <tr>\n",
       "      <th>Police</th>\n",
       "      <td>84</td>\n",
       "    </tr>\n",
       "    <tr>\n",
       "      <th>...</th>\n",
       "      <td>...</td>\n",
       "    </tr>\n",
       "    <tr>\n",
       "      <th>Space Police II</th>\n",
       "      <td>1</td>\n",
       "    </tr>\n",
       "    <tr>\n",
       "      <th>Divers</th>\n",
       "      <td>1</td>\n",
       "    </tr>\n",
       "    <tr>\n",
       "      <th>Exploriens</th>\n",
       "      <td>1</td>\n",
       "    </tr>\n",
       "    <tr>\n",
       "      <th>Educational and Dacta</th>\n",
       "      <td>1</td>\n",
       "    </tr>\n",
       "    <tr>\n",
       "      <th>Legend Beasts</th>\n",
       "      <td>1</td>\n",
       "    </tr>\n",
       "  </tbody>\n",
       "</table>\n",
       "<p>208 rows × 1 columns</p>\n",
       "</div>"
      ],
      "text/plain": [
       "                       quantity\n",
       "name_x                         \n",
       "City                        217\n",
       "The Simpsons                152\n",
       "Star Wars                   107\n",
       "Fire                         89\n",
       "Police                       84\n",
       "...                         ...\n",
       "Space Police II               1\n",
       "Divers                        1\n",
       "Exploriens                    1\n",
       "Educational and Dacta         1\n",
       "Legend Beasts                 1\n",
       "\n",
       "[208 rows x 1 columns]"
      ]
     },
     "execution_count": 56,
     "metadata": {},
     "output_type": "execute_result"
    }
   ],
   "source": [
    "# aggregate dataframe with theme, set, and inventory data to calculate number of sets for each theme\n",
    "# use only theme name field and inventory quantity field\n",
    "\n",
    "df_theme_sets_inventory_sets[['name_x', 'quantity']].groupby('name_x').sum().sort_values('quantity', ascending=False)"
   ]
  },
  {
   "cell_type": "code",
   "execution_count": null,
   "metadata": {
    "id": "9zV5CZkqqAPl"
   },
   "outputs": [],
   "source": []
  }
 ],
 "metadata": {
  "colab": {
   "provenance": []
  },
  "kernelspec": {
   "display_name": "Python 3 (ipykernel)",
   "language": "python",
   "name": "python3"
  },
  "language_info": {
   "codemirror_mode": {
    "name": "ipython",
    "version": 3
   },
   "file_extension": ".py",
   "mimetype": "text/x-python",
   "name": "python",
   "nbconvert_exporter": "python",
   "pygments_lexer": "ipython3",
   "version": "3.9.2"
  }
 },
 "nbformat": 4,
 "nbformat_minor": 4
}
