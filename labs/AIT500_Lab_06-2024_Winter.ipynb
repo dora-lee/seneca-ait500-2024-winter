{
  "cells": [
    {
      "cell_type": "markdown",
      "metadata": {
        "id": "VTo-Ky3dPk-S"
      },
      "source": [
        "# AIT500 - Training and Prediction with MNIST Digits\n",
        "\n",
        "This notebook provides you with an introduction in using different ML algorithms frameworks to perform image recognition on MNIST digits.\n",
        "\n",
        "You will be able using different metrics and tools to assess the quality of predicting digits captured by your PiCamera\n",
        "\n",
        "**Note: This notebook should be run in Colab**\n",
        "\n",
        "\n",
        "\n",
        "\n"
      ]
    },
    {
      "cell_type": "markdown",
      "source": [
        "# Setup Libraries"
      ],
      "metadata": {
        "id": "BUfScqzvQKtX"
      }
    },
    {
      "cell_type": "code",
      "source": [
        "import pandas as pd\n",
        "import numpy as np\n",
        "\n",
        "# set pandas display options\n",
        "pd.set_option('display.max_columns', 50) # show more columns\n",
        "pd.set_option('display.max_rows', 200) # show more rows\n",
        "pd.set_option('max_colwidth', 400) # set wider columns\n",
        "\n",
        "# set numpy display options\n",
        "np.set_printoptions(threshold=np.inf)\n",
        "np.set_printoptions(linewidth=np.inf)"
      ],
      "metadata": {
        "id": "L-KrelAB_bQC"
      },
      "execution_count": null,
      "outputs": []
    },
    {
      "cell_type": "markdown",
      "source": [
        "# Setup Google Drive access to API keys"
      ],
      "metadata": {
        "id": "6QQidYIQY97m"
      }
    },
    {
      "cell_type": "code",
      "source": [
        "#@markdown connect to drive for API keys stored in <br> `My Drive/Colab Notebooks/API_Keys`\n",
        "import os, sys\n",
        "from google.colab import drive\n",
        "drive.mount('/content/mnt')\n",
        "nb_path = '/content/notebooks'\n",
        "os.symlink('/content/mnt/My Drive/Colab Notebooks', nb_path)\n",
        "sys.path.insert(0, nb_path)  # or append(nb_path)\n"
      ],
      "metadata": {
        "id": "uOQDBLlqXZdX",
        "colab": {
          "base_uri": "https://localhost:8080/",
          "height": 245
        },
        "outputId": "444813c3-60d2-4858-eefc-1e0eaa629b38"
      },
      "execution_count": null,
      "outputs": [
        {
          "output_type": "stream",
          "name": "stdout",
          "text": [
            "Drive already mounted at /content/mnt; to attempt to forcibly remount, call drive.mount(\"/content/mnt\", force_remount=True).\n"
          ]
        },
        {
          "output_type": "error",
          "ename": "FileExistsError",
          "evalue": "ignored",
          "traceback": [
            "\u001b[0;31m---------------------------------------------------------------------------\u001b[0m",
            "\u001b[0;31mFileExistsError\u001b[0m                           Traceback (most recent call last)",
            "\u001b[0;32m<ipython-input-9-ed3208929be5>\u001b[0m in \u001b[0;36m<cell line: 6>\u001b[0;34m()\u001b[0m\n\u001b[1;32m      4\u001b[0m \u001b[0mdrive\u001b[0m\u001b[0;34m.\u001b[0m\u001b[0mmount\u001b[0m\u001b[0;34m(\u001b[0m\u001b[0;34m'/content/mnt'\u001b[0m\u001b[0;34m)\u001b[0m\u001b[0;34m\u001b[0m\u001b[0;34m\u001b[0m\u001b[0m\n\u001b[1;32m      5\u001b[0m \u001b[0mnb_path\u001b[0m \u001b[0;34m=\u001b[0m \u001b[0;34m'/content/notebooks'\u001b[0m\u001b[0;34m\u001b[0m\u001b[0;34m\u001b[0m\u001b[0m\n\u001b[0;32m----> 6\u001b[0;31m \u001b[0mos\u001b[0m\u001b[0;34m.\u001b[0m\u001b[0msymlink\u001b[0m\u001b[0;34m(\u001b[0m\u001b[0;34m'/content/mnt/My Drive/Colab Notebooks'\u001b[0m\u001b[0;34m,\u001b[0m \u001b[0mnb_path\u001b[0m\u001b[0;34m)\u001b[0m\u001b[0;34m\u001b[0m\u001b[0;34m\u001b[0m\u001b[0m\n\u001b[0m\u001b[1;32m      7\u001b[0m \u001b[0msys\u001b[0m\u001b[0;34m.\u001b[0m\u001b[0mpath\u001b[0m\u001b[0;34m.\u001b[0m\u001b[0minsert\u001b[0m\u001b[0;34m(\u001b[0m\u001b[0;36m0\u001b[0m\u001b[0;34m,\u001b[0m \u001b[0mnb_path\u001b[0m\u001b[0;34m)\u001b[0m  \u001b[0;31m# or append(nb_path)\u001b[0m\u001b[0;34m\u001b[0m\u001b[0;34m\u001b[0m\u001b[0m\n",
            "\u001b[0;31mFileExistsError\u001b[0m: [Errno 17] File exists: '/content/mnt/My Drive/Colab Notebooks' -> '/content/notebooks'"
          ]
        }
      ]
    },
    {
      "cell_type": "code",
      "source": [],
      "metadata": {
        "id": "1CSrSyf0_bNx",
        "colab": {
          "base_uri": "https://localhost:8080/"
        },
        "outputId": "fd647645-2a9b-4774-a3ef-71c461f7016e"
      },
      "execution_count": null,
      "outputs": [
        {
          "output_type": "stream",
          "name": "stdout",
          "text": [
            "mnist_sklearn_logistic_model_28x28.joblib  mnist_sklearn_svc_model_8x8.joblib\n",
            "mnist_sklearn_svc_model_28x28.joblib\t   mnist_tf_cnn_model_28x28\n"
          ]
        }
      ]
    },
    {
      "cell_type": "code",
      "source": [],
      "metadata": {
        "id": "F-t-0o1M_bLJ"
      },
      "execution_count": null,
      "outputs": []
    },
    {
      "cell_type": "code",
      "source": [],
      "metadata": {
        "id": "o5nzwrdy_bIT"
      },
      "execution_count": null,
      "outputs": []
    },
    {
      "cell_type": "code",
      "source": [],
      "metadata": {
        "id": "uZSveRKE_bFs"
      },
      "execution_count": null,
      "outputs": []
    },
    {
      "cell_type": "code",
      "source": [],
      "metadata": {
        "id": "p4_jCUT0sN6z"
      },
      "execution_count": null,
      "outputs": []
    },
    {
      "cell_type": "code",
      "source": [],
      "metadata": {
        "id": "ax-PXZNxsN32"
      },
      "execution_count": null,
      "outputs": []
    },
    {
      "cell_type": "markdown",
      "source": [
        "# Prediction on your own images\n",
        "\n",
        "\n",
        "1. On a blank paper, write 4 versions of 3 different digits.  (use your own favourite digits, don't need to use 1, 4, or 7)\n",
        " ```\n",
        " 1 1 1 1\n",
        " 4 4 4 4\n",
        " 7 7 7 7\n",
        " ```\n",
        "1. Use your Pi to capture the hand-written images.  Use a high resolution capture\n",
        "1. For each digit, use python code to:\n",
        "  1. Crop each image using a square crop\n",
        "  1. Convert cropped image to black & white\n",
        "  1. Reshape cropped digit to 28x28\n",
        "  1. Save into its own filename. For example:\n",
        "\n",
        "      `ait500_lab6_1a.jpg`, `ait500_lab6_1b.jpg`, `ait500_lab6_1c.jpg`, `ait500_lab6_1d.jpg`\n",
        "\n",
        "      `ait500_lab6_4a.jpg`, `ait500_lab6_4b.jpg`, `ait500_lab6_4c.jpg`, `ait500_lab6_4d.jpg`\n",
        "\n",
        "      `ait500_lab6_7a.jpg`, `ait500_lab6_7b.jpg`, `ait500_lab6_7c.jpg`, `ait500_lab6_7d.jpg`\n",
        "  \n",
        "1. Upload your image into Colab for use with this notebook\n",
        "1. Use the following models from [AIT500-Lab_06 Prep-2024_Winter.ipynb](https://github.com/dora-lee/seneca-ait500-2024-winter/blob/main/labs/AIT500_Lab_06_Prep-2024_Winter.ipynb) to generate predictions on your images:\n",
        "  - `mnist_sklearn_svc_model`\n",
        "  - `mnist_sklearn_logistic_model`\n",
        "  - `tf_cnn_model`\n",
        "1. For each model, display your image along with the prediction given\n",
        "1. Show the confusion matrix for each model with your 12 captured digits\n",
        "\n"
      ],
      "metadata": {
        "id": "hJqTrKC0nbK2"
      }
    },
    {
      "cell_type": "code",
      "source": [],
      "metadata": {
        "id": "iVyWIMltsN1D"
      },
      "execution_count": null,
      "outputs": []
    },
    {
      "cell_type": "markdown",
      "source": [
        "## Predicting with Scikit-Learn SVC Model to Recognize 28x28 AIT500 Digits"
      ],
      "metadata": {
        "id": "surXDgsBfiq4"
      }
    },
    {
      "cell_type": "code",
      "source": [
        "import pandas as pd\n",
        "import matplotlib.pyplot as plt # plotting library\n",
        "import os\n",
        "from PIL import Image\n",
        "import seaborn as sns\n",
        "import numpy as np\n",
        "os.getcwd()\n",
        "\n",
        "\n",
        "# Import datasets, classifiers and performance metrics\n",
        "from sklearn import datasets, metrics, svm\n",
        "from sklearn.model_selection import train_test_split\n",
        "from sklearn.utils import check_random_state\n",
        "\n",
        "import joblib # for saving, loading sklearn model"
      ],
      "metadata": {
        "id": "vYJXuHNDyV5C"
      },
      "execution_count": null,
      "outputs": []
    },
    {
      "cell_type": "code",
      "source": [],
      "metadata": {
        "id": "tA70mzYss2oX"
      },
      "execution_count": null,
      "outputs": []
    },
    {
      "cell_type": "code",
      "source": [],
      "metadata": {
        "id": "6x14eJsNs2l7"
      },
      "execution_count": null,
      "outputs": []
    },
    {
      "cell_type": "markdown",
      "source": [
        "### Load model and make predictions\n",
        "\n",
        "Load saved model from above and call `predict()` to make predictions on the test dataset\n",
        "\n",
        "Note: We need to ensure the shape of the input data matches the same same as data used to train the model\n",
        "\n",
        "What is the accuracy, precision, and recall?\n"
      ],
      "metadata": {
        "id": "-PVankZ_sD8q"
      }
    },
    {
      "cell_type": "code",
      "source": [
        "mnist_sklearn_svc_model_28x28 = joblib.load(mnist_sklearn_svc_model_28x28_filename)"
      ],
      "metadata": {
        "id": "x3bVC0nssD8z"
      },
      "execution_count": null,
      "outputs": []
    },
    {
      "cell_type": "code",
      "source": [
        "prediction = mnist_sklearn_svc_model_28x28.predict(X_test_standardized)\n",
        "print(metrics.classification_report(y_test, prediction))"
      ],
      "metadata": {
        "colab": {
          "base_uri": "https://localhost:8080/"
        },
        "outputId": "7d96f3f5-8480-448a-a5ca-3ccb1702af38",
        "id": "EtHwP8MRsD8z"
      },
      "execution_count": null,
      "outputs": [
        {
          "output_type": "stream",
          "name": "stdout",
          "text": [
            "              precision    recall  f1-score   support\n",
            "\n",
            "           0       0.97      0.97      0.97      3543\n",
            "           1       0.96      0.98      0.97      3900\n",
            "           2       0.93      0.91      0.92      3517\n",
            "           3       0.92      0.90      0.91      3569\n",
            "           4       0.92      0.93      0.93      3392\n",
            "           5       0.92      0.89      0.90      3164\n",
            "           6       0.95      0.93      0.94      3433\n",
            "           7       0.86      0.93      0.89      3620\n",
            "           8       0.92      0.89      0.90      3382\n",
            "           9       0.90      0.90      0.90      3480\n",
            "\n",
            "    accuracy                           0.92     35000\n",
            "   macro avg       0.92      0.92      0.92     35000\n",
            "weighted avg       0.92      0.92      0.92     35000\n",
            "\n"
          ]
        }
      ]
    },
    {
      "cell_type": "code",
      "source": [],
      "metadata": {
        "id": "bsEm2yf2s2jo"
      },
      "execution_count": null,
      "outputs": []
    },
    {
      "cell_type": "code",
      "source": [],
      "metadata": {
        "id": "5iXr2mmxs2hH"
      },
      "execution_count": null,
      "outputs": []
    },
    {
      "cell_type": "markdown",
      "source": [
        "## Predicting with Scikit-Learn Multinomial Logistic w/ L1 Regularization to Recognize 28x28 AIT500 Digits\n",
        "\n",
        "https://scikit-learn.org/stable/auto_examples/linear_model/plot_sparse_logistic_regression_mnist.html\n"
      ],
      "metadata": {
        "id": "HBX9EMIHtbmr"
      }
    },
    {
      "cell_type": "code",
      "source": [
        "import time\n",
        "\n",
        "import matplotlib.pyplot as plt\n",
        "import numpy as np\n",
        "import pandas as pd\n",
        "\n",
        "from sklearn.datasets import fetch_openml\n",
        "from sklearn.linear_model import LogisticRegression\n",
        "from sklearn.model_selection import train_test_split\n",
        "from sklearn.preprocessing import StandardScaler\n",
        "from sklearn.utils import check_random_state\n",
        "from sklearn import metrics\n",
        "\n",
        "import joblib # for saving, loading sklearn model"
      ],
      "metadata": {
        "id": "nPdBEVBltbm0"
      },
      "execution_count": null,
      "outputs": []
    },
    {
      "cell_type": "code",
      "source": [],
      "metadata": {
        "id": "3d6YuRtwtVxc"
      },
      "execution_count": null,
      "outputs": []
    },
    {
      "cell_type": "markdown",
      "source": [
        "### Load model and make predictions\n",
        "\n",
        "Load saved model from above and call `predict()` to make predictions on the test dataset\n",
        "\n",
        "Note: We need to ensure the shape of the input data matches the same same as data used to train the model\n",
        "\n"
      ],
      "metadata": {
        "id": "9jLRAMkMuqHw"
      }
    },
    {
      "cell_type": "code",
      "source": [
        "mnist_sklearn_logistic_model = joblib.load(sk_logistic_save_model_filename)"
      ],
      "metadata": {
        "id": "kvSvFfAtfdDN"
      },
      "execution_count": null,
      "outputs": []
    },
    {
      "cell_type": "code",
      "source": [
        "prediction = mnist_sklearn_logistic_model.predict(X_test)\n",
        "print(metrics.classification_report(y_test, prediction))"
      ],
      "metadata": {
        "colab": {
          "base_uri": "https://localhost:8080/"
        },
        "id": "0JaXKFYBAMoJ",
        "outputId": "11b43d90-a21f-419a-ccc3-fd1bbbc8eec8"
      },
      "execution_count": null,
      "outputs": [
        {
          "output_type": "stream",
          "name": "stdout",
          "text": [
            "              precision    recall  f1-score   support\n",
            "\n",
            "           0       0.85      0.95      0.89       957\n",
            "           1       0.76      0.97      0.86      1096\n",
            "           2       0.89      0.78      0.83      1026\n",
            "           3       0.76      0.84      0.80       978\n",
            "           4       0.84      0.88      0.86      1022\n",
            "           5       0.84      0.66      0.74       893\n",
            "           6       0.87      0.91      0.89      1002\n",
            "           7       0.85      0.85      0.85      1046\n",
            "           8       0.87      0.67      0.76       974\n",
            "           9       0.80      0.76      0.78      1006\n",
            "\n",
            "    accuracy                           0.83     10000\n",
            "   macro avg       0.83      0.83      0.83     10000\n",
            "weighted avg       0.83      0.83      0.83     10000\n",
            "\n"
          ]
        }
      ]
    },
    {
      "cell_type": "code",
      "source": [],
      "metadata": {
        "id": "zIIWJjNutVu9"
      },
      "execution_count": null,
      "outputs": []
    },
    {
      "cell_type": "code",
      "source": [],
      "metadata": {
        "id": "zllRY1ydtVsZ"
      },
      "execution_count": null,
      "outputs": []
    },
    {
      "cell_type": "markdown",
      "metadata": {
        "id": "SPQZNMLYt1yB"
      },
      "source": [
        "## Prediction with CNN Model to Recognize 28x28 AIT500 Digits\n",
        "\n",
        "[Convolutional Neural Networks (CNN)](https://developers.google.com/machine-learning/practica/image-classification/convolutional-neural-networks#introducing_convolutional_neural_networks) are a model category that provided significant improvements over its previous generation of models.  At a high level, CNNs made use of the spatial relationships between pixels to help it recognize broader patterns in an image.\n",
        "\n",
        "References:\n",
        "- https://www.kaggle.com/code/amyjang/tensorflow-mnist-cnn-tutorial\n",
        "- https://colab.research.google.com/github/tensorflow/datasets/blob/master/docs/keras_example.ipynb\n",
        "- https://www.kaggle.com/code/yassineghouzam/introduction-to-cnn-keras-0-997-top-6/notebook\n",
        "\n"
      ]
    },
    {
      "cell_type": "code",
      "execution_count": null,
      "metadata": {
        "colab": {
          "base_uri": "https://localhost:8080/"
        },
        "outputId": "8dff650d-9a78-4cd5-f280-bbe0c5187025",
        "id": "Kq0DCcE6t1yB"
      },
      "outputs": [
        {
          "output_type": "stream",
          "name": "stdout",
          "text": [
            "2.14.0\n"
          ]
        }
      ],
      "source": [
        "import tensorflow as tf\n",
        "import seaborn as sns\n",
        "import numpy as np\n",
        "import pandas as pd\n",
        "import matplotlib.pyplot as plt\n",
        "import matplotlib.image as mpimg\n",
        "\n",
        "import joblib # for saving model\n",
        "\n",
        "print(tf.__version__)"
      ]
    },
    {
      "cell_type": "code",
      "source": [],
      "metadata": {
        "id": "tgGlOikKt1yB"
      },
      "execution_count": null,
      "outputs": []
    },
    {
      "cell_type": "code",
      "source": [
        "# set this to match your google drive path\n",
        "tf_cnn_model_filename = '/content/notebooks/AIT500/models/mnist_tf_cnn_model_28x28'\n",
        "model.save(tf_cnn_model_filename)"
      ],
      "metadata": {
        "id": "-MwgVtaxt1yG"
      },
      "execution_count": null,
      "outputs": []
    },
    {
      "cell_type": "code",
      "source": [],
      "metadata": {
        "id": "4rIZFECyt1yG"
      },
      "execution_count": null,
      "outputs": []
    },
    {
      "cell_type": "markdown",
      "source": [
        "### Load model and make predictions\n",
        "\n",
        "Load saved model from above and call `predict()` to make predictions on the test dataset\n",
        "\n",
        "Note: We need to ensure the shape of the input data matches the same same as data used to train the model\n",
        "\n",
        "What is the accuracy, precision, and recall?\n"
      ],
      "metadata": {
        "id": "1TU3FxBht1yG"
      }
    },
    {
      "cell_type": "code",
      "execution_count": null,
      "metadata": {
        "id": "70n3a3WRt1yH"
      },
      "outputs": [],
      "source": [
        " tf_cnn_model = tf.keras.models.load_model(tf_cnn_model_filename)"
      ]
    },
    {
      "cell_type": "code",
      "source": [],
      "metadata": {
        "id": "yM9tPJh2t1yH"
      },
      "execution_count": null,
      "outputs": []
    },
    {
      "cell_type": "code",
      "execution_count": null,
      "metadata": {
        "colab": {
          "base_uri": "https://localhost:8080/",
          "height": 325
        },
        "outputId": "654299eb-c88c-44c1-c461-a5edb7b7d3a4",
        "id": "TTZe6ut_t1yH"
      },
      "outputs": [
        {
          "output_type": "stream",
          "name": "stdout",
          "text": [
            "1/1 [==============================] - 0s 24ms/step\n"
          ]
        },
        {
          "output_type": "execute_result",
          "data": {
            "text/plain": [
              "Text(0.5, 1.0, 'Prediction: 5')"
            ]
          },
          "metadata": {},
          "execution_count": 187
        },
        {
          "output_type": "display_data",
          "data": {
            "text/plain": [
              "<Figure size 1000x300 with 1 Axes>"
            ],
            "image/png": "[encoded data removed]"
          },
          "metadata": {}
        }
      ],
      "source": [
        "SAMPLE_INDEX = 7\n",
        "label_digit = y_train[SAMPLE_INDEX]\n",
        "sample_digit = x_train[SAMPLE_INDEX,::]\n",
        "sample_digit = sample_digit[np.newaxis,::]\n",
        "\n",
        "predicted_digit = np.argmax(tf_cnn_model.predict(sample_digit), axis=1).item()\n",
        "\n",
        "_, ax = plt.subplots(nrows=1, ncols=1, figsize=(10, 3))\n",
        "ax.set_axis_off()\n",
        "image = sample_digit.squeeze()\n",
        "ax.imshow(image, cmap=plt.cm.gray_r, interpolation=\"nearest\")\n",
        "ax.set_title(f\"Prediction: {predicted_digit}\")"
      ]
    },
    {
      "cell_type": "code",
      "source": [],
      "metadata": {
        "id": "PtYZBEgGt1yH"
      },
      "execution_count": null,
      "outputs": []
    },
    {
      "cell_type": "code",
      "source": [],
      "metadata": {
        "id": "bh13HoAbtVpz"
      },
      "execution_count": null,
      "outputs": []
    },
    {
      "cell_type": "code",
      "source": [],
      "metadata": {
        "id": "FobNw2qNtVnX"
      },
      "execution_count": null,
      "outputs": []
    },
    {
      "cell_type": "code",
      "source": [],
      "metadata": {
        "id": "g8eU8MHQs2ea"
      },
      "execution_count": null,
      "outputs": []
    },
    {
      "cell_type": "markdown",
      "source": [
        "# END - Helper Code Below\n"
      ],
      "metadata": {
        "id": "FARkr0w1tDxt"
      }
    },
    {
      "cell_type": "code",
      "source": [],
      "metadata": {
        "id": "zYV0wkHTs2b7"
      },
      "execution_count": null,
      "outputs": []
    },
    {
      "cell_type": "markdown",
      "source": [
        "### Showing digits and the model's predicted label"
      ],
      "metadata": {
        "id": "ExaJSCzTvimk"
      }
    },
    {
      "cell_type": "code",
      "source": [
        "# Predict the value of the digit on the test subset (X_test is an array)\n",
        "predicted = clf.predict(X_test)"
      ],
      "metadata": {
        "id": "hgWEUZIwuIAd"
      },
      "execution_count": null,
      "outputs": []
    },
    {
      "cell_type": "code",
      "source": [
        "_, axes = plt.subplots(nrows=1, ncols=4, figsize=(10, 3))\n",
        "for ax, image, prediction in zip(axes, X_test, predicted): #X_test contains the new images for prediction\n",
        "    ax.set_axis_off()\n",
        "    image = image.reshape(28, 28)\n",
        "    ax.imshow(image, cmap=plt.cm.gray_r, interpolation=\"nearest\")\n",
        "    ax.set_title(f\"Prediction: {prediction}\")"
      ],
      "metadata": {
        "id": "8uN-Ais3fdem"
      },
      "execution_count": null,
      "outputs": []
    },
    {
      "cell_type": "code",
      "source": [],
      "metadata": {
        "id": "qeHagtUZfdcH"
      },
      "execution_count": null,
      "outputs": []
    },
    {
      "cell_type": "markdown",
      "source": [
        "### Showing Confusion Matrix\n"
      ],
      "metadata": {
        "id": "IvneiM3VGHQl"
      }
    },
    {
      "cell_type": "code",
      "source": [
        " # y_test is an array containing the correct labels, predicted is an array containing the model's prediction\n",
        "disp = metrics.ConfusionMatrixDisplay.from_predictions(y_test, predicted)\n",
        "disp.figure_.suptitle(\"Confusion Matrix\")\n",
        "print(f\"Confusion matrix:\\n{disp.confusion_matrix}\")\n",
        "\n",
        "plt.show()"
      ],
      "metadata": {
        "id": "VJ_4cwoffdXV"
      },
      "execution_count": null,
      "outputs": []
    },
    {
      "cell_type": "code",
      "source": [],
      "metadata": {
        "id": "1p0w03nBg_OI"
      },
      "execution_count": null,
      "outputs": []
    },
    {
      "cell_type": "code",
      "source": [],
      "metadata": {
        "id": "b6TDY-9_rRw1"
      },
      "execution_count": null,
      "outputs": []
    },
    {
      "cell_type": "code",
      "source": [],
      "metadata": {
        "id": "6fg18OeTrRue"
      },
      "execution_count": null,
      "outputs": []
    },
    {
      "cell_type": "code",
      "source": [],
      "metadata": {
        "id": "nF8dsOBorRsE"
      },
      "execution_count": null,
      "outputs": []
    },
    {
      "cell_type": "code",
      "source": [],
      "metadata": {
        "id": "CYZKlNRorRpd"
      },
      "execution_count": null,
      "outputs": []
    },
    {
      "cell_type": "markdown",
      "source": [
        "# End"
      ],
      "metadata": {
        "id": "C4mvGMonbFSj"
      }
    },
    {
      "cell_type": "code",
      "source": [],
      "metadata": {
        "id": "CERCuqY9oY4f"
      },
      "execution_count": null,
      "outputs": []
    },
    {
      "cell_type": "code",
      "source": [],
      "metadata": {
        "id": "ovo42msmbF00"
      },
      "execution_count": null,
      "outputs": []
    }
  ],
  "metadata": {
    "colab": {
      "toc_visible": true,
      "provenance": []
    },
    "kernelspec": {
      "display_name": "Python 3",
      "name": "python3"
    },
    "language_info": {
      "name": "python"
    }
  },
  "nbformat": 4,
  "nbformat_minor": 0
}