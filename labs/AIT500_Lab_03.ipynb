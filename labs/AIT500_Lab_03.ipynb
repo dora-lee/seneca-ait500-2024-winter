{
 "cells": [
  {
   "cell_type": "markdown",
   "metadata": {
    "id": "BN1KAbxLoJq1"
   },
   "source": [
    "# AIT500 - Lab 3\n",
    "\n",
    "## Objective\n",
    "\n",
    "In this lab, you will build a data collection, data cleaning, and data transformation pipeline\n",
    "\n",
    "\n",
    "### Meteor Dataset Description\n",
    "[Earth Meteorite Landings](https://data.nasa.gov/view/ak9y-cwf9)\n",
    "\n",
    "### Lego Dataset\n",
    "\n",
    "[Lego Dataset crafted by Kaggle community](https://www.kaggle.com/datasets/rtatman/lego-database).  This dataset contains the LEGO Parts/Sets/Colors and Inventories of every official LEGO set in the Rebrickable database. These files are current as of July 2017. If you need it to be more recent data, you can use Rebrickable’s API which provides up to date data, and additional features.\n",
    "\n",
    "Schema of Lego dataset showing the relationship between the different `.csv` files.\n",
    "<img src=\"lab02_lego_dataset_schema.png\">\n",
    "\n",
    "\n",
    "## Lab Instructions\n",
    "1. Explore the [NASA Earth Meteorite Landings](https://data.nasa.gov/view/ak9y-cwf9) site\n",
    "2. Download the NASA meteorite landings data in json format here:\n",
    "   - https://raw.githubusercontent.com/dora-lee/seneca-ait500-2023-fall/main/labs/nasa_meteorites.json\n",
    "4. Load data into pandas\n",
    "5. Data cleaning\n",
    "   1. remove rows that have zero mass\n",
    "   2. create a new column called `mass_grams_log` and take np.log10() of the `mass_grams` field\n",
    "6. Data exploration\n",
    "   1. use scatter matrix plot to explore relationships between numerical values.  Write some characteristics you observed (at least 2)\n",
    "   2. create a histogram of `mass_grams`\n",
    "   3. create a histogram of `mass_grams_log`\n",
    "   4. play aorund with parameters of `.plot.hist()` how do the two charts compare?  how does it compare to the chart on Nasa's site?\n",
    "\n",
    "7. Download the [Lego dataset from Kaggle](https://www.kaggle.com/datasets/rtatman/lego-database) and load data into data frames by examining the schema, join the appropriate dataframes together and answer these questions with code:\n",
    "   - how many parts are in each `part_categories.name` category?\n",
    "     - hint1: look at how the `part_categories` table is related/connected to other tables that give you quantities\n",
    "     - hint2: consider using the `merge()` function\n",
    "   - how many colours are in each `part_categories.name`?  Hint use `colours.name`\n",
    "\n",
    "      \n",
    "\n",
    "\n",
    "## Reference Information\n",
    "- [Earth Meteorite Landings](https://data.nasa.gov/view/ak9y-cwf9)\n",
    "- [Lego Dataset crafted by Kaggle community](https://www.kaggle.com/datasets/rtatman/lego-database)\n"
   ]
  },
  {
   "cell_type": "code",
   "execution_count": 1,
   "metadata": {},
   "outputs": [
    {
     "data": {
      "text/html": [
       "<style>.container { width:100% !important; }</style>"
      ],
      "text/plain": [
       "<IPython.core.display.HTML object>"
      ]
     },
     "metadata": {},
     "output_type": "display_data"
    }
   ],
   "source": [
    "# increase Jupyter cell width\n",
    "\n",
    "from IPython.display import display, HTML\n",
    "display(HTML(\"<style>.container { width:100% !important; }</style>\"))"
   ]
  },
  {
   "cell_type": "markdown",
   "metadata": {
    "id": "oG8dtpVPsEbD"
   },
   "source": [
    "# Setup Libraries"
   ]
  },
  {
   "cell_type": "code",
   "execution_count": 2,
   "metadata": {
    "colab": {
     "base_uri": "https://localhost:8080/",
     "height": 35
    },
    "id": "WWgOxummoA_Y",
    "outputId": "da40974d-3c21-4b4a-db38-7ab0664b2486"
   },
   "outputs": [
    {
     "data": {
      "text/plain": [
       "'/home/pi/workspace_ait500/labs'"
      ]
     },
     "execution_count": 2,
     "metadata": {},
     "output_type": "execute_result"
    }
   ],
   "source": [
    "import pandas as pd\n",
    "import matplotlib.pyplot as plt # plotting library\n",
    "import os\n",
    "from PIL import Image\n",
    "\n",
    "import json\n",
    "import requests\n",
    "\n",
    "import numpy as np\n",
    "\n",
    "os.getcwd()"
   ]
  },
  {
   "cell_type": "markdown",
   "metadata": {},
   "source": [
    "# Meteorites Dataset"
   ]
  },
  {
   "cell_type": "code",
   "execution_count": 3,
   "metadata": {},
   "outputs": [],
   "source": [
    "# your code to download dataset here\n"
   ]
  },
  {
   "cell_type": "code",
   "execution_count": 4,
   "metadata": {},
   "outputs": [
    {
     "name": "stdout",
     "output_type": "stream",
     "text": [
      "﻿name,id,nametype,recclass,mass (g),fall,year,reclat,reclong,GeoLocation,States,Counties\n",
      "Aachen,1,Valid,L5,21,Fell,1880,50.775000,6.083330,\"(50.775, 6.08333)\",,\n",
      "Aarhus,2,Valid,H6,720,Fell,1951,56.183330,10.233330,\"(56.18333, 10.23333)\",,\n",
      "Abee,6,Valid,EH4,107000,Fell,1952,54.216670,-113.000000,\"(54.21667, -113.0)\",,\n",
      "Acapulco,10,Valid,Acapulcoite,1914,Fell,1976,16.883330,-99.900000,\"(16.88333, -99.9)\",,\n",
      "Achiras,370,Valid,L6,780,Fell,1902,-33.166670,-64.950000,\"(-33.16667, -64.95)\",,\n",
      "Adhi Kot,379,Valid,EH4,4239,Fell,1919,32.100000,71.800000,\"(32.1, 71.8)\",,\n",
      "Adzhi-Bogdo (stone),390,Valid,LL3-6,910,Fell,1949,44.833330,95.166670,\"(44.83333, 95.16667)\",,\n",
      "Agen,392,Valid,H5,30000,Fell,1814,44.216670,0.616670,\"(44.21667, 0.61667)\",,\n",
      "Aguada,398,Valid,L6,1620,Fell,1930,-31.600000,-65.233330,\"(-31.6, -65.23333)\",,\n"
     ]
    }
   ],
   "source": [
    "!head nasa_meteorites.csv"
   ]
  },
  {
   "cell_type": "code",
   "execution_count": 5,
   "metadata": {},
   "outputs": [],
   "source": [
    "# your code here to answer meteorites questions.  use as many cells as needed"
   ]
  },
  {
   "cell_type": "code",
   "execution_count": null,
   "metadata": {},
   "outputs": [],
   "source": []
  },
  {
   "cell_type": "code",
   "execution_count": null,
   "metadata": {},
   "outputs": [],
   "source": []
  },
  {
   "cell_type": "markdown",
   "metadata": {},
   "source": [
    "# Lego data"
   ]
  },
  {
   "cell_type": "code",
   "execution_count": 6,
   "metadata": {},
   "outputs": [],
   "source": [
    "# your code here to answer lego data questions.  use as many cells as needed"
   ]
  },
  {
   "cell_type": "code",
   "execution_count": null,
   "metadata": {},
   "outputs": [],
   "source": []
  },
  {
   "cell_type": "code",
   "execution_count": null,
   "metadata": {},
   "outputs": [],
   "source": []
  },
  {
   "cell_type": "code",
   "execution_count": null,
   "metadata": {},
   "outputs": [],
   "source": []
  },
  {
   "cell_type": "code",
   "execution_count": null,
   "metadata": {},
   "outputs": [],
   "source": []
  }
 ],
 "metadata": {
  "colab": {
   "provenance": []
  },
  "kernelspec": {
   "display_name": "Python 3 (ipykernel)",
   "language": "python",
   "name": "python3"
  },
  "language_info": {
   "codemirror_mode": {
    "name": "ipython",
    "version": 3
   },
   "file_extension": ".py",
   "mimetype": "text/x-python",
   "name": "python",
   "nbconvert_exporter": "python",
   "pygments_lexer": "ipython3",
   "version": "3.9.2"
  }
 },
 "nbformat": 4,
 "nbformat_minor": 4
}
