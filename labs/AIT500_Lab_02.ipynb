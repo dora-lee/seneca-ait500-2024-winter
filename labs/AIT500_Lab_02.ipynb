{
 "cells": [
  {
   "cell_type": "markdown",
   "metadata": {
    "id": "BN1KAbxLoJq1"
   },
   "source": [
    "# AIT500 - Lab 2\n",
    "\n",
    "## Objective\n",
    "\n",
    "In this lab, you will build a data collection, data cleaning, and data transformation pipeline using the MNIST dataset.\n",
    "\n",
    "\n",
    "## Dataset Description\n",
    "\n",
    "### MNIST Dataset\n",
    "<img src=\"lab02_mnist.png\">\n",
    "\n",
    "The [MNIST dataset](https://en.wikipedia.org/wiki/MNIST_database) is a popular image dataset of handwritten digits that was modified from the National Institute of Standards and Technology (NIST) dataset.\n",
    "\n",
    "It is a dataset of handwritten digits consists of 70,000 images, split into a training set of 60,000 examples, and a test set of 10,000 examples.  It is a good dataset to begin learning ML techniques and pattern recognition on real-world data.  \n",
    "The digits have been size-normalized and centered in a fixed-size image and available online in many different formats.\n",
    "\n",
    "The original dataset has been converted into CSV format for simple download.  As images are binary data, you will need to manipulate the text file to convert data back into an image format.\n",
    "\n",
    "Each row of data contains the label and a sequence of 784 numerical values representing the value of each pixel in a 28*28 pixel image\n",
    "\n",
    "### Lego Dataset\n",
    "\n",
    "[Lego Dataset crafted by Kaggle community](https://www.kaggle.com/datasets/rtatman/lego-database).  This dataset contains the LEGO Parts/Sets/Colors and Inventories of every official LEGO set in the Rebrickable database. These files are current as of July 2017. If you need it to be more recent data, you can use Rebrickable’s API which provides up to date data, and additional features.\n",
    "\n",
    "Schema of Lego dataset showing the relationship between the different `.csv` files.\n",
    "<img src=\"lab02_lego_dataset_schema.png\">\n",
    "\n",
    "\n",
    "## Lab Instructions\n",
    "1. Download the MNIST training set and test sets:\n",
    "    - https://pjreddie.com/media/files/mnist_train.csv\n",
    "    - https://pjreddie.com/media/files/mnist_test.csv\n",
    "2. Load each file into its own pandas dataframe (limit to 2000 entries each)\n",
    "    - validate that the dataframes are the size and shape you expect\n",
    "4. Data exploration\n",
    "    1. randomly pick a row and display its image by extracting:\n",
    "       - the label column into a variable\n",
    "       - the remaining 784 columns as a numpy array\n",
    "    2. provide analysis and summary statistics of the dataset\n",
    "5. Extract the label column into variable called `target_train`, `target_test` for train and test datasets respectively\n",
    "6. Extract the pixel columns into variable called `feature_train`, `feature_test` for train and test datasets respectively\n",
    "7. Perform a data transformation by selecting only the upper left 20x20 pixels.  Save the result into a new dataframe for both training and test datasets\n",
    "    \n",
    "- this image <img src=\"lab02_mnist_digit3.png\" width=100>\n",
    "    \n",
    "- becomes this image <img src=\"lab02_mnist_digit3_partial.png\"  width=80>\n",
    "\n",
    "8. Download the [Lego dataset from Kaggle](https://www.kaggle.com/datasets/rtatman/lego-database) and load data into data frames\n",
    "    - by examining the schema, join the appropriate dataframes together and answer these questions with code:\n",
    "          - what is the oldest Lego set in the database?\n",
    "          - what is the most recent Lego set in the database?\n",
    "          - the quantity available for each Lego set\n",
    "          - the number of sets in each theme\n",
    "      \n",
    "\n",
    "\n",
    "## Reference Information\n",
    "- [MNIST dataset Wikipedia](https://en.wikipedia.org/wiki/MNIST_database)\n",
    "- [MNIST-in-CSV description](https://www.kaggle.com/datasets/oddrationale/mnist-in-csv)\n",
    "- [MNIST-in-CSV original download source and format description](https://pjreddie.com/projects/mnist-in-csv/)\n",
    "- [Lego Dataset crafted by Kaggle community](https://www.kaggle.com/datasets/rtatman/lego-database)\n",
    "- [Matplotlib Image Tutorial](https://matplotlib.org/stable/tutorials/images.html)\n"
   ]
  },
  {
   "cell_type": "code",
   "execution_count": null,
   "metadata": {
    "id": "-rgE6yziqOOY"
   },
   "outputs": [],
   "source": []
  },
  {
   "cell_type": "markdown",
   "metadata": {
    "id": "oG8dtpVPsEbD"
   },
   "source": [
    "# Setup Libraries"
   ]
  },
  {
   "cell_type": "code",
   "execution_count": 1,
   "metadata": {
    "colab": {
     "base_uri": "https://localhost:8080/",
     "height": 35
    },
    "id": "WWgOxummoA_Y",
    "outputId": "da40974d-3c21-4b4a-db38-7ab0664b2486"
   },
   "outputs": [
    {
     "data": {
      "text/plain": [
       "'/home/pi/workspace_ait500/labs'"
      ]
     },
     "execution_count": 1,
     "metadata": {},
     "output_type": "execute_result"
    }
   ],
   "source": [
    "import pandas as pd\n",
    "import matplotlib.pyplot as plt # plotting library\n",
    "import os\n",
    "from PIL import Image\n",
    "\n",
    "os.getcwd()"
   ]
  },
  {
   "cell_type": "markdown",
   "metadata": {
    "id": "yvuyuh2wqY0a"
   },
   "source": [
    "# Q1 Import MNIST data\n",
    "\n",
    "Download MNIST training and test datasets"
   ]
  },
  {
   "cell_type": "code",
   "execution_count": 1,
   "metadata": {
    "colab": {
     "base_uri": "https://localhost:8080/"
    },
    "id": "zv-VgLYaoFFM",
    "outputId": "12974772-98dc-45b0-d576-24b6f853e913"
   },
   "outputs": [],
   "source": [
    "# your code here"
   ]
  },
  {
   "cell_type": "code",
   "execution_count": 2,
   "metadata": {
    "colab": {
     "base_uri": "https://localhost:8080/"
    },
    "id": "sFAHEWW1phcb",
    "outputId": "7d8e7279-1478-472c-effd-e89688e50a26"
   },
   "outputs": [],
   "source": [
    "# take a look at what's in the file, you can do this via command line with `less` or similar commands\n",
    "\n"
   ]
  },
  {
   "cell_type": "code",
   "execution_count": 3,
   "metadata": {},
   "outputs": [],
   "source": [
    "# take a look at how many rows are in each file\n"
   ]
  },
  {
   "cell_type": "code",
   "execution_count": null,
   "metadata": {},
   "outputs": [],
   "source": []
  },
  {
   "cell_type": "markdown",
   "metadata": {},
   "source": [
    "# Q2 Load each file into its own pandas dataframe\n",
    "\n",
    "- limit to 2000 entries each\n",
    "- validate that the dataframes are the size and shape you expect\n"
   ]
  },
  {
   "cell_type": "code",
   "execution_count": 5,
   "metadata": {},
   "outputs": [],
   "source": [
    "# your code here"
   ]
  },
  {
   "cell_type": "code",
   "execution_count": null,
   "metadata": {},
   "outputs": [],
   "source": []
  },
  {
   "cell_type": "code",
   "execution_count": null,
   "metadata": {},
   "outputs": [],
   "source": []
  },
  {
   "cell_type": "code",
   "execution_count": null,
   "metadata": {},
   "outputs": [],
   "source": []
  },
  {
   "cell_type": "markdown",
   "metadata": {},
   "source": [
    "# Q3.A Data exploration\n",
    "\n",
    "- work with the training dataframe to extract label and display image for one data example\n",
    "- show the image in greyscale"
   ]
  },
  {
   "cell_type": "code",
   "execution_count": 4,
   "metadata": {},
   "outputs": [],
   "source": [
    "# your code here"
   ]
  },
  {
   "cell_type": "code",
   "execution_count": null,
   "metadata": {},
   "outputs": [],
   "source": []
  },
  {
   "cell_type": "markdown",
   "metadata": {},
   "source": [
    "# Q3.B Data exploration\n",
    "\n",
    "provide summary statistics for the MNIST dataset\n",
    "- how many samples of each label are there?\n",
    "- which regions have the most informative pixels?"
   ]
  },
  {
   "cell_type": "code",
   "execution_count": 7,
   "metadata": {},
   "outputs": [
    {
     "data": {
      "image/png": "[encoded data removed]",
      "text/plain": [
       "<Figure size 640x480 with 1 Axes>"
      ]
     },
     "metadata": {},
     "output_type": "display_data"
    }
   ],
   "source": [
    "imgplot = plt.imshow(image.reshape(28,28)[:20,:20], cmap='gray_r')"
   ]
  },
  {
   "cell_type": "code",
   "execution_count": null,
   "metadata": {},
   "outputs": [],
   "source": []
  },
  {
   "cell_type": "markdown",
   "metadata": {},
   "source": [
    "# Q4 Extract the label column into variable called `target_train`, `target_test` for train and test datasets respectively\n"
   ]
  },
  {
   "cell_type": "code",
   "execution_count": 6,
   "metadata": {},
   "outputs": [],
   "source": [
    "# your code here"
   ]
  },
  {
   "cell_type": "code",
   "execution_count": null,
   "metadata": {},
   "outputs": [],
   "source": []
  },
  {
   "cell_type": "markdown",
   "metadata": {},
   "source": [
    "# Q6. Extract the pixel columns into variable called `feature_train`, `feature_test` for train and test datasets respectively\n"
   ]
  },
  {
   "cell_type": "code",
   "execution_count": 7,
   "metadata": {},
   "outputs": [],
   "source": [
    "# your code here"
   ]
  },
  {
   "cell_type": "code",
   "execution_count": null,
   "metadata": {},
   "outputs": [],
   "source": []
  },
  {
   "cell_type": "markdown",
   "metadata": {},
   "source": [
    "# Q7. Perform a data transformation by selecting only the upper left 20x20 pixels.  Save the result into a new dataframe for both training and test datasets\n",
    "    \n",
    "- this image <img src=\"lab02_mnist_digit3.png\" width=100>\n",
    "    \n",
    "- becomes this image <img src=\"lab02_mnist_digit3_partial.png\"  width=80>\n"
   ]
  },
  {
   "cell_type": "code",
   "execution_count": 8,
   "metadata": {},
   "outputs": [],
   "source": [
    "# your code here"
   ]
  },
  {
   "cell_type": "code",
   "execution_count": null,
   "metadata": {},
   "outputs": [],
   "source": []
  },
  {
   "cell_type": "code",
   "execution_count": null,
   "metadata": {},
   "outputs": [],
   "source": []
  },
  {
   "cell_type": "code",
   "execution_count": null,
   "metadata": {},
   "outputs": [],
   "source": []
  },
  {
   "cell_type": "markdown",
   "metadata": {
    "colab": {
     "base_uri": "https://localhost:8080/"
    },
    "id": "VJd8SEqaqrPZ",
    "outputId": "3425bc22-c5d3-4d08-a7e4-0a7a3cfcfb88"
   },
   "source": [
    "# Q8. Download the [Lego dataset from Kaggle](https://www.kaggle.com/datasets/rtatman/lego-database) and load data into data frames\n",
    "\n",
    "    - by examining the schema, join the appropriate dataframes together and answer these questions with code:\n",
    "          - what is the oldest Lego set in the database?\n",
    "          - what is the most recent Lego set in the database?\n",
    "          - the quantity available for each Lego set\n",
    "          - the number of sets in each theme"
   ]
  },
  {
   "cell_type": "code",
   "execution_count": 10,
   "metadata": {},
   "outputs": [],
   "source": [
    "# your code here"
   ]
  },
  {
   "cell_type": "code",
   "execution_count": null,
   "metadata": {},
   "outputs": [],
   "source": []
  },
  {
   "cell_type": "code",
   "execution_count": null,
   "metadata": {},
   "outputs": [],
   "source": []
  },
  {
   "cell_type": "code",
   "execution_count": null,
   "metadata": {},
   "outputs": [],
   "source": []
  },
  {
   "cell_type": "code",
   "execution_count": null,
   "metadata": {},
   "outputs": [],
   "source": []
  }
 ],
 "metadata": {
  "colab": {
   "provenance": []
  },
  "kernelspec": {
   "display_name": "Python 3 (ipykernel)",
   "language": "python",
   "name": "python3"
  },
  "language_info": {
   "codemirror_mode": {
    "name": "ipython",
    "version": 3
   },
   "file_extension": ".py",
   "mimetype": "text/x-python",
   "name": "python",
   "nbconvert_exporter": "python",
   "pygments_lexer": "ipython3",
   "version": "3.9.2"
  }
 },
 "nbformat": 4,
 "nbformat_minor": 4
}
