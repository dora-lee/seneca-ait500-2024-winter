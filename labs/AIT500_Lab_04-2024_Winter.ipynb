{
  "cells": [
    {
      "cell_type": "markdown",
      "metadata": {
        "id": "BN1KAbxLoJq1"
      },
      "source": [
        "# AIT500 - Lab 4\n",
        "\n",
        "**Note this notebook should be run in Google Colab**\n",
        "\n",
        "This week, you will use the notebook service provided by Google Colaboratory (Colab) to give you experience using a managed service in the cloud.  Cloud services are normally pay-per-use, however, the free tier in Colab provides enough resources for AIT500 and gives us more compute power than the Raspberry Pi 3B+\n",
        "\n",
        "\n",
        "This lab will cover two areas:\n",
        "\n",
        "1. Give you more experience manipulating images and with working with pandas, numpy, as well as creating your own functions.\n",
        "1.\n",
        "\n",
        "\n",
        "## Instructions\n",
        "\n",
        "1. Download this notebook locally\n",
        "1. Create a new Colab notebook with \"File\" -> \"Upload notebook\"\n",
        "1. Provide code to solve questions in the cells below\n",
        "1. When you have completed the questions\n",
        "1. Download the completed lab onto your computer and upload into Teams, Coursework for Lab 4"
      ]
    },
    {
      "cell_type": "code",
      "execution_count": 6,
      "metadata": {
        "colab": {
          "base_uri": "https://localhost:8080/",
          "height": 17
        },
        "id": "_-FkXaL23hhe",
        "outputId": "62402d1d-0d27-41bc-a760-0ae568b389a1"
      },
      "outputs": [
        {
          "output_type": "display_data",
          "data": {
            "text/plain": [
              "<IPython.core.display.HTML object>"
            ],
            "text/html": [
              "<style>.container { width:100% !important; }</style>"
            ]
          },
          "metadata": {}
        }
      ],
      "source": [
        "# increase Jupyter cell width\n",
        "\n",
        "from IPython.display import display, HTML\n",
        "display(HTML(\"<style>.container { width:100% !important; }</style>\"))"
      ]
    },
    {
      "cell_type": "markdown",
      "metadata": {
        "id": "oG8dtpVPsEbD"
      },
      "source": [
        "# Setup Libraries"
      ]
    },
    {
      "cell_type": "code",
      "execution_count": 7,
      "metadata": {
        "colab": {
          "base_uri": "https://localhost:8080/",
          "height": 36
        },
        "id": "WWgOxummoA_Y",
        "outputId": "a0efa82f-e191-4b3c-93c1-8d5b68aac6be"
      },
      "outputs": [
        {
          "output_type": "execute_result",
          "data": {
            "text/plain": [
              "'/content'"
            ],
            "application/vnd.google.colaboratory.intrinsic+json": {
              "type": "string"
            }
          },
          "metadata": {},
          "execution_count": 7
        }
      ],
      "source": [
        "import pandas as pd\n",
        "import matplotlib.pyplot as plt # plotting library\n",
        "import os\n",
        "from PIL import Image\n",
        "\n",
        "import json\n",
        "import requests\n",
        "\n",
        "import seaborn as sns\n",
        "import numpy as np\n",
        "\n",
        "os.getcwd()"
      ]
    },
    {
      "cell_type": "markdown",
      "source": [
        "# Q1 Download the MNIST dataset"
      ],
      "metadata": {
        "id": "XNmh5UeLwmmC"
      }
    },
    {
      "cell_type": "code",
      "source": [
        "# your code here"
      ],
      "metadata": {
        "id": "ashDY8_D034l"
      },
      "execution_count": null,
      "outputs": []
    },
    {
      "cell_type": "markdown",
      "source": [
        "# Q2 Create digit subsets and store into individual dataframes\n",
        "\n",
        "Using the training dataset, create nine new dataframes, each one following this naming convention: `df_digit1`, `df_digit2`, `df_digit3`, ..., `df_digit9`\n",
        "\n",
        "For each dataframe, populate it with 8 different images of the corresponding digit.  For example, `df_digit1` should contain 8 different samples of the digit `1`\n",
        "\n",
        "You should have nine datataframes each with 8 rows"
      ],
      "metadata": {
        "id": "o7ZfEOTqwmjM"
      }
    },
    {
      "cell_type": "code",
      "source": [
        "# your code here"
      ],
      "metadata": {
        "id": "QrhPTdQqzE1h"
      },
      "execution_count": null,
      "outputs": []
    },
    {
      "cell_type": "markdown",
      "source": [
        "#Q3 Create a 2x4 super-image\n",
        "\n",
        "For each `df_digit?` dataframe, create a super-image by concatenating the 8 images contained in the dataframe.  \n",
        "\n",
        "For example, the super-image for `df_digit1` is should be a grid of eight `1` like this:\n",
        "\n",
        "    ```\n",
        "    1, 1, 1, 1\n",
        "    1, 1, 1, 1\n",
        "    ```\n",
        "Each super-image should be 112x56 (two rows of four 28x28 images on a rectangular grid)\n",
        "\n",
        "You should have nine super images in total.  Display each super-image in its own notebook cell"
      ],
      "metadata": {
        "id": "J8gKjlFiwmd2"
      }
    },
    {
      "cell_type": "code",
      "source": [
        "# your code here"
      ],
      "metadata": {
        "id": "AxK5eOmW07JE"
      },
      "execution_count": null,
      "outputs": []
    },
    {
      "cell_type": "markdown",
      "source": [
        "# Q4 Select a different set of eight images, generate a new set of super-images\n",
        "\n",
        "\n",
        "Continue using the training dataset and populate the `df_digit?` dataframes with a different set of eight corresponding digits\n",
        "\n",
        "Display the new set of nine super-digits, each in its own notebook cell"
      ],
      "metadata": {
        "id": "Pp03L8VCwmbF"
      }
    },
    {
      "cell_type": "code",
      "source": [
        "# your code here"
      ],
      "metadata": {
        "id": "a-MdtgYx09Jn"
      },
      "execution_count": null,
      "outputs": []
    },
    {
      "cell_type": "markdown",
      "source": [
        "# Q6 Code reuse\n",
        "\n",
        "Rather than creating new code each time we want to select and plot different digits, we can create methds that can be reused for the functionality described in Q2 and Q3\n",
        "\n",
        "1. Create a function called `select_digits` that will:\n",
        "   1. take in an MNIST dataframe that contains all digits\n",
        "   1. take in a parameter indicating which digit to select\n",
        "   1. create a new dataframe containing only eight samples of the specified digit.  You can use a random number generator or some other means to ensure calling `select_digits` multiple times will result in a different set of selected images\n",
        "   1. Returns a dataframe containing eight samples of the specified digit (described in Q2 above)\n",
        "1. Create a function called `create_super_image` that will:\n",
        "   1. take in a dataframe containing a sample of digits\n",
        "   1. display the digits on a 2x4 grid as described in Q3 above\n",
        "\n",
        "\n",
        "Hint 1: `select_digits` should be defined as follows\n",
        "```\n",
        "  def select_digits(source_dataframe, digit_to_select):\n",
        "    # your code here\n",
        "    return <a new dataframe containing the required result>\n",
        "```\n",
        "\n",
        "Hint 2: `create_super_image` should be defined as follows\n",
        "```\n",
        "  def create_super_image(digit_dataframe):\n",
        "    # your code to plot 2x4 grid of digits here\n",
        "```"
      ],
      "metadata": {
        "id": "XDjiu0xOwmYc"
      }
    },
    {
      "cell_type": "code",
      "source": [
        "# your code here"
      ],
      "metadata": {
        "id": "CCJ8MfXt0-PA"
      },
      "execution_count": null,
      "outputs": []
    },
    {
      "cell_type": "markdown",
      "source": [
        "# Q8 Use `select_digits` and `create_super_image` to display different super-images for digits 1,2,3,4,5,6,7,8,9\n"
      ],
      "metadata": {
        "id": "q99T2kG8wmSV"
      }
    },
    {
      "cell_type": "code",
      "execution_count": null,
      "metadata": {
        "id": "KiqtqdGLhPC-"
      },
      "outputs": [],
      "source": [
        "# your code here"
      ]
    },
    {
      "cell_type": "code",
      "source": [],
      "metadata": {
        "id": "7-k4C2dIN9AV"
      },
      "execution_count": null,
      "outputs": []
    }
  ],
  "metadata": {
    "colab": {
      "provenance": [],
      "toc_visible": true
    },
    "kernelspec": {
      "display_name": "Python 3 (ipykernel)",
      "language": "python",
      "name": "python3"
    },
    "language_info": {
      "codemirror_mode": {
        "name": "ipython",
        "version": 3
      },
      "file_extension": ".py",
      "mimetype": "text/x-python",
      "name": "python",
      "nbconvert_exporter": "python",
      "pygments_lexer": "ipython3",
      "version": "3.9.2"
    }
  },
  "nbformat": 4,
  "nbformat_minor": 0
}