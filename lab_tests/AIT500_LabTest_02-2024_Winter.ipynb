{
  "cells": [
    {
      "cell_type": "markdown",
      "metadata": {
        "id": "BN1KAbxLoJq1"
      },
      "source": [
        "# AIT500 - Lab Test 2\n",
        "\n",
        "## Objective\n",
        "\n",
        "During Lab Test 2 you will have a chance to practice components of the data science process covered during this course:  Data collection, data cleaning, data analysis, and using data to answer business questions\n",
        "\n",
        "Download this notebook into your own [Colab](https://colab.research.google.com/) envionment before coding your answers\n",
        "\n",
        "\n",
        "## Lab Test 2 Instructions\n",
        "\n",
        "### Part 1 - Cleaning bad data\n",
        "\n",
        "You are a data engineer at **Fabulous AI Inc**.  The data science team has come to you for help ingest a new dataset.  They encountered strange results during their analysis and believe the issue may be related to bad values in some of the data fields.\n",
        "\n",
        "Identify as many bad fields as you can using the different diagnosis techniques in your toolbox\n",
        "\n",
        "The [bad data file can be found here](https://github.com/dora-lee/seneca-ait500-2024-winter/blob/main/lab_tests/nasa_meteorites_bad_data.csv).  The first line in the file contains a header row with column names that accurately describe the information contained in the file\n",
        "\n",
        "1. Perform data collection and create a dataframe called `meteorites_raw_df` from the raw data file\n",
        "2. Identify fields that have bad data (or data that does not make sense)\n",
        "\n",
        "\n",
        "### Part 2 - Build MNIST prediction model with Generative AI\n",
        "\n",
        "You are a student with tight deadlines.  One of your courses has a project that requires you to build a model that accurately predicts MNIST digits\n",
        "\n",
        "To help you save time, you plan to use ChatGPT3.5 to give you code for a model that successfully predicts MNIST digits.\n",
        "\n",
        "You are also aware that ChatGPT hallucinates and to avoid incorrect code, you plan to test all responses from ChatGPT.  \n",
        "\n",
        "Note: you will run code provided by ChatGPT without modification.  If the result is incorrect, revise your prompt\n",
        "\n",
        "1. Ask ChatGPT to show code that will download MNIST data into training and test dataframes\n",
        "  1. Run the code ChatGPT provided (if the code is incorrect, change your prompt until it runs correctly)\n",
        "2. Ask ChatGPT to show code that will train a scikit-learn classifier to accurately predict digits\n",
        "  1. Run the code ChatGPT provided  (if the code is incorrect, change your prompt until it runs correctly)\n",
        "3. Ask ChatGPT to show code that will create a report showing precision, recall, f1-score, and support of the trained classifier\n",
        "  1. Run the code ChatGPT provided  (if the code is incorrect, change your prompt until it runs correctly)\n",
        "4. Ask ChatGPT to show code that will create a confusion matrix for the performance of the classifier using test data\n",
        "  1. Run the code ChatGPT provided  (if the code is incorrect, change your prompt until it runs correctly)\n",
        "5. Ask ChatGPT to show code that will display 5 randomly selected test digits along with its actual and predicted class in the title of the image\n",
        "  1. Run the code ChatGPT provided  (if the code is incorrect, change your prompt until it runs correctly)\n",
        "\n",
        "\n",
        "Hints: you will need to provide explicit instructions on variable names to use in order to maintain consistency as you progress from Q1 to Q2 to Q3 to Q4\n",
        "\n",
        "\n",
        "\n",
        "\n",
        "### Submitting your Lab Test 2 for Grading\n",
        "\n",
        "1. Download your notebook **with all cells evaluated** to your PC\n",
        "2. Upload the downloaded notebook to the Lab Test Classwork section of the Course Notebook\n"
      ]
    },
    {
      "cell_type": "code",
      "execution_count": null,
      "metadata": {
        "colab": {
          "base_uri": "https://localhost:8080/",
          "height": 17
        },
        "id": "_-FkXaL23hhe",
        "outputId": "a1cbd4b8-13d6-40e3-efca-072ee21d4497"
      },
      "outputs": [
        {
          "output_type": "display_data",
          "data": {
            "text/plain": [
              "<IPython.core.display.HTML object>"
            ],
            "text/html": [
              "<style>.container { width:100% !important; }</style>"
            ]
          },
          "metadata": {}
        }
      ],
      "source": [
        "# increase Jupyter cell width\n",
        "\n",
        "from IPython.display import display, HTML\n",
        "display(HTML(\"<style>.container { width:100% !important; }</style>\"))"
      ]
    },
    {
      "cell_type": "code",
      "source": [],
      "metadata": {
        "id": "oWWbOvCc3B5k"
      },
      "execution_count": null,
      "outputs": []
    },
    {
      "cell_type": "code",
      "source": [],
      "metadata": {
        "id": "RgSj_O4X3B1m"
      },
      "execution_count": null,
      "outputs": []
    },
    {
      "cell_type": "code",
      "source": [],
      "metadata": {
        "id": "XRYPgZXi3Bye"
      },
      "execution_count": null,
      "outputs": []
    },
    {
      "cell_type": "markdown",
      "source": [
        "# Setup Google Drive access to API keys"
      ],
      "metadata": {
        "id": "6QQidYIQY97m"
      }
    },
    {
      "cell_type": "code",
      "source": [
        "#@markdown connect to drive for API keys stored in <br> `My Drive/Colab Notebooks/API_Keys`\n",
        "import os, sys\n",
        "from google.colab import drive\n",
        "drive.mount('/content/mnt')\n",
        "nb_path = '/content/notebooks'\n",
        "os.symlink('/content/mnt/My Drive/Colab Notebooks', nb_path)\n",
        "sys.path.insert(0, nb_path)  # or append(nb_path)\n"
      ],
      "metadata": {
        "id": "uOQDBLlqXZdX",
        "colab": {
          "base_uri": "https://localhost:8080/"
        },
        "outputId": "8a34a791-a1b1-4eec-c93a-fcdf194d195e"
      },
      "execution_count": null,
      "outputs": [
        {
          "output_type": "stream",
          "name": "stdout",
          "text": [
            "Mounted at /content/mnt\n"
          ]
        }
      ]
    },
    {
      "cell_type": "code",
      "source": [],
      "metadata": {
        "id": "mVe8By193VpA"
      },
      "execution_count": null,
      "outputs": []
    },
    {
      "cell_type": "code",
      "source": [],
      "metadata": {
        "id": "j_BPFvTS3Bvg"
      },
      "execution_count": null,
      "outputs": []
    },
    {
      "cell_type": "code",
      "source": [],
      "metadata": {
        "id": "1cTRl2cJ3BsP"
      },
      "execution_count": null,
      "outputs": []
    },
    {
      "cell_type": "code",
      "source": [],
      "metadata": {
        "id": "UNP0cWOu3Bhh"
      },
      "execution_count": null,
      "outputs": []
    },
    {
      "cell_type": "markdown",
      "metadata": {
        "id": "oG8dtpVPsEbD"
      },
      "source": [
        "# Setup Libraries"
      ]
    },
    {
      "cell_type": "code",
      "execution_count": null,
      "metadata": {
        "colab": {
          "base_uri": "https://localhost:8080/",
          "height": 35
        },
        "id": "WWgOxummoA_Y",
        "outputId": "d5121625-42f5-4e37-f235-5382cd4ae42c"
      },
      "outputs": [
        {
          "output_type": "execute_result",
          "data": {
            "text/plain": [
              "'/content'"
            ],
            "application/vnd.google.colaboratory.intrinsic+json": {
              "type": "string"
            }
          },
          "metadata": {},
          "execution_count": 2
        }
      ],
      "source": [
        "import pandas as pd\n",
        "import matplotlib.pyplot as plt # plotting library\n",
        "import seaborn as sns\n",
        "import plotly.express as px\n",
        "\n",
        "import os\n",
        "from PIL import Image\n",
        "\n",
        "import json\n",
        "import requests\n",
        "\n",
        "\n",
        "import numpy as np\n",
        "import re\n",
        "from scipy.io.arff import loadarff\n",
        "\n",
        "from sklearn.manifold import TSNE\n",
        "\n",
        "os.getcwd()"
      ]
    },
    {
      "cell_type": "markdown",
      "source": [],
      "metadata": {
        "id": "tqeQxULXaB-S"
      }
    },
    {
      "cell_type": "code",
      "source": [
        "# set pandas options\n",
        "pd.set_option('display.max_columns', 50) # show more columns\n",
        "pd.set_option('display.max_rows', 200) # show more rows\n",
        "pd.set_option('max_colwidth', 400) # set wider columns"
      ],
      "metadata": {
        "id": "HL-6WOcYg-26"
      },
      "execution_count": null,
      "outputs": []
    },
    {
      "cell_type": "code",
      "source": [],
      "metadata": {
        "id": "Oh2ZfTJni2y4"
      },
      "execution_count": null,
      "outputs": []
    },
    {
      "cell_type": "code",
      "source": [],
      "metadata": {
        "id": "ZKkD-bryi2wY"
      },
      "execution_count": null,
      "outputs": []
    },
    {
      "cell_type": "code",
      "source": [],
      "metadata": {
        "id": "InEJXySwHhHf"
      },
      "execution_count": null,
      "outputs": []
    },
    {
      "cell_type": "code",
      "source": [],
      "metadata": {
        "id": "x12uPh7IHhC8"
      },
      "execution_count": null,
      "outputs": []
    },
    {
      "cell_type": "markdown",
      "source": [
        "# Part 1 - Meteorites Dataset - Clean bad data"
      ],
      "metadata": {
        "id": "3xT1qqCJ6Dj5"
      }
    },
    {
      "cell_type": "markdown",
      "source": [
        "## Get data and create dataframe"
      ],
      "metadata": {
        "id": "xxdnyy756JIu"
      }
    },
    {
      "cell_type": "code",
      "source": [
        "# your code to get datafile here"
      ],
      "metadata": {
        "id": "s82y32Q2i2ti"
      },
      "execution_count": null,
      "outputs": []
    },
    {
      "cell_type": "code",
      "source": [
        "# your code to create dataframe\n",
        "\n",
        "meteorites_raw_df = ... # your code here"
      ],
      "metadata": {
        "id": "BpAEZRa_6VM4"
      },
      "execution_count": null,
      "outputs": []
    },
    {
      "cell_type": "code",
      "source": [],
      "metadata": {
        "id": "MRx9K2o2731j"
      },
      "execution_count": null,
      "outputs": []
    },
    {
      "cell_type": "markdown",
      "source": [
        "## Find one field with data that does not make sense\n",
        "\n",
        "1. Use code to show how you found the bad column\n",
        "\n",
        "1. Write a description to explain why some data in the column does not make sense.  \n",
        "\n",
        "1. Explain how you could \"clean\" this bad column (there are many possible ways to clean data - use your best judgement and show your assumptions)\n",
        "\n",
        "1. Use code to show the data cleaning step described above"
      ],
      "metadata": {
        "id": "ZHjNV6Yh6llm"
      }
    },
    {
      "cell_type": "code",
      "source": [
        "# 1) your code to find bad column here"
      ],
      "metadata": {
        "id": "Mt-Lf1kP7Grs"
      },
      "execution_count": null,
      "outputs": []
    },
    {
      "cell_type": "code",
      "source": [],
      "metadata": {
        "id": "220B_x4F7Ki-"
      },
      "execution_count": null,
      "outputs": []
    },
    {
      "cell_type": "code",
      "source": [
        "# 2) your description here"
      ],
      "metadata": {
        "id": "13qtQG2s7KaR"
      },
      "execution_count": null,
      "outputs": []
    },
    {
      "cell_type": "code",
      "source": [],
      "metadata": {
        "id": "FVLQcwRH7JoC"
      },
      "execution_count": null,
      "outputs": []
    },
    {
      "cell_type": "code",
      "source": [
        "# 3) explain your data cleaning approach here"
      ],
      "metadata": {
        "id": "PEo_Fwxv7pAw"
      },
      "execution_count": null,
      "outputs": []
    },
    {
      "cell_type": "code",
      "source": [],
      "metadata": {
        "id": "bQnY5OqW7o7n"
      },
      "execution_count": null,
      "outputs": []
    },
    {
      "cell_type": "code",
      "source": [
        "# 4) your code to clean the bad column here"
      ],
      "metadata": {
        "id": "gH9YxWHO7o0W"
      },
      "execution_count": null,
      "outputs": []
    },
    {
      "cell_type": "code",
      "source": [],
      "metadata": {
        "id": "Mn47gWVz7ouF"
      },
      "execution_count": null,
      "outputs": []
    },
    {
      "cell_type": "code",
      "source": [],
      "metadata": {
        "id": "TLz_ZM8s76bV"
      },
      "execution_count": null,
      "outputs": []
    },
    {
      "cell_type": "code",
      "source": [],
      "metadata": {
        "id": "ppGtvuCf76Yv"
      },
      "execution_count": null,
      "outputs": []
    },
    {
      "cell_type": "markdown",
      "source": [
        "## Find a second field with data that does not make sense\n",
        "\n",
        "1. Use code to show how you found the bad column\n",
        "\n",
        "1. Write a description to explain why some data in the column does not make sense.  \n",
        "\n",
        "1. Explain how you could \"clean\" this bad column (there are many possible ways to clean data - use your best judgement and show your assumptions)\n",
        "\n",
        "1. Use code to show the data cleaning step described above"
      ],
      "metadata": {
        "id": "ZNVQhaN477QT"
      }
    },
    {
      "cell_type": "code",
      "source": [
        "# 1) your code to find bad column here"
      ],
      "metadata": {
        "id": "96on3P0077QT"
      },
      "execution_count": null,
      "outputs": []
    },
    {
      "cell_type": "code",
      "source": [],
      "metadata": {
        "id": "5MV1MsLn77QU"
      },
      "execution_count": null,
      "outputs": []
    },
    {
      "cell_type": "code",
      "source": [
        "# 2) your description here"
      ],
      "metadata": {
        "id": "3mXR5N4p77QU"
      },
      "execution_count": null,
      "outputs": []
    },
    {
      "cell_type": "code",
      "source": [],
      "metadata": {
        "id": "Lgnn_i_c77QU"
      },
      "execution_count": null,
      "outputs": []
    },
    {
      "cell_type": "code",
      "source": [
        "# 3) explain your data cleaning approach here"
      ],
      "metadata": {
        "id": "CysrjPUR77QU"
      },
      "execution_count": null,
      "outputs": []
    },
    {
      "cell_type": "code",
      "source": [],
      "metadata": {
        "id": "2xmLhHcz77QU"
      },
      "execution_count": null,
      "outputs": []
    },
    {
      "cell_type": "code",
      "source": [
        "# 4) your code to clean the bad column here"
      ],
      "metadata": {
        "id": "9RvUEuYl77QU"
      },
      "execution_count": null,
      "outputs": []
    },
    {
      "cell_type": "code",
      "source": [],
      "metadata": {
        "id": "QgJrZ8y177QV"
      },
      "execution_count": null,
      "outputs": []
    },
    {
      "cell_type": "code",
      "source": [],
      "metadata": {
        "id": "VE2YZGie76Vq"
      },
      "execution_count": null,
      "outputs": []
    },
    {
      "cell_type": "code",
      "source": [],
      "metadata": {
        "id": "FU1WjAvx8Dhp"
      },
      "execution_count": null,
      "outputs": []
    },
    {
      "cell_type": "markdown",
      "source": [
        "## Find third field with data that does not make sense\n",
        "\n",
        "1. Use code to show how you found the bad column\n",
        "\n",
        "1. Write a description to explain why some data in the column does not make sense.  \n",
        "\n",
        "1. Explain how you could \"clean\" this bad column (there are many possible ways to clean data - use your best judgement and show your assumptions)\n",
        "\n",
        "1. Use code to show the data cleaning step described above"
      ],
      "metadata": {
        "id": "glYdYmwR8DzB"
      }
    },
    {
      "cell_type": "code",
      "source": [
        "# 1) your code to find bad column here"
      ],
      "metadata": {
        "id": "ZrAgW4ou8DzC"
      },
      "execution_count": null,
      "outputs": []
    },
    {
      "cell_type": "code",
      "source": [],
      "metadata": {
        "id": "7hPYf0Py8DzC"
      },
      "execution_count": null,
      "outputs": []
    },
    {
      "cell_type": "code",
      "source": [
        "# 2) your description here"
      ],
      "metadata": {
        "id": "CCJuZdqp8DzD"
      },
      "execution_count": null,
      "outputs": []
    },
    {
      "cell_type": "code",
      "source": [],
      "metadata": {
        "id": "opo1qv468DzD"
      },
      "execution_count": null,
      "outputs": []
    },
    {
      "cell_type": "code",
      "source": [
        "# 3) explain your data cleaning approach here"
      ],
      "metadata": {
        "id": "P5QYN2oy8DzD"
      },
      "execution_count": null,
      "outputs": []
    },
    {
      "cell_type": "code",
      "source": [],
      "metadata": {
        "id": "TiGnFduT8DzD"
      },
      "execution_count": null,
      "outputs": []
    },
    {
      "cell_type": "code",
      "source": [
        "# 4) your code to clean the bad column here"
      ],
      "metadata": {
        "id": "mXVLHVYG8DzD"
      },
      "execution_count": null,
      "outputs": []
    },
    {
      "cell_type": "code",
      "source": [],
      "metadata": {
        "id": "18ahAmu78DzE"
      },
      "execution_count": null,
      "outputs": []
    },
    {
      "cell_type": "code",
      "source": [],
      "metadata": {
        "id": "u7mhnk5l76TD"
      },
      "execution_count": null,
      "outputs": []
    },
    {
      "cell_type": "code",
      "source": [],
      "metadata": {
        "id": "MEiSY4ur8HXy"
      },
      "execution_count": null,
      "outputs": []
    },
    {
      "cell_type": "markdown",
      "source": [
        "## Find fourth field with data that does not make sense\n",
        "\n",
        "1. Use code to show how you found the bad column\n",
        "\n",
        "1. Write a description to explain why some data in the column does not make sense.  \n",
        "\n",
        "1. Explain how you could \"clean\" this bad column (there are many possible ways to clean data - use your best judgement and show your assumptions)\n",
        "\n",
        "1. Use code to show the data cleaning step described above"
      ],
      "metadata": {
        "id": "uLRkjld18HzV"
      }
    },
    {
      "cell_type": "code",
      "source": [
        "# 1) your code to find bad column here"
      ],
      "metadata": {
        "id": "BEGYN1jY8HzW"
      },
      "execution_count": null,
      "outputs": []
    },
    {
      "cell_type": "code",
      "source": [],
      "metadata": {
        "id": "u3wNZJi18HzW"
      },
      "execution_count": null,
      "outputs": []
    },
    {
      "cell_type": "code",
      "source": [
        "# 2) your description here"
      ],
      "metadata": {
        "id": "ufJ1SxmB8HzX"
      },
      "execution_count": null,
      "outputs": []
    },
    {
      "cell_type": "code",
      "source": [],
      "metadata": {
        "id": "H5VRp7958HzX"
      },
      "execution_count": null,
      "outputs": []
    },
    {
      "cell_type": "code",
      "source": [
        "# 3) explain your data cleaning approach here"
      ],
      "metadata": {
        "id": "uHJ7mcQV8HzX"
      },
      "execution_count": null,
      "outputs": []
    },
    {
      "cell_type": "code",
      "source": [],
      "metadata": {
        "id": "gnWbF4qp8HzX"
      },
      "execution_count": null,
      "outputs": []
    },
    {
      "cell_type": "code",
      "source": [
        "# 4) your code to clean the bad column here"
      ],
      "metadata": {
        "id": "MNiucx4q8HzX"
      },
      "execution_count": null,
      "outputs": []
    },
    {
      "cell_type": "code",
      "source": [],
      "metadata": {
        "id": "_7r1VOek8HzX"
      },
      "execution_count": null,
      "outputs": []
    },
    {
      "cell_type": "code",
      "source": [],
      "metadata": {
        "id": "riL5-EqL76P4"
      },
      "execution_count": null,
      "outputs": []
    },
    {
      "cell_type": "code",
      "source": [],
      "metadata": {
        "id": "VONhwRwr76NM"
      },
      "execution_count": null,
      "outputs": []
    },
    {
      "cell_type": "code",
      "source": [],
      "metadata": {
        "id": "00oDRFle8Kar"
      },
      "execution_count": null,
      "outputs": []
    },
    {
      "cell_type": "markdown",
      "source": [
        "## Find fifth (or more!) fields with data that does not make sense\n",
        "\n",
        "1. Use code to show how you found the bad column\n",
        "\n",
        "1. Write a description to explain why some data in the column does not make sense.  \n",
        "\n",
        "1. Explain how you could \"clean\" this bad column (there are many possible ways to clean data - use your best judgement and show your assumptions)\n",
        "\n",
        "1. Use code to show the data cleaning step described above"
      ],
      "metadata": {
        "id": "YbjF9jqk8K_Z"
      }
    },
    {
      "cell_type": "code",
      "source": [
        "# 1) your code to find bad column here"
      ],
      "metadata": {
        "id": "Wa-GNhiT8K_a"
      },
      "execution_count": null,
      "outputs": []
    },
    {
      "cell_type": "code",
      "source": [],
      "metadata": {
        "id": "MLAoJ-R08K_a"
      },
      "execution_count": null,
      "outputs": []
    },
    {
      "cell_type": "code",
      "source": [
        "# 2) your description here"
      ],
      "metadata": {
        "id": "MnmIqsMm8K_a"
      },
      "execution_count": null,
      "outputs": []
    },
    {
      "cell_type": "code",
      "source": [],
      "metadata": {
        "id": "lBFHpaoU8K_a"
      },
      "execution_count": null,
      "outputs": []
    },
    {
      "cell_type": "code",
      "source": [
        "# 3) explain your data cleaning approach here"
      ],
      "metadata": {
        "id": "JqNoodAB8K_a"
      },
      "execution_count": null,
      "outputs": []
    },
    {
      "cell_type": "code",
      "source": [],
      "metadata": {
        "id": "4KzNfLf68K_b"
      },
      "execution_count": null,
      "outputs": []
    },
    {
      "cell_type": "code",
      "source": [
        "# 4) your code to clean the bad column here"
      ],
      "metadata": {
        "id": "J6IhuxmZ8K_b"
      },
      "execution_count": null,
      "outputs": []
    },
    {
      "cell_type": "code",
      "source": [],
      "metadata": {
        "id": "qqOW7GNS8K_b"
      },
      "execution_count": null,
      "outputs": []
    },
    {
      "cell_type": "markdown",
      "source": [
        "# Part 2 Setup"
      ],
      "metadata": {
        "id": "h6NS0cExjn2P"
      }
    },
    {
      "cell_type": "code",
      "source": [],
      "metadata": {
        "id": "xgNZgJLp76KM"
      },
      "execution_count": null,
      "outputs": []
    },
    {
      "cell_type": "code",
      "source": [],
      "metadata": {
        "id": "_Fo3ZM5VjqIp"
      },
      "execution_count": null,
      "outputs": []
    },
    {
      "cell_type": "markdown",
      "source": [
        "## Install Libraries"
      ],
      "metadata": {
        "id": "9vahBdWNYe_C"
      }
    },
    {
      "cell_type": "code",
      "execution_count": null,
      "metadata": {
        "id": "t6irMthfU2jp",
        "colab": {
          "base_uri": "https://localhost:8080/"
        },
        "outputId": "f60585ec-13ae-4132-8828-0f8f81dcf1f6"
      },
      "outputs": [
        {
          "output_type": "stream",
          "name": "stdout",
          "text": [
            "installed openai version 1.13.3\n",
            "installed tiktoken version: 0.6.0\n"
          ]
        }
      ],
      "source": [
        "try:\n",
        "  import openai\n",
        "  import tiktoken\n",
        "except ModuleNotFoundError:\n",
        "  !pip install openai==1.13.3 # install openAI library to the notebook instance\n",
        "  !pip install tiktoken==0.6.0 # install tokenizer library\n",
        "finally:\n",
        "  import openai\n",
        "  import tiktoken\n",
        "\n",
        "\n",
        "# show installed versions\n",
        "import pkg_resources\n",
        "tiktoken_version = pkg_resources.get_distribution(\"tiktoken\").version\n",
        "\n",
        "print(f\"installed openai version {openai.__version__}\")\n",
        "print(f\"installed tiktoken version: {tiktoken_version}\")\n"
      ]
    },
    {
      "cell_type": "markdown",
      "source": [
        "## Load Libraries"
      ],
      "metadata": {
        "id": "IsQISLGIa5QM"
      }
    },
    {
      "cell_type": "code",
      "source": [
        "import matplotlib.pyplot as plt\n",
        "\n",
        "import openai\n",
        "import tiktoken\n",
        "\n",
        "\n",
        "import pandas as pd\n",
        "import os\n",
        "from PIL import Image\n",
        "\n",
        "import json\n",
        "import requests\n",
        "\n",
        "import seaborn as sns\n",
        "import numpy as np\n",
        "import re\n",
        "from scipy.io.arff import loadarff\n",
        "\n",
        "os.getcwd()"
      ],
      "metadata": {
        "id": "1Iie4VOSa4Zn",
        "colab": {
          "base_uri": "https://localhost:8080/",
          "height": 36
        },
        "outputId": "b09ce4c1-3d9e-40a2-d88b-228b0dc9ba3a"
      },
      "execution_count": null,
      "outputs": [
        {
          "output_type": "execute_result",
          "data": {
            "text/plain": [
              "'/content'"
            ],
            "application/vnd.google.colaboratory.intrinsic+json": {
              "type": "string"
            }
          },
          "metadata": {},
          "execution_count": 14
        }
      ]
    },
    {
      "cell_type": "markdown",
      "source": [
        "## Setup Google Drive access to API keys"
      ],
      "metadata": {
        "id": "w75j3OoxjbZu"
      }
    },
    {
      "cell_type": "code",
      "source": [
        "import google.colab.auth\n",
        "google.colab.auth.authenticate_user()"
      ],
      "metadata": {
        "id": "RIwLVB6yjXR8"
      },
      "execution_count": null,
      "outputs": []
    },
    {
      "cell_type": "code",
      "source": [
        "#@markdown This cell mounts `API_Keys` directory containing your API keys for use with Colab\n",
        "\n",
        "#@markdown connect to drive for API keys stored in `My Drive/Colab Notebooks/API_Keys` <br>\n",
        "\n",
        "#@markdown 1) mount google drive `Colab Notebooks/API_Keys/` to local path `/content/notebooks`\n",
        "\n",
        "import os, sys\n",
        "from google.colab import drive\n",
        "drive.mount('/content/mnt')\n",
        "nb_path = '/content/notebooks'\n",
        "os.symlink('/content/mnt/My Drive/Colab Notebooks', nb_path)\n",
        "sys.path.insert(0, nb_path)  # or append(nb_path)\n"
      ],
      "metadata": {
        "colab": {
          "base_uri": "https://localhost:8080/"
        },
        "outputId": "46588240-ae63-487c-b20f-17eb06c01671",
        "id": "1Ugrjw9jjbZu"
      },
      "execution_count": null,
      "outputs": [
        {
          "output_type": "stream",
          "name": "stdout",
          "text": [
            "Mounted at /content/mnt\n"
          ]
        }
      ]
    },
    {
      "cell_type": "markdown",
      "source": [
        "## Setup Colab and Kaggle API Key"
      ],
      "metadata": {
        "id": "NDfNCkg7GPjk"
      }
    },
    {
      "cell_type": "code",
      "source": [
        "#@markdown This cell links your `API_Keys/kaggle.json` key for local use by Colab\n",
        "\n",
        "#@markdown 1) create and save your kaggle API key as a json file on your Google Drive Colab Notebooks folder here:  `Colab Notebooks/API_Keys/kaggle.json`\n",
        "\n",
        "SETUP_KAGGLE=False #@param True or False\n",
        "if(SETUP_KAGGLE):\n",
        "  !mkdir ~/.kaggle\n",
        "  !ln -s /content/notebooks/API_Keys/kaggle.json ~/.kaggle/\n",
        "  !ls -al ~/.kaggle/\n"
      ],
      "metadata": {
        "id": "r0r9p-yDGPSg"
      },
      "execution_count": null,
      "outputs": []
    },
    {
      "cell_type": "markdown",
      "source": [
        "## Setup Colab and OpenAPI key"
      ],
      "metadata": {
        "id": "3eQznLbGBLph"
      }
    },
    {
      "cell_type": "code",
      "source": [
        "#@markdown This cell loads your `API_Keys/openai.json` key as environment variable for local use by Colab\n",
        "\n",
        "#@markdown 1) create and save your openai API key to a text file  on your Google Drive Colab Notebooks folder here:  `Colab Notebooks/API_Keys/openai.txt`\n",
        "\n",
        "SETUP_OPENAI=True #@param # True or False\n",
        "if(SETUP_OPENAI):\n",
        "  my_api_key_path = '/content/notebooks/API_Keys/openai.txt'\n",
        "  with open(my_api_key_path,'r') as f:\n",
        "    openai_key = f.readline()\n",
        "\n",
        "  os.environ['OPENAI_API_KEY'] = openai_key\n",
        "\n",
        "  from openai import OpenAI\n",
        "  client = OpenAI(\n",
        "    api_key=os.environ['OPENAI_API_KEY'],  # this is also the default, it can be omitted\n",
        "  )"
      ],
      "metadata": {
        "id": "DJ_F_gbJkM6P"
      },
      "execution_count": null,
      "outputs": []
    },
    {
      "cell_type": "code",
      "source": [
        "#@markdown show list of models accessible with our API key\n",
        "model_list = client.models.list()\n",
        "model_list = [m['id'] for m in model_list.dict()['data']]\n",
        "\n",
        "for m in model_list:\n",
        "  print(m, end=\", \")\n"
      ],
      "metadata": {
        "id": "Ll-lSMSkX_TU"
      },
      "execution_count": null,
      "outputs": []
    },
    {
      "cell_type": "code",
      "source": [],
      "metadata": {
        "id": "4D7CuFSq76Gs"
      },
      "execution_count": null,
      "outputs": []
    },
    {
      "cell_type": "markdown",
      "source": [
        "# Part 2 - Build MNIST prediction model with Generative AI\n",
        "\n",
        "You are a student with tight deadlines.  One of your courses has a project that requires you to build a model that accurately predicts MNIST digits\n",
        "\n",
        "To help you save time, you plan to use ChatGPT3.5 to give you code for a model that successfully predicts MNIST digits.\n",
        "\n",
        "You are also aware that ChatGPT hallucinates and to avoid incorrect code, you plan to test all responses from ChatGPT.  \n",
        "\n",
        "Note: you will run code provided by ChatGPT without modification.  If the result is incorrect, revise your prompt\n",
        "\n",
        "1. Ask ChatGPT to show code that will download MNIST data into training and test dataframes\n",
        "  1. Run the code ChatGPT provided (if the code is incorrect, change your prompt until it runs correctly)\n",
        "2. Ask ChatGPT to show code that will train a scikit-learn classifier to accurately predict digits\n",
        "  1. Run the code ChatGPT provided  (if the code is incorrect, change your prompt until it runs correctly)\n",
        "3. Ask ChatGPT to show code that will create a report showing precision, recall, f1-score, and support of the trained classifier\n",
        "  1. Run the code ChatGPT provided  (if the code is incorrect, change your prompt until it runs correctly)\n",
        "4. Ask ChatGPT to show code that will create a confusion matrix for the performance of the classifier using test data\n",
        "  1. Run the code ChatGPT provided  (if the code is incorrect, change your prompt until it runs correctly)\n",
        "5. Ask ChatGPT to show code that will display 5 randomly selected test digits along with its actual and predicted class in the title of the image\n",
        "  1. Run the code ChatGPT provided  (if the code is incorrect, change your prompt until it runs correctly)\n",
        "\n",
        "\n",
        "Hints: you will need to provide explicit instructions on variable names to use in order to maintain consistency as you progress from Q1 to Q2 to Q3 to Q4"
      ],
      "metadata": {
        "id": "EB9ATCuzhs4_"
      }
    },
    {
      "cell_type": "markdown",
      "source": [
        "## Q1\n",
        "\n",
        "1. Ask ChatGPT to show code that will download MNIST data into training and test dataframes\n",
        "  1. Run the code ChatGPT provided (if the code is incorrect, change your prompt until it runs correctly)"
      ],
      "metadata": {
        "id": "mqXBZuO7nyXY"
      }
    },
    {
      "cell_type": "code",
      "source": [
        "my_context = \"your prompt to set context for model\"\n",
        "my_prompt = \"your prompt for chatgpt to answer the question\"\n",
        "\n",
        "model_name = \"gpt-3.5-turbo\"\n",
        "from openai import OpenAI\n",
        "client = OpenAI()\n",
        "\n",
        "completion = client.chat.completions.create(\n",
        "  model=model_name,\n",
        "  messages=[\n",
        "    {\"role\": \"system\", \"content\": my_context},\n",
        "    {\"role\": \"user\", \"content\": my_prompt}\n",
        "  ]\n",
        ")\n",
        "\n",
        "print(completion.choices[0].message.content)"
      ],
      "metadata": {
        "id": "_Sp5lES_jasb"
      },
      "execution_count": null,
      "outputs": []
    },
    {
      "cell_type": "code",
      "source": [
        "# paste code generated by chatgpt here and run the cell"
      ],
      "metadata": {
        "id": "NmMMHNaRjarD"
      },
      "execution_count": null,
      "outputs": []
    },
    {
      "cell_type": "code",
      "source": [],
      "metadata": {
        "id": "cT6KPOfujalw"
      },
      "execution_count": null,
      "outputs": []
    },
    {
      "cell_type": "markdown",
      "source": [
        "## Q2\n",
        "\n",
        "2. Ask ChatGPT to show code that will train a scikit-learn classifier to accurately predict digits\n",
        "  1. Run the code ChatGPT provided  (if the code is incorrect, change your prompt until it runs correctly)"
      ],
      "metadata": {
        "id": "R6qnj4rYn42X"
      }
    },
    {
      "cell_type": "code",
      "source": [],
      "metadata": {
        "id": "Ofn2hsGJjai3"
      },
      "execution_count": null,
      "outputs": []
    },
    {
      "cell_type": "markdown",
      "source": [
        "## Q3\n",
        "\n",
        "3. Ask ChatGPT to show code that will create a report showing precision, recall, f1-score, and support of the trained classifier\n",
        "  1. Run the code ChatGPT provided  (if the code is incorrect, change your prompt until it runs correctly)"
      ],
      "metadata": {
        "id": "mBjBR8KMn80A"
      }
    },
    {
      "cell_type": "code",
      "source": [],
      "metadata": {
        "id": "ikpzLH8-jagW"
      },
      "execution_count": null,
      "outputs": []
    },
    {
      "cell_type": "markdown",
      "source": [
        "## Q4\n",
        "4. Ask ChatGPT to show code that will create a confusion matrix for the performance of the classifier using test data\n",
        "  1. Run the code ChatGPT provided  (if the code is incorrect, change your prompt until it runs correctly)\n"
      ],
      "metadata": {
        "id": "A-f_B2Zmn_u3"
      }
    },
    {
      "cell_type": "code",
      "source": [],
      "metadata": {
        "id": "ex5Rjf5Hjad4"
      },
      "execution_count": null,
      "outputs": []
    },
    {
      "cell_type": "markdown",
      "source": [
        "## Q5\n",
        "\n",
        "5. Ask ChatGPT to show code that will display 5 randomly selected test digits along with its actual and predicted class in the title of the image\n",
        "  1. Run the code ChatGPT provided  (if the code is incorrect, change your prompt until it runs correctly)\n"
      ],
      "metadata": {
        "id": "S75BAitToRYb"
      }
    },
    {
      "cell_type": "code",
      "source": [],
      "metadata": {
        "id": "_2mhHUhmjaZS"
      },
      "execution_count": null,
      "outputs": []
    },
    {
      "cell_type": "code",
      "source": [],
      "metadata": {
        "id": "T6v7_i9djaWp"
      },
      "execution_count": null,
      "outputs": []
    },
    {
      "cell_type": "markdown",
      "source": [
        "#End"
      ],
      "metadata": {
        "id": "TsbUHlxoM863"
      }
    },
    {
      "cell_type": "code",
      "source": [],
      "metadata": {
        "id": "uqXB40ya7579"
      },
      "execution_count": null,
      "outputs": []
    }
  ],
  "metadata": {
    "colab": {
      "provenance": [],
      "toc_visible": true
    },
    "kernelspec": {
      "display_name": "Python 3 (ipykernel)",
      "language": "python",
      "name": "python3"
    },
    "language_info": {
      "codemirror_mode": {
        "name": "ipython",
        "version": 3
      },
      "file_extension": ".py",
      "mimetype": "text/x-python",
      "name": "python",
      "nbconvert_exporter": "python",
      "pygments_lexer": "ipython3",
      "version": "3.9.2"
    }
  },
  "nbformat": 4,
  "nbformat_minor": 0
}