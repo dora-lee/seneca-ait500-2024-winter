{
  "cells": [
    {
      "cell_type": "markdown",
      "metadata": {
        "id": "BN1KAbxLoJq1"
      },
      "source": [
        "# AIT500 - Lab Test 1\n",
        "\n",
        "## Objective\n",
        "\n",
        "With this notebook, you will demonstrate steps needed for data collection, data cleaning, and data transformation in order to help you analyze data and draw conclusions from it\n",
        "\n",
        "\n",
        "## Test Instructions\n",
        "\n",
        "You will work with three datasets\n",
        "1. [NASA Earth Meteorite Landings](https://data.nasa.gov/Space-Science/Meteorite-Landings/gh4g-9sfh)\n",
        "  - write code in this notebook to download the NASA meteorite landings data in json format here:\n",
        "   https://raw.githubusercontent.com/dora-lee/seneca-ait500-2024-winter/main/lab_tests/nasa_meteorites.json\n",
        "\n",
        "2. [Lego dataset from Kaggle](https://www.kaggle.com/datasets/rtatman/lego-database) and load data into data frames by examining the schema, join the appropriate dataframes together and answer questions below with code\n",
        "\n",
        "3. Once your test is completed, upload your notebook with all cells evaluated to the Classwork section of the Course Notebook\n",
        "\n",
        "\n",
        "### Meteor Dataset Description\n",
        "[NASA Earth Meteorite Landings](https://data.nasa.gov/Space-Science/Meteorite-Landings/gh4g-9sfh) captures information of meteorites landing on Earth over the past several centuries to present-time\n",
        "\n",
        "### Lego Dataset\n",
        "\n",
        "[Lego Dataset crafted by Kaggle community](https://www.kaggle.com/datasets/rtatman/lego-database).  This dataset contains the LEGO Parts/Sets/Colors and Inventories of every official LEGO set in the Rebrickable database. These files are current as of July 2017. If you need it to be more recent data, you can use Rebrickable’s API which provides up to date data, and additional features.\n",
        "\n",
        "Schema of Lego dataset showing the relationship between the different `.csv` files.\n",
        "<img src=\"lab02_lego_dataset_schema.png\">\n",
        "\n",
        "\n",
        "## Reference Information\n",
        "- [Earth Meteorite Landings](https://data.nasa.gov/Space-Science/Meteorite-Landings/gh4g-9sfh)\n",
        "- [Lego Dataset crafted by Kaggle community](https://www.kaggle.com/datasets/rtatman/lego-database)\n"
      ]
    },
    {
      "cell_type": "code",
      "execution_count": null,
      "metadata": {
        "colab": {
          "base_uri": "https://localhost:8080/",
          "height": 17
        },
        "id": "_-FkXaL23hhe",
        "outputId": "88885b16-3250-419a-fca3-0e147e142225"
      },
      "outputs": [
        {
          "data": {
            "text/html": [
              "<style>.container { width:100% !important; }</style>"
            ],
            "text/plain": [
              "<IPython.core.display.HTML object>"
            ]
          },
          "metadata": {},
          "output_type": "display_data"
        }
      ],
      "source": [
        "# increase Jupyter cell width\n",
        "\n",
        "from IPython.display import display, HTML\n",
        "display(HTML(\"<style>.container { width:100% !important; }</style>\"))"
      ]
    },
    {
      "cell_type": "markdown",
      "metadata": {
        "id": "oG8dtpVPsEbD"
      },
      "source": [
        "# Setup Libraries"
      ]
    },
    {
      "cell_type": "code",
      "execution_count": null,
      "metadata": {
        "colab": {
          "base_uri": "https://localhost:8080/",
          "height": 35
        },
        "id": "WWgOxummoA_Y",
        "outputId": "94713482-c9b7-4dd0-d0d4-90086d1933be"
      },
      "outputs": [
        {
          "data": {
            "application/vnd.google.colaboratory.intrinsic+json": {
              "type": "string"
            },
            "text/plain": [
              "'/content'"
            ]
          },
          "execution_count": 1,
          "metadata": {},
          "output_type": "execute_result"
        }
      ],
      "source": [
        "import pandas as pd\n",
        "import matplotlib.pyplot as plt # plotting library\n",
        "import os\n",
        "from PIL import Image\n",
        "\n",
        "import json\n",
        "import requests\n",
        "\n",
        "import seaborn as sns\n",
        "import numpy as np\n",
        "\n",
        "os.getcwd()"
      ]
    },
    {
      "cell_type": "code",
      "execution_count": null,
      "metadata": {
        "id": "KiqtqdGLhPC-"
      },
      "outputs": [],
      "source": []
    },
    {
      "cell_type": "markdown",
      "metadata": {
        "id": "NGdAxyy03hhj"
      },
      "source": [
        "# Meteorites Dataset"
      ]
    },
    {
      "cell_type": "markdown",
      "metadata": {
        "id": "vfHJbk299pGk"
      },
      "source": [
        "### Step 1 download data"
      ]
    },
    {
      "cell_type": "code",
      "execution_count": null,
      "metadata": {
        "id": "EPeyy7xX9DIk"
      },
      "outputs": [],
      "source": [
        "# your code to download dataset here"
      ]
    },
    {
      "cell_type": "code",
      "execution_count": null,
      "metadata": {
        "id": "pvosYP6C3hhk"
      },
      "outputs": [],
      "source": []
    },
    {
      "cell_type": "code",
      "execution_count": null,
      "metadata": {
        "id": "jS21ZoXR3hhk"
      },
      "outputs": [],
      "source": [
        "# show first 100 bytes of file\n",
        "!head ..."
      ]
    },
    {
      "cell_type": "markdown",
      "metadata": {
        "id": "GB82mbQf9i4F"
      },
      "source": [
        "### Step 2 Create meteorites dataframe"
      ]
    },
    {
      "cell_type": "code",
      "execution_count": null,
      "metadata": {
        "id": "UfT5597s3hhm"
      },
      "outputs": [],
      "source": [
        "# your code here\n",
        "filename = ..."
      ]
    },
    {
      "cell_type": "code",
      "execution_count": null,
      "metadata": {
        "id": "egjWgn12-cOE"
      },
      "outputs": [],
      "source": [
        "# your code here, show dataframe shape"
      ]
    },
    {
      "cell_type": "markdown",
      "metadata": {
        "id": "NIMSdY3C9t12"
      },
      "source": [
        "### Step 3 remove rows with zero mass"
      ]
    },
    {
      "cell_type": "code",
      "execution_count": null,
      "metadata": {
        "id": "URcNZ5hc-S7X"
      },
      "outputs": [],
      "source": [
        "# your code here"
      ]
    },
    {
      "cell_type": "markdown",
      "metadata": {
        "id": "j918O6Y-aO3h"
      },
      "source": [
        "### Step 4 Show descriptive statistics\n",
        "\n",
        "Show the descriptive statistics of this dataset to gain high level understanding of the data in each field\n",
        "\n",
        "Write a brief analysis of your interpretation of the descriptive statistics.  State any assumptions you make.  "
      ]
    },
    {
      "cell_type": "code",
      "execution_count": null,
      "metadata": {
        "id": "9ejuyIgk_ADg"
      },
      "outputs": [],
      "source": [
        "# your code here to show descriptive statistics\n"
      ]
    },
    {
      "cell_type": "code",
      "execution_count": 1,
      "metadata": {
        "id": "qXnKlV_iaU5E"
      },
      "outputs": [],
      "source": [
        "# your explanation of findings from descriptive statistics"
      ]
    },
    {
      "cell_type": "code",
      "execution_count": null,
      "metadata": {
        "id": "QuZ8toM5aUkH"
      },
      "outputs": [],
      "source": []
    },
    {
      "cell_type": "markdown",
      "metadata": {
        "id": "vOdvoiQmhPDP"
      },
      "source": [
        "### Q1 Data exploration\n",
        "\n",
        "1. The latitude and longitude of where a meteorite landed is contained in the fields `reclat` and `reclong`\n",
        "    - plot a scatterplot of these two variables with `reclat` on the x-axis and `reclong` on the y-axis\n"
      ]
    },
    {
      "cell_type": "code",
      "execution_count": null,
      "metadata": {
        "id": "p8Em04IQhPDP"
      },
      "outputs": [],
      "source": [
        "# your code here\n"
      ]
    },
    {
      "cell_type": "markdown",
      "metadata": {
        "id": "HiQFtN8IhPDQ"
      },
      "source": [
        "### Q2 Create new colummns showing which hemisphere the meteorite landed in\n",
        "\n",
        "1. Using `reclat`, create a new field called `EastWest_Hemisphere`\n",
        "  1. If the lattitude is positive, the meteorite landed in the northern hemisphere.  Populate the field with `N`\n",
        "  1. If the lattitude is negative, the meteorite landed in the southern hemisphere.  Populate the field with `S`\n",
        "1. Using `reclong`, create a new field called `NorthSouth_Hemisphere`\n",
        "  1. If the longitude is positive, the meteorite landed in the northern hemisphere.  Populate the field with `E`\n",
        "  1. If the longitude is negative, the meteorite landed in the southern hemisphere.  Populate the field with `W`\n",
        "1. How many meteorites landed in each hemisphere?\n",
        "1. What is the mass of meteorites that landed in each hemisphere?\n"
      ]
    },
    {
      "cell_type": "markdown",
      "metadata": {
        "id": "bQXjJ_cwhPDQ"
      },
      "source": [
        "### Q3 Create a new column showing which octant the metetorite landed in\n",
        "\n",
        "When a sphere is cut into 8 equal wedges, each wedge is called an [octant](https://en.wikipedia.org/wiki/Octant_of_a_sphere)\n",
        "  \n",
        "1. Create a new field called `Octant` and populate it by concatenating the values in `EastWest_Hemisphere` and `NorthSouth_Hemisphere`\n",
        "1. How many octants are there?\n",
        "1. How many meteorites landed in each octant?\n",
        "1. What is the mass of meteorites that landed in each octant?"
      ]
    },
    {
      "cell_type": "code",
      "execution_count": null,
      "metadata": {
        "id": "bSMHylTjhPDQ"
      },
      "outputs": [],
      "source": [
        "# your code here\n"
      ]
    },
    {
      "cell_type": "code",
      "execution_count": null,
      "metadata": {
        "id": "UpXJOseihPDR"
      },
      "outputs": [],
      "source": [
        "# your code here"
      ]
    },
    {
      "cell_type": "markdown",
      "metadata": {
        "id": "bOVRpR8Ja5eG"
      },
      "source": [
        "### Q4 Identify Outliers in Dataset\n",
        "\n",
        "Outliers are entries in a column that is substantially different other values in the same column\n",
        "\n",
        "Using your common knowledge and understanding of the meteorites dataset, identify some outliers\n",
        "\n",
        "Use code to show how you found them.  Explain why you believe they are outliers"
      ]
    },
    {
      "cell_type": "code",
      "execution_count": null,
      "metadata": {
        "id": "f1HSEAmAa7jf"
      },
      "outputs": [],
      "source": [
        "# your code here\n"
      ]
    },
    {
      "cell_type": "markdown",
      "metadata": {
        "id": "iH7GIZIR3hho"
      },
      "source": [
        "# Lego data\n",
        "\n",
        "Download the [Lego dataset from Kaggle](https://www.kaggle.com/datasets/rtatman/lego-database) and load data into data frames by examining the schema"
      ]
    },
    {
      "cell_type": "code",
      "execution_count": null,
      "metadata": {
        "id": "NNcOMDd63hhp"
      },
      "outputs": [],
      "source": [
        "# your code here to answer lego data questions.  use as many cells as needed"
      ]
    },
    {
      "cell_type": "code",
      "execution_count": null,
      "metadata": {
        "colab": {
          "base_uri": "https://localhost:8080/"
        },
        "id": "ChXYRFvN3hhp",
        "outputId": "33612329-7756-4c55-b9c5-9606a482850b"
      },
      "outputs": [
        {
          "name": "stdout",
          "output_type": "stream",
          "text": [
            "Mounted at /content/mnt\n",
            "total 16\n",
            "drwxr-xr-x 2 root root 4096 Oct  4 19:24 .\n",
            "drwx------ 1 root root 4096 Oct  4 19:24 ..\n",
            "-rw------- 1 root root   63 Oct  4 19:24 kaggle.json\n"
          ]
        }
      ],
      "source": [
        "# this cell is for using Colab - mount google drive and copy API key file into ~/.kaggle/kaggle.json\n",
        "import os, sys\n",
        "from google.colab import drive\n",
        "drive.mount('/content/mnt')\n",
        "nb_path = '/content/notebooks'\n",
        "os.symlink('/content/mnt/My Drive/Colab Notebooks', nb_path)\n",
        "sys.path.insert(0, nb_path)  # or append(nb_path)\n",
        "\n",
        "!mkdir ~/.kaggle\n",
        "!cp /content/notebooks/API_Keys/kaggle.json ~/.kaggle/\n",
        "!ls -al ~/.kaggle/"
      ]
    },
    {
      "cell_type": "code",
      "execution_count": null,
      "metadata": {
        "colab": {
          "base_uri": "https://localhost:8080/"
        },
        "id": "5bnfOJOM3hhp",
        "outputId": "c15dd5f0-e80a-4a15-d301-360cab774a93"
      },
      "outputs": [
        {
          "name": "stdout",
          "output_type": "stream",
          "text": [
            "total 16\n",
            "drwxr-xr-x 2 root root 4096 Oct  4 19:24 .\n",
            "drwx------ 1 root root 4096 Oct  4 19:24 ..\n",
            "-rw------- 1 root root   63 Oct  4 19:24 kaggle.json\n"
          ]
        }
      ],
      "source": [
        "# if running from Raspberry Pi separately copy your Kaggle API key (kaggle.json) to ~/.kaggle/kaggle.json\n",
        "\n",
        "# check that API key exists\n",
        "!ls -al ~/.kaggle/"
      ]
    },
    {
      "cell_type": "markdown",
      "metadata": {
        "id": "SaTpXaBLngvm"
      },
      "source": [
        "#### Step 1 download Lego Dataset"
      ]
    },
    {
      "cell_type": "code",
      "execution_count": null,
      "metadata": {
        "colab": {
          "base_uri": "https://localhost:8080/"
        },
        "id": "p6M_mM-s3hhq",
        "outputId": "86bfc25b-46ce-4f93-c84b-72ed5937a730"
      },
      "outputs": [
        {
          "name": "stdout",
          "output_type": "stream",
          "text": [
            "Requirement already satisfied: kaggle in /usr/local/lib/python3.10/dist-packages (1.5.16)\n",
            "Requirement already satisfied: six>=1.10 in /usr/local/lib/python3.10/dist-packages (from kaggle) (1.16.0)\n",
            "Requirement already satisfied: certifi in /usr/local/lib/python3.10/dist-packages (from kaggle) (2023.7.22)\n",
            "Requirement already satisfied: python-dateutil in /usr/local/lib/python3.10/dist-packages (from kaggle) (2.8.2)\n",
            "Requirement already satisfied: requests in /usr/local/lib/python3.10/dist-packages (from kaggle) (2.31.0)\n",
            "Requirement already satisfied: tqdm in /usr/local/lib/python3.10/dist-packages (from kaggle) (4.66.1)\n",
            "Requirement already satisfied: python-slugify in /usr/local/lib/python3.10/dist-packages (from kaggle) (8.0.1)\n",
            "Requirement already satisfied: urllib3 in /usr/local/lib/python3.10/dist-packages (from kaggle) (2.0.5)\n",
            "Requirement already satisfied: bleach in /usr/local/lib/python3.10/dist-packages (from kaggle) (6.0.0)\n",
            "Requirement already satisfied: webencodings in /usr/local/lib/python3.10/dist-packages (from bleach->kaggle) (0.5.1)\n",
            "Requirement already satisfied: text-unidecode>=1.3 in /usr/local/lib/python3.10/dist-packages (from python-slugify->kaggle) (1.3)\n",
            "Requirement already satisfied: charset-normalizer<4,>=2 in /usr/local/lib/python3.10/dist-packages (from requests->kaggle) (3.2.0)\n",
            "Requirement already satisfied: idna<4,>=2.5 in /usr/local/lib/python3.10/dist-packages (from requests->kaggle) (3.4)\n",
            "Downloading lego-database.zip to /content\n",
            "  0% 0.00/2.94M [00:00<?, ?B/s]\n",
            "100% 2.94M/2.94M [00:00<00:00, 175MB/s]\n",
            "Archive:  lego-database.zip\n",
            "  inflating: colors.csv              \n",
            "  inflating: downloads_schema.png    \n",
            "  inflating: inventories.csv         \n",
            "  inflating: inventory_parts.csv     \n",
            "  inflating: inventory_sets.csv      \n",
            "  inflating: part_categories.csv     \n",
            "  inflating: parts.csv               \n",
            "  inflating: sets.csv                \n",
            "  inflating: themes.csv              \n"
          ]
        }
      ],
      "source": [
        "!sudo pip install kaggle\n",
        "# download kaggle.json key into ~/.kaggle/kaggle.json\n",
        "!mkdir lego-database\n",
        "!cd lego-database\n",
        "!kaggle datasets download rtatman/lego-database\n",
        "!unzip lego-database"
      ]
    },
    {
      "cell_type": "markdown",
      "metadata": {
        "id": "wjJJHhxT4Drd"
      },
      "source": [
        "#### Step 2 Load csv's into dataframes"
      ]
    },
    {
      "cell_type": "code",
      "execution_count": null,
      "metadata": {
        "id": "5QX-kH9q4DcI"
      },
      "outputs": [],
      "source": [
        "df_colors = pd.read_csv('colors.csv')\n",
        "df_parts = pd.read_csv('parts.csv')\n",
        "df_themes = pd.read_csv('themes.csv')\n",
        "df_inventory_parts = pd.read_csv('inventory_parts.csv')\n",
        "df_inventory_sets = pd.read_csv('inventory_sets.csv')\n",
        "df_part_categories = pd.read_csv('part_categories.csv')\n",
        "df_sets = pd.read_csv('sets.csv')\n",
        "df_inventories = pd.read_csv('inventories.csv')"
      ]
    },
    {
      "cell_type": "markdown",
      "metadata": {
        "id": "-OCIZRueJJaN"
      },
      "source": [
        "### Q5 number of unique colours\n",
        "\n",
        "How many unique colours are in the Lego inventory?"
      ]
    },
    {
      "cell_type": "code",
      "execution_count": 2,
      "metadata": {
        "id": "UeOX0uluqFkV"
      },
      "outputs": [],
      "source": [
        "# your code here"
      ]
    },
    {
      "cell_type": "markdown",
      "metadata": {
        "id": "gV3SpNHiKKjw"
      },
      "source": [
        "### Q6 What are the top 3 colours used across all Lego sets?"
      ]
    },
    {
      "cell_type": "code",
      "execution_count": null,
      "metadata": {
        "id": "NAIKacBBn_6x"
      },
      "outputs": [],
      "source": [
        "# your code here"
      ]
    },
    {
      "cell_type": "code",
      "execution_count": null,
      "metadata": {
        "id": "ourh6eO-n_1h"
      },
      "outputs": [],
      "source": []
    },
    {
      "cell_type": "code",
      "execution_count": null,
      "metadata": {
        "id": "o-Gig-NXn_y0"
      },
      "outputs": [],
      "source": []
    },
    {
      "cell_type": "markdown",
      "metadata": {
        "id": "-0WacvS7eqRV"
      },
      "source": [
        "### Q7 Create a new column showing simplified colours (pseudo code)\n",
        "\n",
        "The colour names provided by Lego are very descriptive and as a result, there are many names for the same basic colour.  For example:  `Sand Green`, `Trans-Bright Green` are both `Green`\n",
        "\n",
        "1. Write pseudo code that takes in `name` from the `df_colors` dataframe and returns the simplified colour\n"
      ]
    },
    {
      "cell_type": "code",
      "execution_count": null,
      "metadata": {
        "id": "ev527Xh7eqR-"
      },
      "outputs": [],
      "source": [
        "# your pseudo code here"
      ]
    },
    {
      "cell_type": "code",
      "execution_count": null,
      "metadata": {
        "id": "319WdpusR7EL"
      },
      "outputs": [],
      "source": []
    },
    {
      "cell_type": "markdown",
      "metadata": {
        "id": "sq4i0eevjI0C"
      },
      "source": [
        "### Q8 Create a new column showing simplified colours (pseudo code)\n",
        "\n",
        "1. Write a function from your pseudo code above that takes in `name` from the `df_colors` dataframe and returns the simplified colour\n",
        "1. Use this function to populate a new field called `SimpleColour`\n",
        "1. How many parts in the Lego inventory does each simple colour have?"
      ]
    },
    {
      "cell_type": "code",
      "execution_count": null,
      "metadata": {
        "id": "eNXhB2-OjlY-"
      },
      "outputs": [],
      "source": []
    }
  ],
  "metadata": {
    "colab": {
      "provenance": [],
      "toc_visible": true
    },
    "kernelspec": {
      "display_name": "Python 3 (ipykernel)",
      "language": "python",
      "name": "python3"
    },
    "language_info": {
      "codemirror_mode": {
        "name": "ipython",
        "version": 3
      },
      "file_extension": ".py",
      "mimetype": "text/x-python",
      "name": "python",
      "nbconvert_exporter": "python",
      "pygments_lexer": "ipython3",
      "version": "3.9.2"
    }
  },
  "nbformat": 4,
  "nbformat_minor": 0
}
