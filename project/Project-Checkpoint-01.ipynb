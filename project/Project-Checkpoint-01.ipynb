{
 "cells": [
  {
   "cell_type": "markdown",
   "id": "c124bc2f-c8fc-44fa-918b-30971a743292",
   "metadata": {},
   "source": [
    "# Course Project Checkpoint 1 (05-Feb-2024)\n",
    "\n",
    "This notebook is a guideline for you to document meeting the requirements of Project Checkpoint 1\n",
    "\n",
    "Demonstrate motorized movement:\n",
    "\n",
    "1. Forward, backward, turn left, turn right\n",
    "1. From stationary location (measure start and stop coordinates of robot)\n",
    "    1. Consistently move forward 30cm (less than 1cm variation between 10 trials)\n",
    "    1. Consistently move backwards 30cm (less than 1cm variation between 10 trials)\n",
    "    1. Consistently turn left and move forward 30cm (less than 1cm variation between 10 trials)\n",
    "    1. Consistently turn right and move forward 30cm (less than 1cm variation between 10 trials)\n",
    "    1. Consistently turn left and move backward 30cm (less than 1cm variation between 10 trials)\n",
    "    1. Consistently turn right and move backward 30cm (less than 1cm variation between 10 trials)\n",
    "1. Demonstrate continuous movement for more than 2 minutes\n",
    "1. Capture live data from BMP280 \n",
    "    1. Show on screen (ex: via notebook)\n",
    "1. Capture images from camera \n",
    "    1. Display on screen (ex: via notebook) or transfer image to PC\n",
    "1. Provide experimental analysis of the robot’s consistency of movement\n",
    "    1. Chart measured results\n",
    "    1. Provide analysis and summary statistics of measured results of movement consistency\n",
    "\n",
    "Note: you may substitute 20cm instead of 8\" for movement"
   ]
  },
  {
   "cell_type": "code",
   "execution_count": 14,
   "id": "a867174f-b950-409f-820a-89d0a2fe4c5f",
   "metadata": {},
   "outputs": [
    {
     "data": {
      "text/html": [
       "<style>.container { width:100% !important; }</style>"
      ],
      "text/plain": [
       "<IPython.core.display.HTML object>"
      ]
     },
     "metadata": {},
     "output_type": "display_data"
    }
   ],
   "source": [
    "# increase Jupyter cell width\n",
    "\n",
    "from IPython.display import display, HTML\n",
    "display(HTML(\"<style>.container { width:100% !important; }</style>\"))"
   ]
  },
  {
   "cell_type": "markdown",
   "id": "9bb9fbe3-99c3-450b-8ec0-2aec9d3fe826",
   "metadata": {},
   "source": [
    "# Setup libraries"
   ]
  },
  {
   "cell_type": "code",
   "execution_count": 15,
   "id": "b8f14e90-b201-4207-9a47-919dc04e50b5",
   "metadata": {},
   "outputs": [
    {
     "data": {
      "text/plain": [
       "'/home/pi'"
      ]
     },
     "execution_count": 15,
     "metadata": {},
     "output_type": "execute_result"
    }
   ],
   "source": [
    "import pandas as pd\n",
    "import matplotlib.pyplot as plt # plotting library\n",
    "import os\n",
    "from PIL import Image\n",
    "\n",
    "import json\n",
    "import requests\n",
    "\n",
    "import seaborn as sns\n",
    "import numpy as np\n",
    "\n",
    "os.getcwd()"
   ]
  },
  {
   "cell_type": "code",
   "execution_count": null,
   "id": "310cc530-5a72-4822-9753-7ed0962fce1a",
   "metadata": {},
   "outputs": [],
   "source": []
  },
  {
   "cell_type": "code",
   "execution_count": null,
   "id": "22dc17c2-dbe4-42f8-b790-cb60356361f6",
   "metadata": {},
   "outputs": [],
   "source": []
  },
  {
   "cell_type": "code",
   "execution_count": null,
   "id": "b1132299-bf40-42a7-a65f-05455faf3d42",
   "metadata": {},
   "outputs": [],
   "source": []
  },
  {
   "cell_type": "markdown",
   "id": "f875e229-1625-4243-b901-3fec1f36e2e4",
   "metadata": {},
   "source": [
    "# Recording robot movement\n",
    "\n",
    "Imagine your robot is on an x-y plane\n",
    "Set your robot at the starting position and call this (0,0)\n",
    "\n",
    "## 1. Record two runs of right-turn-move-foward as (7,1) and (8,0):\n",
    "\n",
    "<img src=\"project_checkpoint01_a.png\" width=\"500\">\n",
    "\n",
    "\n",
    "## 1. Record two runs of move-forward as (7,1) and (8,0):\n",
    "\n",
    "<img src=\"project_checkpoint01_b.png\" width=\"500\">\n"
   ]
  },
  {
   "cell_type": "code",
   "execution_count": null,
   "id": "a04f77ce-4ee4-4776-91e3-c028e9131917",
   "metadata": {},
   "outputs": [],
   "source": []
  },
  {
   "cell_type": "markdown",
   "id": "90baf9c2-074f-42cd-a733-8fe2737a082b",
   "metadata": {},
   "source": [
    "# Record data frame containing actual forward distance moved\n",
    "\n",
    "record (x, y) coordinate movement"
   ]
  },
  {
   "cell_type": "code",
   "execution_count": 5,
   "id": "da9e8dfd-d887-4c0f-957c-b0a2679d5dd3",
   "metadata": {},
   "outputs": [],
   "source": [
    "# record actual distance moved (inches)\n",
    "move_forward_distance = [ (6, 0), (5,0), (4,0), ... , (10,0) ] # 10 data points"
   ]
  },
  {
   "cell_type": "markdown",
   "id": "cbb6367c-394c-4017-84a5-9410c44ccf32",
   "metadata": {},
   "source": [
    "# Record data frame containing actual reverse distance moved\n",
    "\n",
    "record (x, y) coordinate movement"
   ]
  },
  {
   "cell_type": "code",
   "execution_count": 6,
   "id": "5f1132f4-0037-4c16-925d-ae7bc34d45aa",
   "metadata": {},
   "outputs": [],
   "source": [
    "# record actual distance moved (inches)\n",
    "move_reverse_distance = [ (6, 0), (5,0), (4,0), ... , (10,0) ] # 10 data points"
   ]
  },
  {
   "cell_type": "markdown",
   "id": "26513752-5a94-4d68-83c4-ed36b6b1e9a2",
   "metadata": {},
   "source": [
    "# Record data frame containing actual turn left + forward distance moved\n",
    "\n",
    "Record (x, y) coordinate movement similar to diagrams below"
   ]
  },
  {
   "cell_type": "code",
   "execution_count": 2,
   "id": "5f6a95fc-b30e-4157-82d4-6a257306fd3f",
   "metadata": {},
   "outputs": [],
   "source": [
    "# record actual distance moved (inches)\n",
    "left_move_foward_distance = [ (6, 0), (5,0), (4,0), ... , (10,0) ] # 10 data points"
   ]
  },
  {
   "cell_type": "markdown",
   "id": "31dd8a44-c17e-468e-9d9e-d55ffcbe645e",
   "metadata": {},
   "source": [
    "# Record data frame containing actual turn left + backward distance moved\n",
    "\n",
    "record (x, y) coordinate movement"
   ]
  },
  {
   "cell_type": "code",
   "execution_count": 8,
   "id": "e153c63e-518b-4dbb-8a9b-4928bcfa2a90",
   "metadata": {},
   "outputs": [],
   "source": [
    "# record actual distance moved (inches)\n",
    "left_move_backward_distance = [ 6, 5, ... , 10 ] # 10 data points"
   ]
  },
  {
   "cell_type": "code",
   "execution_count": null,
   "id": "015cbf93-a7e0-4fc3-86b6-9b0ec88892e9",
   "metadata": {},
   "outputs": [],
   "source": []
  },
  {
   "cell_type": "markdown",
   "id": "ae0ec28e-814f-47bf-bd08-df8942c007ec",
   "metadata": {},
   "source": [
    "# Record data frame containing actual turn right + forward distance moved\n",
    "\n",
    "record (x, y) coordinate movement"
   ]
  },
  {
   "cell_type": "code",
   "execution_count": 9,
   "id": "58fc9003-772d-40ab-8296-2cb33975fe25",
   "metadata": {},
   "outputs": [],
   "source": [
    "# record actual distance moved (inches)\n",
    "right_move_forward_distance = [ (6, 0), (5,0), (4,0), ... , (10,0) ] # 10 data points"
   ]
  },
  {
   "cell_type": "markdown",
   "id": "818d7de8-6fab-4f87-85e0-3c3f1eb285d2",
   "metadata": {},
   "source": [
    "# Record data frame containing actual turn right + backward distance moved\n",
    "\n",
    "record (x, y) coordinate movement"
   ]
  },
  {
   "cell_type": "code",
   "execution_count": 10,
   "id": "2d6c777f-8ad9-41c7-9c40-f5079e214bc2",
   "metadata": {},
   "outputs": [],
   "source": [
    "# record actual distance moved (inches)\n",
    "right_move_backward_distance = [ 6, 5, ... , 10 ] # 10 data points"
   ]
  },
  {
   "cell_type": "code",
   "execution_count": null,
   "id": "cf2d436b-5d23-42e9-8722-6067f0a8f949",
   "metadata": {},
   "outputs": [],
   "source": []
  },
  {
   "cell_type": "markdown",
   "id": "1fb75ded-f5fc-4356-aa4a-f8feac271cb0",
   "metadata": {},
   "source": [
    "# Show live temperature captured from BMP280\n",
    "\n",
    "hint1: include capture time along with measured temperature\n",
    "\n",
    "hint2: record at 5 second intervals"
   ]
  },
  {
   "cell_type": "code",
   "execution_count": null,
   "id": "828aef5a-ddba-4d7c-a44a-5538440bba19",
   "metadata": {},
   "outputs": [],
   "source": [
    "# your code here"
   ]
  },
  {
   "cell_type": "code",
   "execution_count": null,
   "id": "1d32d6df-a16f-4eee-9f15-3e330823207c",
   "metadata": {},
   "outputs": [],
   "source": []
  },
  {
   "cell_type": "code",
   "execution_count": null,
   "id": "484959f2-ff8e-46ad-a000-70fef9a5dd29",
   "metadata": {},
   "outputs": [],
   "source": []
  },
  {
   "cell_type": "markdown",
   "id": "5a42491d-fcbf-4b13-b60e-63c020bcb291",
   "metadata": {},
   "source": [
    "# Show image captured from camera"
   ]
  },
  {
   "cell_type": "code",
   "execution_count": 12,
   "id": "da86252b-b37b-4e68-8946-1aba75132a96",
   "metadata": {},
   "outputs": [],
   "source": [
    "# your code here"
   ]
  },
  {
   "cell_type": "code",
   "execution_count": null,
   "id": "5f65285e-6459-4be3-9508-848f860394c3",
   "metadata": {},
   "outputs": [],
   "source": []
  },
  {
   "cell_type": "markdown",
   "id": "e4b64de3-3e69-42b4-b876-18348a01b7e0",
   "metadata": {},
   "source": [
    "# Experimental Analysis of robot's consistency of movement\n",
    "\n",
    "1. Create a dataframe from the six sets of data above"
   ]
  },
  {
   "cell_type": "code",
   "execution_count": 19,
   "id": "10219dcf-b75e-4ad6-9e62-dd19747bc585",
   "metadata": {},
   "outputs": [],
   "source": [
    "move_forward_distance = [ (6, 0), (5,0), (4,0), ... , (10,0) ] # 10 data points\n",
    "df_forward = pd.DataFrame(move_foward_distance, columns=['foward_x','forward_y'])"
   ]
  },
  {
   "cell_type": "code",
   "execution_count": 20,
   "id": "6653f28b-aa22-480a-bd37-76c70bff743f",
   "metadata": {},
   "outputs": [],
   "source": [
    "move_backward_distance = [ (6, 0), (5,0), (4,0) , (10,0) ] # 10 data points\n",
    "df_backward = pd.DataFrame(move_backard_distance, columns=['backward_x','backward_y'])"
   ]
  },
  {
   "cell_type": "code",
   "execution_count": 21,
   "id": "8f7789aa-c59b-4803-9b4e-95493882f969",
   "metadata": {},
   "outputs": [],
   "source": [
    "left_move_foward_distance = [ (6, 0), (5,0), (4,0) , (10,0) ] # 10 data points\n",
    "df_left_forward = pd.DataFrame(left_move_foward_distance, columns=['left_forward_x','left_forward_y'])"
   ]
  },
  {
   "cell_type": "code",
   "execution_count": 22,
   "id": "98e95269-d703-465d-8efd-efd33c343bde",
   "metadata": {},
   "outputs": [],
   "source": [
    "right_move_foward_distance = [ (6, 0), (5,0), (4,0) , (10,0) ] # 10 data points\n",
    "df_right_forward = pd.DataFrame(right_move_foward_distance, columns=['right_forward_x','right_forward_y'])"
   ]
  },
  {
   "cell_type": "code",
   "execution_count": 21,
   "id": "e434685d-9ff5-4e74-9cd6-13cb41ee2d98",
   "metadata": {},
   "outputs": [],
   "source": [
    "left_move_backward_distance = [ (6, 0), (5,0), (4,0) , (10,0) ] # 10 data points\n",
    "df_left_backward = pd.DataFrame(left_move_backward_distance, columns=['left_backward_x','left_backward_y'])"
   ]
  },
  {
   "cell_type": "code",
   "execution_count": 22,
   "id": "261a4c6f-2be8-41be-b7a4-14f56108f382",
   "metadata": {},
   "outputs": [],
   "source": [
    "right_move_backward_distance = [ (6, 0), (5,0), (4,0) , (10,0) ] # 10 data points\n",
    "df_right_backward = pd.DataFrame(right_move_foward_distance, columns=['right_backward_x','right_backward_y'])"
   ]
  },
  {
   "cell_type": "markdown",
   "id": "012176f0-6126-45d2-ab58-6b32fb986cc4",
   "metadata": {},
   "source": [
    "# Create a plot for each of the six sets of movement data"
   ]
  },
  {
   "cell_type": "code",
   "execution_count": 4,
   "id": "066725b7-ef02-44d0-8d1f-aeab1cee41c6",
   "metadata": {},
   "outputs": [],
   "source": [
    "# your code here"
   ]
  },
  {
   "cell_type": "code",
   "execution_count": null,
   "id": "81792015-c58d-4fc0-a814-433db796d3c3",
   "metadata": {},
   "outputs": [],
   "source": []
  },
  {
   "cell_type": "markdown",
   "id": "3872e75c-0aa8-45eb-83d2-7f8292c8c82f",
   "metadata": {},
   "source": [
    "# Analyze the data and make at least 1 observation for each type of movement\n",
    "\n",
    "you may use additional charts, aggregation if needed to support your discussion points"
   ]
  },
  {
   "cell_type": "code",
   "execution_count": null,
   "id": "0805a8ab-30a1-42a1-8f9e-caa1e82da592",
   "metadata": {},
   "outputs": [],
   "source": []
  },
  {
   "cell_type": "markdown",
   "id": "12d8accd",
   "metadata": {},
   "source": [
    "# Experimental analysis of captured BMP280 data\n",
    "\n",
    "use your experience with visualization and analysis to plot and make observations of the data you captured"
   ]
  },
  {
   "cell_type": "code",
   "execution_count": null,
   "id": "0fd2037e-469a-4568-a314-6a015935d1d2",
   "metadata": {},
   "outputs": [],
   "source": []
  },
  {
   "cell_type": "markdown",
   "id": "f754cc88",
   "metadata": {},
   "source": [
    "# Experimental analysis of captured Camera data\n",
    "\n",
    "use your experience with visualization and analysis to plot and make observations of the image(s) you captured"
   ]
  }
 ],
 "metadata": {
  "kernelspec": {
   "display_name": "Python 3 (ipykernel)",
   "language": "python",
   "name": "python3"
  },
  "language_info": {
   "codemirror_mode": {
    "name": "ipython",
    "version": 3
   },
   "file_extension": ".py",
   "mimetype": "text/x-python",
   "name": "python",
   "nbconvert_exporter": "python",
   "pygments_lexer": "ipython3",
   "version": "3.9.2"
  }
 },
 "nbformat": 4,
 "nbformat_minor": 5
}
