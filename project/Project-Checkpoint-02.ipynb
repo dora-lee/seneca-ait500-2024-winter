{
 "cells": [
  {
   "cell_type": "markdown",
   "metadata": {
    "id": "uZrFHx3kd-3g"
   },
   "source": [
    "# AIT500 - Course Project Checkpoint 2 (23-Feb-2024)\n",
    "\n",
    "This is a helper notebook to walk you through using threads for motor control.  This allows the main body of your program to read data from the BMP280 to decide which motors should be activated.\n",
    "\n",
    "The code below starts with a basic threading class called `BotThread` and walks you through three versions of incremental code development and testing to implement a program that performs the needed functionality derived from the logic flow diagram discussed in class"
   ]
  },
  {
   "cell_type": "code",
   "execution_count": null,
   "metadata": {
    "id": "2jNAJs2wArFk"
   },
   "outputs": [],
   "source": []
  },
  {
   "cell_type": "code",
   "execution_count": null,
   "metadata": {
    "id": "INYRQJtkAvnS"
   },
   "outputs": [],
   "source": [
    "import threading\n",
    "import time\n",
    "from datetime import datetime as dt\n",
    "\n",
    "# Assuming these bot control functions exist\n",
    "def move_forward(perc_pwm):\n",
    "    print(f\"Percent PWM:{perc_pwm}, Bot moving forward\")\n",
    "\n",
    "def turn_right(perc_pwm):\n",
    "    print(f\"Percent PWM:{perc_pwm}, Bot turning right\")\n",
    "\n",
    "def turn_left(perc_pwm):\n",
    "    print(f\"Percent PWM:{perc_pwm}, Bot turning left\")\n",
    "\n",
    "def move_stop(perc_pwm=0):\n",
    "    print(f\"Percent PWM:{perc_pwm}, Bot stopped\")\n",
    "\n",
    "\n",
    "# Thread class for moving the bot\n",
    "class BotThread(threading.Thread):\n",
    "  def __init__(self, perc_pwm=0):\n",
    "    # default to off with 0% PWM\n",
    "    super().__init__()\n",
    "    self.action_event = threading.Event()\n",
    "    self.current_action = move_stop\n",
    "    self.perc_pwm = perc_pwm\n",
    "\n",
    "  def run(self):\n",
    "    while True:\n",
    "      if self.action_event.is_set():\n",
    "        self.current_action(self.perc_pwm)\n",
    "        self.action_event.clear()  # Reset the event after taking the action\n",
    "      # else:\n",
    "        # Default action continue previous action\n",
    "      time.sleep(.1)  # Add delay to simulate movement time\n",
    "\n",
    "  def update_action(self, new_action, perc_pwm=0):\n",
    "    self.current_action = new_action\n",
    "    self.perc_pwm = perc_pwm\n",
    "    self.action_event.set()"
   ]
  },
  {
   "cell_type": "code",
   "execution_count": null,
   "metadata": {
    "id": "u5CfQ3hzBCOW"
   },
   "outputs": [],
   "source": [
    "def read_BMP280():\n",
    "  return 10"
   ]
  },
  {
   "cell_type": "markdown",
   "metadata": {
    "id": "5Imyce_DTpW-"
   },
   "source": [
    "# Work with threads - v1\n",
    "\n",
    "testing functionality in the `BotThread` class"
   ]
  },
  {
   "cell_type": "code",
   "execution_count": null,
   "metadata": {
    "colab": {
     "base_uri": "https://localhost:8080/"
    },
    "id": "mCMjwz8jUyZw",
    "outputId": "771b463a-b6c6-475d-c276-5eb253b83e74"
   },
   "outputs": [
    {
     "name": "stdout",
     "output_type": "stream",
     "text": [
      "1-20\n",
      "Percent PWM:0.2, Bot turning left\n",
      "2-40\n",
      "Percent PWM:0.3, Bot turning right\n",
      "3-60\n",
      "Percent PWM:0.4, Bot moving forward\n",
      "4-80\n",
      "Percent PWM:0.5, Bot stopped\n"
     ]
    }
   ],
   "source": [
    "perc_pwm = .2\n",
    "MAX_COUNTER = 100\n",
    "\n",
    "# Create and start the bot thread\n",
    "bot_thread = BotThread(perc_pwm=perc_pwm)\n",
    "bot_thread.start()\n",
    "\n",
    "try:\n",
    "  for idx in range(MAX_COUNTER):\n",
    "    sensor_data = read_BMP280()\n",
    "    if idx==20: # after 20 seconds, test turn_left\n",
    "      print(f\"1-{idx}\")\n",
    "      # Sensor value below threshold, signal the bot thread to take different action\n",
    "      bot_thread.update_action(turn_left, 0.2)  # For example, turn left when sensor data is low\n",
    "    elif idx==40: # after 40 seconds, test turn_left\n",
    "      print(f\"2-{idx}\")\n",
    "      # Sensor value below threshold, signal the bot thread to take different action\n",
    "      bot_thread.update_action(turn_right, 0.3)  # For example, turn left when sensor data is low\n",
    "    elif idx==60: # after 60 seconds, test turn_left\n",
    "      print(f\"3-{idx}\")\n",
    "      # Sensor value below threshold, signal the bot thread to take different action\n",
    "      bot_thread.update_action(move_forward, 0.4)  # For example, turn left when sensor data is low\n",
    "    elif idx==80: # after 80 seconds, test turn_left\n",
    "      print(f\"4-{idx}\")\n",
    "      # Sensor value below threshold, signal the bot thread to take different action\n",
    "      bot_thread.update_action(move_stop, 0.5)  # For example, turn left when sensor data is low\n",
    "    time.sleep(.1)  # Polling delay\n",
    "except KeyboardInterrupt:\n",
    "    # Stop the bot and exit cleanly on keyboard interrupt\n",
    "    bot_thread.update_action(move_stop)\n",
    "    bot_thread.join()\n"
   ]
  },
  {
   "cell_type": "markdown",
   "metadata": {
    "id": "fidMfu0uTurQ"
   },
   "source": [
    "# Work with threads - v2\n",
    "\n",
    "incorporate max running time\n",
    "\n",
    "MAX_RUNTIME (in seconds)"
   ]
  },
  {
   "cell_type": "code",
   "execution_count": null,
   "metadata": {
    "colab": {
     "base_uri": "https://localhost:8080/"
    },
    "id": "bY74ecGRA0mz",
    "outputId": "77eae41e-c688-41dd-cb46-e567f0abbc9f"
   },
   "outputs": [
    {
     "name": "stdout",
     "output_type": "stream",
     "text": [
      "1-20\n",
      "Percent PWM:0.2, Bot turning left\n",
      "2-40\n",
      "Percent PWM:0.3, Bot turning right\n",
      "counter at: 60 / 100 - stopped because MAX_RUNTIME seconds triggered\n"
     ]
    }
   ],
   "source": [
    "MAX_RUNTIME=5\n",
    "perc_pwm = .2\n",
    "MAX_COUNTER = 100\n",
    "\n",
    "# Create and start the bot thread\n",
    "bot_thread = BotThread(perc_pwm=perc_pwm)\n",
    "bot_thread.start()\n",
    "\n",
    "start_time = dt.now()\n",
    "\n",
    "try:\n",
    "  for idx in range(MAX_COUNTER):\n",
    "    current_time = dt.now()\n",
    "    if(current_time-start_time).seconds>MAX_RUNTIME:\n",
    "      break\n",
    "\n",
    "    sensor_data = read_BMP280()\n",
    "    if idx==20:\n",
    "      print(f\"1-{idx}\")\n",
    "      # Sensor value below threshold, signal the bot thread to take different action\n",
    "      bot_thread.update_action(turn_left, 0.2)  # For example, turn left when sensor data is low\n",
    "    elif idx==40:\n",
    "      print(f\"2-{idx}\")\n",
    "      # Sensor value below threshold, signal the bot thread to take different action\n",
    "      bot_thread.update_action(turn_right, 0.3)  # For example, turn left when sensor data is low\n",
    "    elif idx==60:\n",
    "      print(f\"3-{idx}\")\n",
    "      # Sensor value below threshold, signal the bot thread to take different action\n",
    "      bot_thread.update_action(move_forward, 0.4)  # For example, turn left when sensor data is low\n",
    "    elif idx==80:\n",
    "      print(f\"4-{idx}\")\n",
    "      # Sensor value below threshold, signal the bot thread to take different action\n",
    "      bot_thread.update_action(move_stop, 0.4)  # For example, turn left when sensor data is low\n",
    "    time.sleep(0.1)  # Polling delay\n",
    "  if(idx<MAX_COUNTER-1):\n",
    "    print(f\"counter at: {idx} / {MAX_COUNTER} - stopped because MAX_RUNTIME seconds triggered\")\n",
    "  else:\n",
    "    print(f\"counter at: {idx} / {MAX_COUNTER} - stopped because for-loop completed\")\n",
    "except KeyboardInterrupt:\n",
    "    # Stop the bot and exit cleanly on keyboard interrupt\n",
    "    bot_thread.update_action(move_stop)\n",
    "    bot_thread.join()\n"
   ]
  },
  {
   "cell_type": "markdown",
   "metadata": {
    "id": "a2loTZIFUqUB"
   },
   "source": [
    "# Work with threads - v3\n",
    "\n",
    "incorporate temperature control thresholds\n",
    "```\n",
    "LEFT_TEMP\n",
    "RIGHT_TEMP\n",
    "STOP_TEMP\n",
    "```"
   ]
  },
  {
   "cell_type": "code",
   "execution_count": null,
   "metadata": {
    "id": "SACPrfuxPoI2"
   },
   "outputs": [],
   "source": []
  },
  {
   "cell_type": "code",
   "execution_count": null,
   "metadata": {
    "id": "hz2L8iP3MaQR"
   },
   "outputs": [],
   "source": [
    "def read_BMP280(idx=0):\n",
    "    # simulate applying hot or cold to the BMP280 sensor\n",
    "    if idx<20:\n",
    "      return 23 # room temperature\n",
    "    elif (idx>=20)&(idx<40):\n",
    "      return 35 # hot\n",
    "    elif (idx>=40)&(idx<60):\n",
    "      return 28 # down to room temperature\n",
    "    elif (idx>=60)&(idx<80):\n",
    "      return 10 # down to cold temperature\n",
    "    elif idx>=80:\n",
    "      return 5 # very cold\n",
    "    else:\n",
    "      return 23\n"
   ]
  },
  {
   "cell_type": "code",
   "execution_count": null,
   "metadata": {
    "colab": {
     "base_uri": "https://localhost:8080/"
    },
    "id": "g1Bj_1wPBLtA",
    "outputId": "07d87076-30e7-4112-8759-1298bd8642d1"
   },
   "outputs": [
    {
     "name": "stdout",
     "output_type": "stream",
     "text": [
      ">1-0, 23<Percent PWM:0.4, Bot moving forward\n",
      ">1-1, 23<Percent PWM:0.4, Bot moving forward\n",
      ">1-2, 23<Percent PWM:0.4, Bot moving forward\n",
      ">1-3, 23<Percent PWM:0.4, Bot moving forward\n",
      ">1-4, 23<Percent PWM:0.4, Bot moving forward\n",
      ">1-5, 23<Percent PWM:0.4, Bot moving forward\n",
      ">1-6, 23<Percent PWM:0.4, Bot moving forward\n",
      ">1-7, 23<Percent PWM:0.4, Bot moving forward\n",
      ">1-8, 23<Percent PWM:0.4, Bot moving forward\n",
      ">1-9, 23<Percent PWM:0.4, Bot moving forward\n",
      ">1-10, 23<Percent PWM:0.4, Bot moving forward\n",
      ">1-11, 23<Percent PWM:0.4, Bot moving forward\n",
      ">1-12, 23<Percent PWM:0.4, Bot moving forward\n",
      ">1-13, 23<Percent PWM:0.4, Bot moving forward\n",
      ">1-14, 23<Percent PWM:0.4, Bot moving forward\n",
      ">1-15, 23<Percent PWM:0.4, Bot moving forward\n",
      ">1-16, 23<Percent PWM:0.4, Bot moving forward\n",
      ">1-17, 23<Percent PWM:0.4, Bot moving forward\n",
      ">1-18, 23<Percent PWM:0.4, Bot moving forward\n",
      ">1-19, 23<Percent PWM:0.4, Bot moving forward\n",
      ">4-20, 35<Percent PWM:0.2, Bot turning right\n",
      ">4-21, 35<Percent PWM:0.2, Bot turning right\n",
      ">4-22, 35<Percent PWM:0.2, Bot turning right\n",
      ">4-23, 35<Percent PWM:0.2, Bot turning right\n",
      ">4-24, 35<Percent PWM:0.2, Bot turning right\n",
      ">4-25, 35<Percent PWM:0.2, Bot turning right\n",
      ">4-26, 35<Percent PWM:0.2, Bot turning right\n",
      ">4-27, 35<Percent PWM:0.2, Bot turning right\n",
      ">4-28, 35<Percent PWM:0.2, Bot turning right\n",
      ">4-29, 35<Percent PWM:0.2, Bot turning right\n",
      ">4-30, 35<Percent PWM:0.2, Bot turning right\n",
      ">4-31, 35<Percent PWM:0.2, Bot turning right\n",
      ">4-32, 35<Percent PWM:0.2, Bot turning right\n",
      ">4-33, 35<Percent PWM:0.2, Bot turning right\n",
      ">4-34, 35<Percent PWM:0.2, Bot turning right\n",
      ">4-35, 35<Percent PWM:0.2, Bot turning right\n",
      ">4-36, 35<Percent PWM:0.2, Bot turning right\n",
      ">4-37, 35<Percent PWM:0.2, Bot turning right\n",
      ">4-38, 35<Percent PWM:0.2, Bot turning right\n",
      ">4-39, 35<Percent PWM:0.2, Bot turning right\n",
      ">1-40, 28<Percent PWM:0.4, Bot moving forward\n",
      ">1-41, 28<Percent PWM:0.4, Bot moving forward\n",
      ">1-42, 28<Percent PWM:0.4, Bot moving forward\n",
      ">1-43, 28<Percent PWM:0.4, Bot moving forward\n",
      ">1-44, 28<Percent PWM:0.4, Bot moving forward\n",
      ">1-45, 28<Percent PWM:0.4, Bot moving forward\n",
      ">1-46, 28<Percent PWM:0.4, Bot moving forward\n",
      ">1-47, 28<Percent PWM:0.4, Bot moving forward\n",
      ">1-48, 28<Percent PWM:0.4, Bot moving forward\n",
      ">1-49, 28<Percent PWM:0.4, Bot moving forward\n",
      ">1-50, 28<Percent PWM:0.4, Bot moving forward\n",
      ">1-51, 28<Percent PWM:0.4, Bot moving forward\n",
      ">1-52, 28<Percent PWM:0.4, Bot moving forward\n",
      ">1-53, 28<Percent PWM:0.4, Bot moving forward\n",
      ">1-54, 28<Percent PWM:0.4, Bot moving forward\n",
      ">1-55, 28<Percent PWM:0.4, Bot moving forward\n",
      ">1-56, 28<Percent PWM:0.4, Bot moving forward\n",
      ">1-57, 28<Percent PWM:0.4, Bot moving forward\n",
      ">1-58, 28<Percent PWM:0.4, Bot moving forward\n",
      ">1-59, 28<Percent PWM:0.4, Bot moving forward\n",
      ">3-60, 10<Percent PWM:0.2, Bot turning left\n",
      ">3-61, 10<Percent PWM:0.2, Bot turning left\n",
      ">3-62, 10<Percent PWM:0.2, Bot turning left\n",
      ">3-63, 10<Percent PWM:0.2, Bot turning left\n",
      ">3-64, 10<Percent PWM:0.2, Bot turning left\n",
      ">3-65, 10<Percent PWM:0.2, Bot turning left\n",
      ">3-66, 10<Percent PWM:0.2, Bot turning left\n",
      ">3-67, 10<Percent PWM:0.2, Bot turning left\n",
      ">3-68, 10<Percent PWM:0.2, Bot turning left\n",
      ">3-69, 10<Percent PWM:0.2, Bot turning left\n",
      ">3-70, 10<Percent PWM:0.2, Bot turning left\n",
      ">3-71, 10<Percent PWM:0.2, Bot turning left\n",
      ">3-72, 10<Percent PWM:0.2, Bot turning left\n",
      ">3-73, 10<Percent PWM:0.2, Bot turning left\n",
      ">3-74, 10<Percent PWM:0.2, Bot turning left\n",
      ">3-75, 10<Percent PWM:0.2, Bot turning left\n",
      ">3-76, 10<Percent PWM:0.2, Bot turning left\n",
      ">3-77, 10<Percent PWM:0.2, Bot turning left\n",
      ">3-78, 10<Percent PWM:0.2, Bot turning left\n",
      ">3-79, 10<Percent PWM:0.2, Bot turning left\n",
      ">2-80, 5<Percent PWM:0, Bot stopped\n",
      ">2-81, 5<Percent PWM:0, Bot stopped\n",
      ">2-82, 5<Percent PWM:0, Bot stopped\n",
      ">2-83, 5<Percent PWM:0, Bot stopped\n",
      ">2-84, 5<Percent PWM:0, Bot stopped\n",
      ">2-85, 5<Percent PWM:0, Bot stopped\n",
      ">2-86, 5<Percent PWM:0, Bot stopped\n",
      ">2-87, 5<Percent PWM:0, Bot stopped\n",
      ">2-88, 5<Percent PWM:0, Bot stopped\n",
      ">2-89, 5<Percent PWM:0, Bot stopped\n",
      ">2-90, 5<Percent PWM:0, Bot stopped\n",
      ">2-91, 5<Percent PWM:0, Bot stopped\n",
      ">2-92, 5<Percent PWM:0, Bot stopped\n",
      ">2-93, 5<Percent PWM:0, Bot stopped\n",
      ">2-94, 5<Percent PWM:0, Bot stopped\n",
      ">2-95, 5<Percent PWM:0, Bot stopped\n",
      ">2-96, 5<Percent PWM:0, Bot stopped\n",
      ">2-97, 5<Percent PWM:0, Bot stopped\n",
      ">2-98, 5<Percent PWM:0, Bot stopped\n",
      ">2-99, 5<Percent PWM:0, Bot stopped\n",
      "counter at: 99 / 100 - stopped because for-loop completed\n"
     ]
    }
   ],
   "source": [
    "MAX_RUNTIME=50\n",
    "perc_pwm = .2\n",
    "MAX_COUNTER = 100\n",
    "\n",
    "LEFT_TEMP = 16\n",
    "RIGHT_TEMP = 30\n",
    "STOP_TEMP = 5\n",
    "\n",
    "# Create and start the bot thread\n",
    "bot_thread = BotThread(perc_pwm=perc_pwm)\n",
    "bot_thread.start()\n",
    "\n",
    "start_time = dt.now()\n",
    "\n",
    "sensor_data = 23\n",
    "try:\n",
    "  for idx in range(MAX_COUNTER):\n",
    "    current_time = dt.now()\n",
    "    if(current_time-start_time).seconds>MAX_RUNTIME:\n",
    "      break\n",
    "\n",
    "    # simulate applying hot or cold to the BMP280 sensor\n",
    "    sensor_data = read_BMP280(idx)\n",
    "\n",
    "    if (sensor_data<=RIGHT_TEMP) & (sensor_data>LEFT_TEMP):\n",
    "      print(f\">1-{idx}, {sensor_data}<\", end=\"\")\n",
    "      # Sensor value in neutral range, move forward\n",
    "      bot_thread.update_action(move_forward, 0.4)\n",
    "    elif sensor_data<=STOP_TEMP:\n",
    "      print(f\">2-{idx}, {sensor_data}<\", end=\"\")\n",
    "      # Sensor value below stop threshold, stop\n",
    "      bot_thread.update_action(move_stop)\n",
    "    elif (sensor_data>STOP_TEMP) & (sensor_data<=LEFT_TEMP):\n",
    "      print(f\">3-{idx}, {sensor_data}<\", end=\"\")\n",
    "      # Sensor value in left turn range\n",
    "      bot_thread.update_action(turn_left, 0.2)\n",
    "    elif sensor_data>=RIGHT_TEMP:\n",
    "      print(f\">4-{idx}, {sensor_data}<\", end=\"\")\n",
    "      # Sensor value in right turn range\n",
    "      bot_thread.update_action(turn_right, 0.2)\n",
    "\n",
    "    time.sleep(.5)  # Polling delay\n",
    "\n",
    "  if(idx<MAX_COUNTER-1):\n",
    "    print(f\"counter at: {idx} / {MAX_COUNTER} - stopped because MAX_RUNTIME seconds triggered\")\n",
    "  else:\n",
    "    print(f\"counter at: {idx} / {MAX_COUNTER} - stopped because for-loop completed\")\n",
    "except KeyboardInterrupt:\n",
    "    # Stop the bot and exit cleanly on keyboard interrupt\n",
    "    bot_thread.update_action(move_stop)\n",
    "    bot_thread.join()\n"
   ]
  },
  {
   "cell_type": "code",
   "execution_count": null,
   "metadata": {
    "id": "VSEaVvKhM1CA"
   },
   "outputs": [],
   "source": []
  },
  {
   "cell_type": "code",
   "execution_count": null,
   "metadata": {
    "id": "knHMdjojM3AF"
   },
   "outputs": [],
   "source": []
  },
  {
   "cell_type": "code",
   "execution_count": null,
   "metadata": {
    "id": "gYosrfKcdEXq"
   },
   "outputs": [],
   "source": []
  },
  {
   "cell_type": "code",
   "execution_count": null,
   "metadata": {
    "id": "_gUBt072dFrk"
   },
   "outputs": [],
   "source": []
  }
 ],
 "metadata": {
  "colab": {
   "provenance": []
  },
  "kernelspec": {
   "display_name": "Python 3 (ipykernel)",
   "language": "python",
   "name": "python3"
  },
  "language_info": {
   "codemirror_mode": {
    "name": "ipython",
    "version": 3
   },
   "file_extension": ".py",
   "mimetype": "text/x-python",
   "name": "python",
   "nbconvert_exporter": "python",
   "pygments_lexer": "ipython3",
   "version": "3.9.2"
  }
 },
 "nbformat": 4,
 "nbformat_minor": 4
}
